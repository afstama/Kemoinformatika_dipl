{
 "cells": [
  {
   "cell_type": "code",
   "execution_count": 48,
   "metadata": {
    "colab": {
     "base_uri": "https://localhost:8080/",
     "height": 495
    },
    "id": "inFa_x_7EQD_",
    "outputId": "3e65bd4a-cde0-4a22-df53-cc3f85ccaef4"
   },
   "outputs": [],
   "source": [
    "# !pip install 'numpy>=1.20,<1.24'\n",
    "# # verzija niz od 1.24 zbog problema s numpy float"
   ]
  },
  {
   "cell_type": "code",
   "execution_count": 1,
   "metadata": {
    "id": "sdpOE2h_xX7O"
   },
   "outputs": [],
   "source": [
    "import pandas as pd\n",
    "import numpy as np\n",
    "import requests\n",
    "import json\n",
    "import xmltodict\n",
    "from rdkit import Chem\n",
    "from mordred import Calculator, descriptors\n",
    "import matplotlib.pyplot as plt\n",
    "from sklearn.model_selection import train_test_split"
   ]
  },
  {
   "cell_type": "code",
   "execution_count": 50,
   "metadata": {
    "colab": {
     "base_uri": "https://localhost:8080/"
    },
    "id": "YEwEe7HBzGs5",
    "outputId": "521ffd16-3676-453d-d144-5dbed3967fe1"
   },
   "outputs": [],
   "source": [
    "# from google.colab import drive\n",
    "# drive.mount('/content/drive')"
   ]
  },
  {
   "cell_type": "markdown",
   "metadata": {
    "id": "i-HAa4bnxX7P"
   },
   "source": [
    "### 1. Učitavanje podataka"
   ]
  },
  {
   "cell_type": "code",
   "execution_count": 2,
   "metadata": {
    "id": "6wAp5F9xzSDq"
   },
   "outputs": [],
   "source": [
    "# path = \"/content/drive/My Drive/kemoinf/data/dopamine.csv\"\n",
    "path = \"./data/dopamine.csv\""
   ]
  },
  {
   "cell_type": "code",
   "execution_count": 3,
   "metadata": {
    "colab": {
     "base_uri": "https://localhost:8080/",
     "height": 423
    },
    "id": "9enBF3UVxX7R",
    "outputId": "970b9fda-be82-4892-d340-cfff02b0608a"
   },
   "outputs": [
    {
     "data": {
      "text/html": [
       "<div>\n",
       "<style scoped>\n",
       "    .dataframe tbody tr th:only-of-type {\n",
       "        vertical-align: middle;\n",
       "    }\n",
       "\n",
       "    .dataframe tbody tr th {\n",
       "        vertical-align: top;\n",
       "    }\n",
       "\n",
       "    .dataframe thead th {\n",
       "        text-align: right;\n",
       "    }\n",
       "</style>\n",
       "<table border=\"1\" class=\"dataframe\">\n",
       "  <thead>\n",
       "    <tr style=\"text-align: right;\">\n",
       "      <th></th>\n",
       "      <th>ChEMBL_ID</th>\n",
       "      <th>pIC50</th>\n",
       "    </tr>\n",
       "  </thead>\n",
       "  <tbody>\n",
       "    <tr>\n",
       "      <th>0</th>\n",
       "      <td>CHEMBL303519</td>\n",
       "      <td>5.01</td>\n",
       "    </tr>\n",
       "    <tr>\n",
       "      <th>1</th>\n",
       "      <td>CHEMBL292943</td>\n",
       "      <td>7.30</td>\n",
       "    </tr>\n",
       "    <tr>\n",
       "      <th>2</th>\n",
       "      <td>CHEMBL61682</td>\n",
       "      <td>7.60</td>\n",
       "    </tr>\n",
       "    <tr>\n",
       "      <th>3</th>\n",
       "      <td>CHEMBL64487</td>\n",
       "      <td>6.44</td>\n",
       "    </tr>\n",
       "    <tr>\n",
       "      <th>4</th>\n",
       "      <td>CHEMBL64597</td>\n",
       "      <td>6.52</td>\n",
       "    </tr>\n",
       "    <tr>\n",
       "      <th>...</th>\n",
       "      <td>...</td>\n",
       "      <td>...</td>\n",
       "    </tr>\n",
       "    <tr>\n",
       "      <th>474</th>\n",
       "      <td>CHEMBL3805434</td>\n",
       "      <td>7.42</td>\n",
       "    </tr>\n",
       "    <tr>\n",
       "      <th>475</th>\n",
       "      <td>CHEMBL3805327</td>\n",
       "      <td>7.23</td>\n",
       "    </tr>\n",
       "    <tr>\n",
       "      <th>476</th>\n",
       "      <td>CHEMBL3805262</td>\n",
       "      <td>5.80</td>\n",
       "    </tr>\n",
       "    <tr>\n",
       "      <th>477</th>\n",
       "      <td>CHEMBL3805515</td>\n",
       "      <td>6.70</td>\n",
       "    </tr>\n",
       "    <tr>\n",
       "      <th>478</th>\n",
       "      <td>CHEMBL3805046</td>\n",
       "      <td>6.77</td>\n",
       "    </tr>\n",
       "  </tbody>\n",
       "</table>\n",
       "<p>479 rows × 2 columns</p>\n",
       "</div>"
      ],
      "text/plain": [
       "         ChEMBL_ID  pIC50\n",
       "0     CHEMBL303519   5.01\n",
       "1     CHEMBL292943   7.30\n",
       "2      CHEMBL61682   7.60\n",
       "3      CHEMBL64487   6.44\n",
       "4      CHEMBL64597   6.52\n",
       "..             ...    ...\n",
       "474  CHEMBL3805434   7.42\n",
       "475  CHEMBL3805327   7.23\n",
       "476  CHEMBL3805262   5.80\n",
       "477  CHEMBL3805515   6.70\n",
       "478  CHEMBL3805046   6.77\n",
       "\n",
       "[479 rows x 2 columns]"
      ]
     },
     "execution_count": 3,
     "metadata": {},
     "output_type": "execute_result"
    }
   ],
   "source": [
    "data = pd.read_csv(path, index_col=0)\n",
    "data"
   ]
  },
  {
   "cell_type": "markdown",
   "metadata": {
    "id": "p3ZBxPB0xX7R"
   },
   "source": [
    "### 2. Dohvaćanje SMILES zapisa\n",
    "\n",
    "Retrieve SMILES representation for each molecule using the ChEMBL REST API through your Python environment.\n",
    "\n",
    "Make SMILES canonical by using rdkit Python package."
   ]
  },
  {
   "cell_type": "code",
   "execution_count": 4,
   "metadata": {
    "id": "_bLAb0XMxX7R"
   },
   "outputs": [],
   "source": [
    "smiles = []\n",
    "for mol_id in data.ChEMBL_ID:\n",
    "    response = requests.get(f'https://www.ebi.ac.uk/chembl/api/data/molecule/{mol_id}')\n",
    "    smiles.append(Chem.CanonSmiles(xmltodict.parse(response.text)['molecule']['molecule_structures']['canonical_smiles']))\n",
    "data['smiles'] = smiles\n",
    "# data.to_csv('./data/temp.csv', index=False)"
   ]
  },
  {
   "cell_type": "code",
   "execution_count": 5,
   "metadata": {
    "colab": {
     "base_uri": "https://localhost:8080/",
     "height": 423
    },
    "id": "Zkf80sBE4Axq",
    "outputId": "773b3a79-3654-4635-872b-d40f3dfd22c5"
   },
   "outputs": [
    {
     "data": {
      "text/html": [
       "<div>\n",
       "<style scoped>\n",
       "    .dataframe tbody tr th:only-of-type {\n",
       "        vertical-align: middle;\n",
       "    }\n",
       "\n",
       "    .dataframe tbody tr th {\n",
       "        vertical-align: top;\n",
       "    }\n",
       "\n",
       "    .dataframe thead th {\n",
       "        text-align: right;\n",
       "    }\n",
       "</style>\n",
       "<table border=\"1\" class=\"dataframe\">\n",
       "  <thead>\n",
       "    <tr style=\"text-align: right;\">\n",
       "      <th></th>\n",
       "      <th>ChEMBL_ID</th>\n",
       "      <th>pIC50</th>\n",
       "      <th>smiles</th>\n",
       "    </tr>\n",
       "  </thead>\n",
       "  <tbody>\n",
       "    <tr>\n",
       "      <th>0</th>\n",
       "      <td>CHEMBL303519</td>\n",
       "      <td>5.01</td>\n",
       "      <td>c1cnc(N2CCN(Cc3cccc4c3Cc3ccccc3-4)CC2)nc1</td>\n",
       "    </tr>\n",
       "    <tr>\n",
       "      <th>1</th>\n",
       "      <td>CHEMBL292943</td>\n",
       "      <td>7.30</td>\n",
       "      <td>COc1ccc(-c2cccc(CN3CCN(c4ncccn4)CC3)c2)cc1</td>\n",
       "    </tr>\n",
       "    <tr>\n",
       "      <th>2</th>\n",
       "      <td>CHEMBL61682</td>\n",
       "      <td>7.60</td>\n",
       "      <td>Fc1ccc(-c2cncc(CN3CCN(c4ccccc4F)CC3)c2)cc1</td>\n",
       "    </tr>\n",
       "    <tr>\n",
       "      <th>3</th>\n",
       "      <td>CHEMBL64487</td>\n",
       "      <td>6.44</td>\n",
       "      <td>COc1ccccc1-c1cccc(CN2CCN(c3ncccn3)CC2)c1</td>\n",
       "    </tr>\n",
       "    <tr>\n",
       "      <th>4</th>\n",
       "      <td>CHEMBL64597</td>\n",
       "      <td>6.52</td>\n",
       "      <td>c1cnc(N2CCN(Cc3cccc(-c4ccsc4)c3)CC2)nc1</td>\n",
       "    </tr>\n",
       "    <tr>\n",
       "      <th>...</th>\n",
       "      <td>...</td>\n",
       "      <td>...</td>\n",
       "      <td>...</td>\n",
       "    </tr>\n",
       "    <tr>\n",
       "      <th>474</th>\n",
       "      <td>CHEMBL3805434</td>\n",
       "      <td>7.42</td>\n",
       "      <td>CNC(=O)c1cc(OCCCCN2CCN(c3cccc(Cl)c3Cl)CC2)cc(C...</td>\n",
       "    </tr>\n",
       "    <tr>\n",
       "      <th>475</th>\n",
       "      <td>CHEMBL3805327</td>\n",
       "      <td>7.23</td>\n",
       "      <td>CNC(=O)c1ccc(Cl)c(OCCCCN2CCN(c3cccc(Cl)c3Cl)CC...</td>\n",
       "    </tr>\n",
       "    <tr>\n",
       "      <th>476</th>\n",
       "      <td>CHEMBL3805262</td>\n",
       "      <td>5.80</td>\n",
       "      <td>CNC(=O)c1cc(F)cc(OCCCCN2CCN(c3cccc(Cl)c3Cl)CC2)c1</td>\n",
       "    </tr>\n",
       "    <tr>\n",
       "      <th>477</th>\n",
       "      <td>CHEMBL3805515</td>\n",
       "      <td>6.70</td>\n",
       "      <td>CNC(=O)c1cccc(OCCCCN2CCN(c3cccc(Cl)c3Cl)CC2)c1OC</td>\n",
       "    </tr>\n",
       "    <tr>\n",
       "      <th>478</th>\n",
       "      <td>CHEMBL3805046</td>\n",
       "      <td>6.77</td>\n",
       "      <td>CNC(=O)c1cccc(OCCCCN2CCN(c3cccc(Cl)c3Cl)CC2)c1F</td>\n",
       "    </tr>\n",
       "  </tbody>\n",
       "</table>\n",
       "<p>479 rows × 3 columns</p>\n",
       "</div>"
      ],
      "text/plain": [
       "         ChEMBL_ID  pIC50                                             smiles\n",
       "0     CHEMBL303519   5.01          c1cnc(N2CCN(Cc3cccc4c3Cc3ccccc3-4)CC2)nc1\n",
       "1     CHEMBL292943   7.30         COc1ccc(-c2cccc(CN3CCN(c4ncccn4)CC3)c2)cc1\n",
       "2      CHEMBL61682   7.60         Fc1ccc(-c2cncc(CN3CCN(c4ccccc4F)CC3)c2)cc1\n",
       "3      CHEMBL64487   6.44           COc1ccccc1-c1cccc(CN2CCN(c3ncccn3)CC2)c1\n",
       "4      CHEMBL64597   6.52            c1cnc(N2CCN(Cc3cccc(-c4ccsc4)c3)CC2)nc1\n",
       "..             ...    ...                                                ...\n",
       "474  CHEMBL3805434   7.42  CNC(=O)c1cc(OCCCCN2CCN(c3cccc(Cl)c3Cl)CC2)cc(C...\n",
       "475  CHEMBL3805327   7.23  CNC(=O)c1ccc(Cl)c(OCCCCN2CCN(c3cccc(Cl)c3Cl)CC...\n",
       "476  CHEMBL3805262   5.80  CNC(=O)c1cc(F)cc(OCCCCN2CCN(c3cccc(Cl)c3Cl)CC2)c1\n",
       "477  CHEMBL3805515   6.70   CNC(=O)c1cccc(OCCCCN2CCN(c3cccc(Cl)c3Cl)CC2)c1OC\n",
       "478  CHEMBL3805046   6.77    CNC(=O)c1cccc(OCCCCN2CCN(c3cccc(Cl)c3Cl)CC2)c1F\n",
       "\n",
       "[479 rows x 3 columns]"
      ]
     },
     "execution_count": 5,
     "metadata": {},
     "output_type": "execute_result"
    }
   ],
   "source": [
    "data"
   ]
  },
  {
   "cell_type": "markdown",
   "metadata": {
    "id": "w4uzmGxSxX7S"
   },
   "source": [
    "### 3. Računanje moleklularnih deskriptora\n",
    "Calculate molecular descriptors by using Mordred Python package or some other available molecular descriptor calculator. Use all available 0D, 1D, 2D and 3D molecular descriptors\n",
    "\n",
    "\n",
    "- 0D descriptors: Molecular weight, atom count, etc.\n",
    "- 1D descriptors: Simple structural features\n",
    "- 2D descriptors: Topological and connectivity-based descriptors\n",
    "- 3D descriptors: Geometric and spatial characteristics\n",
    "\n",
    "https://mordred-descriptor.github.io/documentation/master/descriptors.html"
   ]
  },
  {
   "cell_type": "code",
   "execution_count": 6,
   "metadata": {
    "colab": {
     "base_uri": "https://localhost:8080/"
    },
    "id": "Y0cbPufZag33",
    "outputId": "b503464d-4a81-4f7d-8201-2f26c2b3765e"
   },
   "outputs": [
    {
     "name": "stdout",
     "output_type": "stream",
     "text": [
      "Converting SMILES to 3D structures and generating SDF file...\n",
      "Calculating descriptors...\n"
     ]
    },
    {
     "name": "stderr",
     "output_type": "stream",
     "text": [
      "  3%|▎         | 14/479 [00:03<01:19,  5.83it/s]"
     ]
    },
    {
     "name": "stdout",
     "output_type": "stream",
     "text": [
      "c:\\Users\\afs\\anaconda3\\envs\\oldPy36\\lib\\site-packages\\numpy\\core\\fromnumeric.py:87: RuntimeWarning: overflow encountered in reduce\n",
      "  return ufunc.reduce(obj, axis, dtype, out, **passkwargs)\n"
     ]
    },
    {
     "name": "stderr",
     "output_type": "stream",
     "text": [
      " 15%|█▍        | 70/479 [00:06<00:22, 18.03it/s]"
     ]
    },
    {
     "name": "stdout",
     "output_type": "stream",
     "text": [
      "c:\\Users\\afs\\anaconda3\\envs\\oldPy36\\lib\\site-packages\\numpy\\core\\fromnumeric.py:87: RuntimeWarning: overflow encountered in reduce\n",
      "  return ufunc.reduce(obj, axis, dtype, out, **passkwargs)\n"
     ]
    },
    {
     "name": "stderr",
     "output_type": "stream",
     "text": [
      " 18%|█▊        | 88/479 [00:08<00:33, 11.84it/s]"
     ]
    },
    {
     "name": "stdout",
     "output_type": "stream",
     "text": [
      "c:\\Users\\afs\\anaconda3\\envs\\oldPy36\\lib\\site-packages\\numpy\\core\\fromnumeric.py:87: RuntimeWarning: overflow encountered in reduce\n",
      "  return ufunc.reduce(obj, axis, dtype, out, **passkwargs)\n",
      "c:\\Users\\afs\\anaconda3\\envs\\oldPy36\\lib\\site-packages\\numpy\\core\\fromnumeric.py:87: RuntimeWarning: overflow encountered in reduce\n",
      "  return ufunc.reduce(obj, axis, dtype, out, **passkwargs)\n",
      "c:\\Users\\afs\\anaconda3\\envs\\oldPy36\\lib\\site-packages\\numpy\\core\\fromnumeric.py:87: RuntimeWarning: overflow encountered in reduce\n",
      "  return ufunc.reduce(obj, axis, dtype, out, **passkwargs)\n",
      "c:\\Users\\afs\\anaconda3\\envs\\oldPy36\\lib\\site-packages\\numpy\\core\\fromnumeric.py:87: RuntimeWarning: overflow encountered in reduce\n",
      "  return ufunc.reduce(obj, axis, dtype, out, **passkwargs)\n",
      "c:\\Users\\afs\\anaconda3\\envs\\oldPy36\\lib\\site-packages\\numpy\\core\\fromnumeric.py:87: RuntimeWarning: overflow encountered in reduce\n",
      "  return ufunc.reduce(obj, axis, dtype, out, **passkwargs)\n"
     ]
    },
    {
     "name": "stderr",
     "output_type": "stream",
     "text": [
      " 37%|███▋      | 176/479 [00:17<00:34,  8.82it/s]"
     ]
    },
    {
     "name": "stdout",
     "output_type": "stream",
     "text": [
      "c:\\Users\\afs\\anaconda3\\envs\\oldPy36\\lib\\site-packages\\numpy\\core\\fromnumeric.py:87: RuntimeWarning: overflow encountered in reduce\n",
      "  return ufunc.reduce(obj, axis, dtype, out, **passkwargs)\n"
     ]
    },
    {
     "name": "stderr",
     "output_type": "stream",
     "text": [
      " 72%|███████▏  | 343/479 [00:32<00:07, 18.57it/s]"
     ]
    },
    {
     "name": "stdout",
     "output_type": "stream",
     "text": [
      "c:\\Users\\afs\\anaconda3\\envs\\oldPy36\\lib\\site-packages\\numpy\\core\\fromnumeric.py:87: RuntimeWarning: overflow encountered in reduce\n",
      "  return ufunc.reduce(obj, axis, dtype, out, **passkwargs)\n"
     ]
    },
    {
     "name": "stderr",
     "output_type": "stream",
     "text": [
      " 72%|███████▏  | 346/479 [00:35<00:07, 18.57it/s]"
     ]
    },
    {
     "name": "stdout",
     "output_type": "stream",
     "text": [
      "c:\\Users\\afs\\anaconda3\\envs\\oldPy36\\lib\\site-packages\\numpy\\core\\fromnumeric.py:87: RuntimeWarning: overflow encountered in reduce\n",
      "  return ufunc.reduce(obj, axis, dtype, out, **passkwargs)\n"
     ]
    },
    {
     "name": "stderr",
     "output_type": "stream",
     "text": [
      " 74%|███████▎  | 353/479 [00:38<00:26,  4.69it/s]"
     ]
    },
    {
     "name": "stdout",
     "output_type": "stream",
     "text": [
      "c:\\Users\\afs\\anaconda3\\envs\\oldPy36\\lib\\site-packages\\numpy\\core\\fromnumeric.py:87: RuntimeWarning: overflow encountered in reduce\n",
      "  return ufunc.reduce(obj, axis, dtype, out, **passkwargs)\n",
      "c:\\Users\\afs\\anaconda3\\envs\\oldPy36\\lib\\site-packages\\numpy\\core\\fromnumeric.py:87: RuntimeWarning: overflow encountered in reduce\n",
      "  return ufunc.reduce(obj, axis, dtype, out, **passkwargs)\n"
     ]
    },
    {
     "name": "stderr",
     "output_type": "stream",
     "text": [
      " 77%|███████▋  | 370/479 [00:38<00:13,  7.84it/s]"
     ]
    },
    {
     "name": "stdout",
     "output_type": "stream",
     "text": [
      "c:\\Users\\afs\\anaconda3\\envs\\oldPy36\\lib\\site-packages\\numpy\\core\\fromnumeric.py:87: RuntimeWarning: overflow encountered in reduce\n",
      "  return ufunc.reduce(obj, axis, dtype, out, **passkwargs)\n"
     ]
    },
    {
     "name": "stderr",
     "output_type": "stream",
     "text": [
      " 89%|████████▊ | 425/479 [00:47<00:12,  4.27it/s]"
     ]
    },
    {
     "name": "stdout",
     "output_type": "stream",
     "text": [
      "c:\\Users\\afs\\anaconda3\\envs\\oldPy36\\lib\\site-packages\\numpy\\core\\fromnumeric.py:87: RuntimeWarning: overflow encountered in reduce\n",
      "  return ufunc.reduce(obj, axis, dtype, out, **passkwargs)\n",
      "c:\\Users\\afs\\anaconda3\\envs\\oldPy36\\lib\\site-packages\\numpy\\core\\fromnumeric.py:87: RuntimeWarning: overflow encountered in reduce\n",
      "  return ufunc.reduce(obj, axis, dtype, out, **passkwargs)\n",
      "c:\\Users\\afs\\anaconda3\\envs\\oldPy36\\lib\\site-packages\\numpy\\core\\fromnumeric.py:87: RuntimeWarning: overflow encountered in reduce\n",
      "  return ufunc.reduce(obj, axis, dtype, out, **passkwargs)\n"
     ]
    },
    {
     "name": "stderr",
     "output_type": "stream",
     "text": [
      "100%|██████████| 479/479 [00:50<00:00,  9.51it/s]\n"
     ]
    },
    {
     "name": "stdout",
     "output_type": "stream",
     "text": [
      "\n",
      "Dataset Summary:\n",
      "Total molecules processed: 479\n",
      "Total features generated: 1829\n"
     ]
    }
   ],
   "source": [
    "from rdkit import Chem\n",
    "from rdkit.Chem import AllChem\n",
    "from mordred import Calculator, descriptors\n",
    "import pandas as pd\n",
    "import tempfile\n",
    "import os\n",
    "\n",
    "def generate_3d_conformer(mol):\n",
    "    \"\"\"\n",
    "    Generate 3D conformer for a molecule.\n",
    "    \"\"\"\n",
    "    mol = Chem.AddHs(mol)\n",
    "    success = AllChem.EmbedMolecule(mol, randomSeed=42, useRandomCoords=True)\n",
    "    if success == -1:\n",
    "        return None\n",
    "    try:\n",
    "        AllChem.MMFFOptimizeMolecule(mol)\n",
    "    except:\n",
    "        try:\n",
    "            AllChem.UFFOptimizeMolecule(mol)\n",
    "        except:\n",
    "            return None\n",
    "    return mol\n",
    "\n",
    "def smiles_to_sdf(df, smiles_col='smiles', id_col='ChEMBL_ID'):\n",
    "    \"\"\"\n",
    "    Convert SMILES to SDF file with 3D conformers.\n",
    "    \"\"\"\n",
    "    mols = []\n",
    "    valid_indices = []\n",
    "\n",
    "    for idx, row in df.iterrows():\n",
    "        mol = Chem.MolFromSmiles(row[smiles_col])\n",
    "        if mol is not None:\n",
    "            mol_3d = generate_3d_conformer(mol)\n",
    "            if mol_3d is not None:\n",
    "                # Add properties to the molecule\n",
    "                for col in df.columns:\n",
    "                    if col != smiles_col:\n",
    "                        mol_3d.SetProp(col, str(row[col]))\n",
    "                mols.append(mol_3d)\n",
    "                valid_indices.append(idx)\n",
    "            else:\n",
    "                print(f\"Failed to generate 3D conformer for molecule {row[id_col]}\")\n",
    "\n",
    "    temp_sdf = tempfile.NamedTemporaryFile(suffix='.sdf', delete=False)\n",
    "    writer = Chem.SDWriter(temp_sdf.name)\n",
    "\n",
    "    for mol in mols:\n",
    "        writer.write(mol)\n",
    "    writer.close()\n",
    "\n",
    "    return temp_sdf.name, valid_indices\n",
    "\n",
    "def calculate_mordred_descriptors(sdf_file):\n",
    "    \"\"\"\n",
    "    Calculate all Mordred descriptors including 3D.\n",
    "    \"\"\"\n",
    "    calc = Calculator(descriptors, ignore_3D=False)\n",
    "    mols = [mol for mol in Chem.SDMolSupplier(sdf_file) if mol is not None]\n",
    "    df_descriptors = calc.pandas(mols)\n",
    "    return df_descriptors\n",
    "\n",
    "print(\"Converting SMILES to 3D structures and generating SDF file...\")\n",
    "sdf_file, valid_indices = smiles_to_sdf(df=data)\n",
    "\n",
    "try:\n",
    "    print(\"Calculating descriptors...\")\n",
    "    descriptors_df = calculate_mordred_descriptors(sdf_file)\n",
    "\n",
    "    # Combine the descriptors with the original data\n",
    "    valid_data = data.iloc[valid_indices].reset_index(drop=True)\n",
    "    final_dataset = pd.concat([valid_data.reset_index(drop=True), descriptors_df.reset_index(drop=True)], axis=1)\n",
    "\n",
    "    # Save the complete dataset\n",
    "    final_dataset.to_csv('molecular_features.csv', index=False)\n",
    "\n",
    "    # Print summary statistics\n",
    "    print(\"\\nDataset Summary:\")\n",
    "    print(f\"Total molecules processed: {len(final_dataset)}\")\n",
    "    print(f\"Total features generated: {len(final_dataset.columns)}\")\n",
    "\n",
    "finally:\n",
    "    # Clean up temporary file\n",
    "    os.remove(sdf_file)"
   ]
  },
  {
   "cell_type": "code",
   "execution_count": 7,
   "metadata": {
    "colab": {
     "base_uri": "https://localhost:8080/",
     "height": 342
    },
    "id": "2L80nWuy6cDr",
    "outputId": "67a6e69b-9067-4311-e7b1-20decf615a77"
   },
   "outputs": [
    {
     "data": {
      "text/html": [
       "<div>\n",
       "<style scoped>\n",
       "    .dataframe tbody tr th:only-of-type {\n",
       "        vertical-align: middle;\n",
       "    }\n",
       "\n",
       "    .dataframe tbody tr th {\n",
       "        vertical-align: top;\n",
       "    }\n",
       "\n",
       "    .dataframe thead th {\n",
       "        text-align: right;\n",
       "    }\n",
       "</style>\n",
       "<table border=\"1\" class=\"dataframe\">\n",
       "  <thead>\n",
       "    <tr style=\"text-align: right;\">\n",
       "      <th></th>\n",
       "      <th>ChEMBL_ID</th>\n",
       "      <th>pIC50</th>\n",
       "      <th>smiles</th>\n",
       "      <th>ABC</th>\n",
       "      <th>ABCGG</th>\n",
       "      <th>nAcid</th>\n",
       "      <th>nBase</th>\n",
       "      <th>SpAbs_A</th>\n",
       "      <th>SpMax_A</th>\n",
       "      <th>SpDiam_A</th>\n",
       "      <th>...</th>\n",
       "      <th>SRW10</th>\n",
       "      <th>TSRW10</th>\n",
       "      <th>MW</th>\n",
       "      <th>AMW</th>\n",
       "      <th>WPath</th>\n",
       "      <th>WPol</th>\n",
       "      <th>Zagreb1</th>\n",
       "      <th>Zagreb2</th>\n",
       "      <th>mZagreb1</th>\n",
       "      <th>mZagreb2</th>\n",
       "    </tr>\n",
       "  </thead>\n",
       "  <tbody>\n",
       "    <tr>\n",
       "      <th>0</th>\n",
       "      <td>CHEMBL303519</td>\n",
       "      <td>5.01</td>\n",
       "      <td>c1cnc(N2CCN(Cc3cccc4c3Cc3ccccc3-4)CC2)nc1</td>\n",
       "      <td>21.011003</td>\n",
       "      <td>14.920944</td>\n",
       "      <td>0</td>\n",
       "      <td>1</td>\n",
       "      <td>35.8356</td>\n",
       "      <td>2.50488</td>\n",
       "      <td>4.869</td>\n",
       "      <td>...</td>\n",
       "      <td>10.266776</td>\n",
       "      <td>75.682997</td>\n",
       "      <td>342.184447</td>\n",
       "      <td>7.128843</td>\n",
       "      <td>1797</td>\n",
       "      <td>42</td>\n",
       "      <td>144.0</td>\n",
       "      <td>173.0</td>\n",
       "      <td>5.38889</td>\n",
       "      <td>5.638889</td>\n",
       "    </tr>\n",
       "    <tr>\n",
       "      <th>1</th>\n",
       "      <td>CHEMBL292943</td>\n",
       "      <td>7.30</td>\n",
       "      <td>COc1ccc(-c2cccc(CN3CCN(c4ncccn4)CC3)c2)cc1</td>\n",
       "      <td>21.132323</td>\n",
       "      <td>14.720991</td>\n",
       "      <td>0</td>\n",
       "      <td>1</td>\n",
       "      <td>36.5224</td>\n",
       "      <td>2.36015</td>\n",
       "      <td>4.72031</td>\n",
       "      <td>...</td>\n",
       "      <td>10.083765</td>\n",
       "      <td>61.954496</td>\n",
       "      <td>360.195011</td>\n",
       "      <td>7.062647</td>\n",
       "      <td>2172</td>\n",
       "      <td>40</td>\n",
       "      <td>140.0</td>\n",
       "      <td>162.0</td>\n",
       "      <td>6.52778</td>\n",
       "      <td>6.055556</td>\n",
       "    </tr>\n",
       "    <tr>\n",
       "      <th>2</th>\n",
       "      <td>CHEMBL61682</td>\n",
       "      <td>7.60</td>\n",
       "      <td>Fc1ccc(-c2cncc(CN3CCN(c4ccccc4F)CC3)c2)cc1</td>\n",
       "      <td>21.310663</td>\n",
       "      <td>15.088212</td>\n",
       "      <td>0</td>\n",
       "      <td>1</td>\n",
       "      <td>35.8117</td>\n",
       "      <td>2.37017</td>\n",
       "      <td>4.74033</td>\n",
       "      <td>...</td>\n",
       "      <td>10.141362</td>\n",
       "      <td>62.103563</td>\n",
       "      <td>365.170354</td>\n",
       "      <td>7.607716</td>\n",
       "      <td>2130</td>\n",
       "      <td>41</td>\n",
       "      <td>142.0</td>\n",
       "      <td>165.0</td>\n",
       "      <td>7.13889</td>\n",
       "      <td>5.916667</td>\n",
       "    </tr>\n",
       "    <tr>\n",
       "      <th>3</th>\n",
       "      <td>CHEMBL64487</td>\n",
       "      <td>6.44</td>\n",
       "      <td>COc1ccccc1-c1cccc(CN2CCN(c3ncccn3)CC2)c1</td>\n",
       "      <td>21.091883</td>\n",
       "      <td>15.171089</td>\n",
       "      <td>0</td>\n",
       "      <td>1</td>\n",
       "      <td>36.5285</td>\n",
       "      <td>2.37851</td>\n",
       "      <td>4.75702</td>\n",
       "      <td>...</td>\n",
       "      <td>10.117429</td>\n",
       "      <td>62.012532</td>\n",
       "      <td>360.195011</td>\n",
       "      <td>7.062647</td>\n",
       "      <td>2096</td>\n",
       "      <td>41</td>\n",
       "      <td>140.0</td>\n",
       "      <td>163.0</td>\n",
       "      <td>6.52778</td>\n",
       "      <td>6.083333</td>\n",
       "    </tr>\n",
       "    <tr>\n",
       "      <th>4</th>\n",
       "      <td>CHEMBL64597</td>\n",
       "      <td>6.52</td>\n",
       "      <td>c1cnc(N2CCN(Cc3cccc(-c4ccsc4)c3)CC2)nc1</td>\n",
       "      <td>19.011003</td>\n",
       "      <td>14.059124</td>\n",
       "      <td>0</td>\n",
       "      <td>1</td>\n",
       "      <td>32.5796</td>\n",
       "      <td>2.35661</td>\n",
       "      <td>4.69809</td>\n",
       "      <td>...</td>\n",
       "      <td>9.949655</td>\n",
       "      <td>71.503368</td>\n",
       "      <td>336.140868</td>\n",
       "      <td>7.639565</td>\n",
       "      <td>1532</td>\n",
       "      <td>33</td>\n",
       "      <td>126.0</td>\n",
       "      <td>146.0</td>\n",
       "      <td>5.16667</td>\n",
       "      <td>5.305556</td>\n",
       "    </tr>\n",
       "  </tbody>\n",
       "</table>\n",
       "<p>5 rows × 1829 columns</p>\n",
       "</div>"
      ],
      "text/plain": [
       "      ChEMBL_ID  pIC50                                      smiles        ABC  \\\n",
       "0  CHEMBL303519   5.01   c1cnc(N2CCN(Cc3cccc4c3Cc3ccccc3-4)CC2)nc1  21.011003   \n",
       "1  CHEMBL292943   7.30  COc1ccc(-c2cccc(CN3CCN(c4ncccn4)CC3)c2)cc1  21.132323   \n",
       "2   CHEMBL61682   7.60  Fc1ccc(-c2cncc(CN3CCN(c4ccccc4F)CC3)c2)cc1  21.310663   \n",
       "3   CHEMBL64487   6.44    COc1ccccc1-c1cccc(CN2CCN(c3ncccn3)CC2)c1  21.091883   \n",
       "4   CHEMBL64597   6.52     c1cnc(N2CCN(Cc3cccc(-c4ccsc4)c3)CC2)nc1  19.011003   \n",
       "\n",
       "       ABCGG  nAcid  nBase  SpAbs_A  SpMax_A SpDiam_A  ...      SRW10  \\\n",
       "0  14.920944      0      1  35.8356  2.50488    4.869  ...  10.266776   \n",
       "1  14.720991      0      1  36.5224  2.36015  4.72031  ...  10.083765   \n",
       "2  15.088212      0      1  35.8117  2.37017  4.74033  ...  10.141362   \n",
       "3  15.171089      0      1  36.5285  2.37851  4.75702  ...  10.117429   \n",
       "4  14.059124      0      1  32.5796  2.35661  4.69809  ...   9.949655   \n",
       "\n",
       "      TSRW10          MW       AMW WPath WPol Zagreb1 Zagreb2 mZagreb1  \\\n",
       "0  75.682997  342.184447  7.128843  1797   42   144.0   173.0  5.38889   \n",
       "1  61.954496  360.195011  7.062647  2172   40   140.0   162.0  6.52778   \n",
       "2  62.103563  365.170354  7.607716  2130   41   142.0   165.0  7.13889   \n",
       "3  62.012532  360.195011  7.062647  2096   41   140.0   163.0  6.52778   \n",
       "4  71.503368  336.140868  7.639565  1532   33   126.0   146.0  5.16667   \n",
       "\n",
       "   mZagreb2  \n",
       "0  5.638889  \n",
       "1  6.055556  \n",
       "2  5.916667  \n",
       "3  6.083333  \n",
       "4  5.305556  \n",
       "\n",
       "[5 rows x 1829 columns]"
      ]
     },
     "execution_count": 7,
     "metadata": {},
     "output_type": "execute_result"
    }
   ],
   "source": [
    "final_dataset.head()"
   ]
  },
  {
   "cell_type": "markdown",
   "metadata": {
    "id": "YLA8QXVJxX7S"
   },
   "source": [
    "### 4. Čišćenje podataka\n",
    "Clean the transformed data of missing values and outliers. Remove duplicates.\n",
    "\n",
    "- Nema duplikata.\n",
    "- After generating all descriptors for each molecule, we removed descriptors with non-numerical values (e.g., containing strings or NA values) and descriptors with matching values across most (\n",
    "95%) molecules. (https://www.sciencedirect.com/science/article/pii/S0016236122006950#sec3)"
   ]
  },
  {
   "cell_type": "code",
   "execution_count": 14,
   "metadata": {
    "id": "2y_xLilaoWq_"
   },
   "outputs": [],
   "source": [
    "def prepare_features(descriptors_df):\n",
    "    \"\"\"\n",
    "    Clean and prepare descriptors for machine learning while preserving specified columns.\n",
    "    \"\"\"\n",
    "    # Columns to preserve\n",
    "    string_columns_to_preserve = ['ChEMBL_ID', 'smiles', 'pIC50']\n",
    "\n",
    "    # Separate preserved columns\n",
    "    preserved_columns = descriptors_df[string_columns_to_preserve]\n",
    "\n",
    "    # Work on the remaining numeric columns\n",
    "    numeric_df = descriptors_df.drop(columns=string_columns_to_preserve, errors='ignore')\n",
    "\n",
    "    # Convert all to numeric, replacing non-numeric with NaN\n",
    "    numeric_df = numeric_df.apply(pd.to_numeric, errors='coerce')\n",
    "\n",
    "    # Remove columns with any NaN values\n",
    "    numeric_df = numeric_df.dropna(axis=1)\n",
    "\n",
    "    # Remove columns with constant or near-constant values across 95% of rows\n",
    "    variability_thresh = 0.05 * len(numeric_df)\n",
    "    numeric_df = numeric_df.loc[:, numeric_df.nunique() > variability_thresh]\n",
    "\n",
    "    # Combine preserved columns back with cleaned numeric data\n",
    "    final_df = pd.concat([preserved_columns.reset_index(drop=True), numeric_df.reset_index(drop=True)], axis=1)\n",
    "\n",
    "    return final_df"
   ]
  },
  {
   "cell_type": "code",
   "execution_count": 15,
   "metadata": {
    "colab": {
     "base_uri": "https://localhost:8080/"
    },
    "id": "F9NUr5urxX7T",
    "outputId": "34357764-3f68-4c1d-b75a-c77834f6e1fb"
   },
   "outputs": [
    {
     "data": {
      "text/plain": [
       "0"
      ]
     },
     "execution_count": 15,
     "metadata": {},
     "output_type": "execute_result"
    }
   ],
   "source": [
    "final_dataset = prepare_features(final_dataset)\n",
    "final_dataset['smiles'].duplicated().sum()"
   ]
  },
  {
   "cell_type": "code",
   "execution_count": 9,
   "metadata": {
    "colab": {
     "base_uri": "https://localhost:8080/"
    },
    "id": "cU1p8Zy7xX7T",
    "outputId": "d71f67a7-0cff-463b-ac52-52dfb7b0b554"
   },
   "outputs": [
    {
     "name": "stdout",
     "output_type": "stream",
     "text": [
      "Series([], dtype: int64)\n"
     ]
    }
   ],
   "source": [
    "null_counts = final_dataset.isnull().sum()\n",
    "columns_with_nulls = null_counts[null_counts != 0]\n",
    "print(columns_with_nulls)"
   ]
  },
  {
   "cell_type": "code",
   "execution_count": 10,
   "metadata": {
    "colab": {
     "base_uri": "https://localhost:8080/",
     "height": 430
    },
    "id": "lFQOBhyTxX7T",
    "outputId": "e5566a41-1cfc-4f0b-bf92-4676a04e00ee"
   },
   "outputs": [
    {
     "data": {
      "image/png": "[encoded data removed]",
      "text/plain": [
       "<Figure size 432x288 with 1 Axes>"
      ]
     },
     "metadata": {
      "needs_background": "light"
     },
     "output_type": "display_data"
    }
   ],
   "source": [
    "# boxplot značajke koju bismo trebali predvidjeti\n",
    "# nema outliera\n",
    "plt.boxplot(final_dataset['pIC50'])\n",
    "plt.show()"
   ]
  },
  {
   "cell_type": "code",
   "execution_count": 17,
   "metadata": {
    "colab": {
     "base_uri": "https://localhost:8080/",
     "height": 335
    },
    "id": "EMsWYqn2uV9T",
    "outputId": "807ef44f-ea71-4a70-ece5-32addd524a7c"
   },
   "outputs": [
    {
     "data": {
      "text/plain": [
       "count    479.000000\n",
       "mean       6.698689\n",
       "std        1.070454\n",
       "min        4.520000\n",
       "25%        5.865000\n",
       "50%        6.600000\n",
       "75%        7.450000\n",
       "max        9.540000\n",
       "Name: pIC50, dtype: float64"
      ]
     },
     "execution_count": 17,
     "metadata": {},
     "output_type": "execute_result"
    }
   ],
   "source": [
    "final_dataset['pIC50'].describe()"
   ]
  },
  {
   "cell_type": "code",
   "execution_count": 16,
   "metadata": {
    "colab": {
     "base_uri": "https://localhost:8080/"
    },
    "id": "j-qwfzxWuo1B",
    "outputId": "3e9db1bb-a857-4170-be8b-39c4cc4b4d05"
   },
   "outputs": [
    {
     "data": {
      "text/plain": [
       "(479, 844)"
      ]
     },
     "execution_count": 16,
     "metadata": {},
     "output_type": "execute_result"
    }
   ],
   "source": [
    "final_dataset.shape"
   ]
  },
  {
   "cell_type": "markdown",
   "metadata": {
    "id": "aHmCtRhYu8PR"
   },
   "source": [
    "### 5. Feature analysis"
   ]
  },
  {
   "cell_type": "markdown",
   "metadata": {
    "id": "-D0vqqakvvbc"
   },
   "source": [
    "**Simple correlation analysis with pIC50 feature**"
   ]
  },
  {
   "cell_type": "code",
   "execution_count": 63,
   "metadata": {
    "colab": {
     "base_uri": "https://localhost:8080/"
    },
    "id": "h2C2HDsPnbgg",
    "outputId": "9e604559-c7b2-4874-cc45-c46fdbb7a92f"
   },
   "outputs": [],
   "source": [
    "# # Columns to preserve\n",
    "# preserved_columns = ['ChEMBL_ID', 'smiles', 'pIC50']\n",
    "\n",
    "# # Identify columns to compute correlations for\n",
    "# numeric_columns = [col for col in final_dataset.columns if col not in preserved_columns]\n",
    "\n",
    "# # Create a feature correlation matrix with pIC50\n",
    "# correlations = pd.DataFrame({\n",
    "#     'feature': numeric_columns,\n",
    "#     'correlation_with_pIC50': [\n",
    "#         final_dataset[col].corr(final_dataset['pIC50']) for col in numeric_columns\n",
    "#     ]\n",
    "# })\n",
    "\n",
    "# # Sort correlations by absolute value\n",
    "# correlations = correlations.sort_values('correlation_with_pIC50', key=abs, ascending=False)\n",
    "\n",
    "# # Display the top 20 most correlated features\n",
    "# print(\"\\nTop 20 most correlated features with pIC50:\")\n",
    "# print(correlations.head(20))"
   ]
  },
  {
   "cell_type": "markdown",
   "metadata": {
    "id": "BACNtHo9DW1B"
   },
   "source": [
    "**Removing features that are highly correlated between themselves**"
   ]
  },
  {
   "cell_type": "markdown",
   "metadata": {
    "id": "fPbN5Jxav4cz"
   },
   "source": [
    "**Recursive Feature Elimination (RFE) with an ensemble model estimator (Random Forest Regressor)**"
   ]
  },
  {
   "cell_type": "code",
   "execution_count": 64,
   "metadata": {
    "id": "0Pa5MyoMHRAe"
   },
   "outputs": [],
   "source": [
    "# X = final_dataset.drop(['pIC50', 'ChEMBL_ID', 'smiles'], axis=1)\n",
    "# y = final_dataset['pIC50']"
   ]
  },
  {
   "cell_type": "code",
   "execution_count": 65,
   "metadata": {
    "colab": {
     "base_uri": "https://localhost:8080/"
    },
    "id": "rcXTneQJRnF8",
    "outputId": "e47d4f4c-85f9-429b-bf2f-7b7fa9255330"
   },
   "outputs": [],
   "source": [
    "# print(X.shape)\n",
    "# correlation_matrix = X.corr(method='spearman')\n",
    "\n",
    "# upper = correlation_matrix.where(np.triu(np.ones(correlation_matrix.shape), k=1).astype(bool))\n",
    "\n",
    "# # Find features with correlation > 0.85\n",
    "# high_correlation_features = [column for column in upper.columns if any(upper[column] > 0.85)]\n",
    "\n",
    "# # Drop highly correlated features\n",
    "# filtered_dataset = X.drop(columns=high_correlation_features)\n",
    "# print(filtered_dataset.shape)"
   ]
  },
  {
   "cell_type": "code",
   "execution_count": 66,
   "metadata": {
    "colab": {
     "base_uri": "https://localhost:8080/",
     "height": 356
    },
    "id": "fW8XvEP3SX7q",
    "outputId": "7c13c585-7245-41b6-e9bb-130a6a25747a"
   },
   "outputs": [],
   "source": [
    "# from sklearn.ensemble import RandomForestRegressor\n",
    "# from sklearn.feature_selection import RFECV\n",
    "# from sklearn.preprocessing import StandardScaler\n",
    "\n",
    "# scaler = StandardScaler()\n",
    "# X_scaled = scaler.fit_transform(filtered_dataset)\n",
    "\n",
    "# # Implement RFECV\n",
    "# rf_model = RandomForestRegressor(n_estimators=500, random_state=42)\n",
    "# rfecv = RFECV(\n",
    "#     estimator=rf_model,\n",
    "#     step=1,\n",
    "#     cv=5,  # 5-fold cross-validation\n",
    "#     scoring=\"r2\",  # Use R^2 as the scoring metric\n",
    "#     n_jobs=-1,\n",
    "#     min_features_to_select=20\n",
    "# )\n",
    "\n",
    "# # Fit RFECV to the filtered dataset\n",
    "# rfecv.fit(X_scaled, y)\n",
    "\n",
    "# # Identify selected features\n",
    "# selected_features = filtered_dataset.columns[rfecv.support_]\n",
    "# print(f\"\\nNumber of features selected by RFECV: {len(selected_features)}\")\n",
    "# print(f\"Selected features:\\n{selected_features.tolist()}\")\n",
    "\n",
    "# # Filter the dataset to keep only the selected features\n",
    "# df_feature_selection = filtered_dataset[selected_features]\n",
    "# print(f\"Shape of the final dataset: {df_feature_selection.shape}\")"
   ]
  },
  {
   "cell_type": "markdown",
   "metadata": {},
   "source": [
    "### 6. Skaliranje podatka\n",
    "\n",
    "Define and initialize scaler by using Scikit-learn Python package. Scale the data appropriately.\n",
    "\n",
    "- https://scikit-learn.org/1.5/modules/preprocessing.html -> trebalo bi proučiti i odabrati scaler na temelju značajki (?)"
   ]
  },
  {
   "cell_type": "code",
   "execution_count": 20,
   "metadata": {},
   "outputs": [
    {
     "data": {
      "text/html": [
       "<div>\n",
       "<style scoped>\n",
       "    .dataframe tbody tr th:only-of-type {\n",
       "        vertical-align: middle;\n",
       "    }\n",
       "\n",
       "    .dataframe tbody tr th {\n",
       "        vertical-align: top;\n",
       "    }\n",
       "\n",
       "    .dataframe thead th {\n",
       "        text-align: right;\n",
       "    }\n",
       "</style>\n",
       "<table border=\"1\" class=\"dataframe\">\n",
       "  <thead>\n",
       "    <tr style=\"text-align: right;\">\n",
       "      <th></th>\n",
       "      <th>pIC50</th>\n",
       "      <th>ABC</th>\n",
       "      <th>ABCGG</th>\n",
       "      <th>nAtom</th>\n",
       "      <th>nHeavyAtom</th>\n",
       "      <th>nH</th>\n",
       "      <th>nC</th>\n",
       "      <th>ATS0dv</th>\n",
       "      <th>ATS1dv</th>\n",
       "      <th>ATS2dv</th>\n",
       "      <th>...</th>\n",
       "      <th>SRW09</th>\n",
       "      <th>SRW10</th>\n",
       "      <th>TSRW10</th>\n",
       "      <th>MW</th>\n",
       "      <th>AMW</th>\n",
       "      <th>WPath</th>\n",
       "      <th>WPol</th>\n",
       "      <th>Zagreb1</th>\n",
       "      <th>Zagreb2</th>\n",
       "      <th>mZagreb2</th>\n",
       "    </tr>\n",
       "  </thead>\n",
       "  <tbody>\n",
       "    <tr>\n",
       "      <th>count</th>\n",
       "      <td>479.000000</td>\n",
       "      <td>479.000000</td>\n",
       "      <td>479.000000</td>\n",
       "      <td>479.000000</td>\n",
       "      <td>479.000000</td>\n",
       "      <td>479.000000</td>\n",
       "      <td>479.000000</td>\n",
       "      <td>479.000000</td>\n",
       "      <td>479.000000</td>\n",
       "      <td>479.000000</td>\n",
       "      <td>...</td>\n",
       "      <td>479.000000</td>\n",
       "      <td>479.000000</td>\n",
       "      <td>479.000000</td>\n",
       "      <td>479.000000</td>\n",
       "      <td>479.000000</td>\n",
       "      <td>4.790000e+02</td>\n",
       "      <td>479.000000</td>\n",
       "      <td>479.000000</td>\n",
       "      <td>479.000000</td>\n",
       "      <td>479.000000</td>\n",
       "    </tr>\n",
       "    <tr>\n",
       "      <th>mean</th>\n",
       "      <td>6.698689</td>\n",
       "      <td>23.157321</td>\n",
       "      <td>17.152207</td>\n",
       "      <td>57.528184</td>\n",
       "      <td>29.791232</td>\n",
       "      <td>27.736952</td>\n",
       "      <td>23.112735</td>\n",
       "      <td>368.222401</td>\n",
       "      <td>367.144251</td>\n",
       "      <td>508.590366</td>\n",
       "      <td>...</td>\n",
       "      <td>4.798601</td>\n",
       "      <td>10.231156</td>\n",
       "      <td>75.075927</td>\n",
       "      <td>430.496542</td>\n",
       "      <td>7.542662</td>\n",
       "      <td>7.116948e+08</td>\n",
       "      <td>46.912317</td>\n",
       "      <td>155.344468</td>\n",
       "      <td>182.386221</td>\n",
       "      <td>6.583884</td>\n",
       "    </tr>\n",
       "    <tr>\n",
       "      <th>std</th>\n",
       "      <td>1.070454</td>\n",
       "      <td>7.384249</td>\n",
       "      <td>3.919125</td>\n",
       "      <td>18.172774</td>\n",
       "      <td>9.231917</td>\n",
       "      <td>9.385832</td>\n",
       "      <td>7.339626</td>\n",
       "      <td>130.921778</td>\n",
       "      <td>128.549108</td>\n",
       "      <td>198.647365</td>\n",
       "      <td>...</td>\n",
       "      <td>3.172723</td>\n",
       "      <td>0.324720</td>\n",
       "      <td>11.899348</td>\n",
       "      <td>127.193141</td>\n",
       "      <td>0.827723</td>\n",
       "      <td>3.283589e+09</td>\n",
       "      <td>17.412802</td>\n",
       "      <td>50.334907</td>\n",
       "      <td>60.357400</td>\n",
       "      <td>2.006059</td>\n",
       "    </tr>\n",
       "    <tr>\n",
       "      <th>min</th>\n",
       "      <td>4.520000</td>\n",
       "      <td>7.847124</td>\n",
       "      <td>7.263853</td>\n",
       "      <td>19.000000</td>\n",
       "      <td>10.000000</td>\n",
       "      <td>8.000000</td>\n",
       "      <td>8.000000</td>\n",
       "      <td>103.777778</td>\n",
       "      <td>99.111111</td>\n",
       "      <td>79.555556</td>\n",
       "      <td>...</td>\n",
       "      <td>0.000000</td>\n",
       "      <td>8.945463</td>\n",
       "      <td>41.621454</td>\n",
       "      <td>135.068414</td>\n",
       "      <td>5.897961</td>\n",
       "      <td>1.080000e+02</td>\n",
       "      <td>11.000000</td>\n",
       "      <td>50.000000</td>\n",
       "      <td>55.000000</td>\n",
       "      <td>2.194444</td>\n",
       "    </tr>\n",
       "    <tr>\n",
       "      <th>25%</th>\n",
       "      <td>5.865000</td>\n",
       "      <td>18.387101</td>\n",
       "      <td>14.872417</td>\n",
       "      <td>47.000000</td>\n",
       "      <td>24.000000</td>\n",
       "      <td>23.000000</td>\n",
       "      <td>19.000000</td>\n",
       "      <td>276.802469</td>\n",
       "      <td>281.555556</td>\n",
       "      <td>383.666667</td>\n",
       "      <td>...</td>\n",
       "      <td>0.000000</td>\n",
       "      <td>10.026146</td>\n",
       "      <td>68.041735</td>\n",
       "      <td>343.147253</td>\n",
       "      <td>7.009979</td>\n",
       "      <td>1.309500e+03</td>\n",
       "      <td>37.000000</td>\n",
       "      <td>124.000000</td>\n",
       "      <td>147.000000</td>\n",
       "      <td>5.222222</td>\n",
       "    </tr>\n",
       "    <tr>\n",
       "      <th>50%</th>\n",
       "      <td>6.600000</td>\n",
       "      <td>22.086719</td>\n",
       "      <td>16.403560</td>\n",
       "      <td>55.000000</td>\n",
       "      <td>28.000000</td>\n",
       "      <td>26.000000</td>\n",
       "      <td>22.000000</td>\n",
       "      <td>342.493827</td>\n",
       "      <td>340.111111</td>\n",
       "      <td>457.000000</td>\n",
       "      <td>...</td>\n",
       "      <td>6.555357</td>\n",
       "      <td>10.197462</td>\n",
       "      <td>72.883561</td>\n",
       "      <td>419.116732</td>\n",
       "      <td>7.467409</td>\n",
       "      <td>2.995000e+03</td>\n",
       "      <td>44.000000</td>\n",
       "      <td>148.000000</td>\n",
       "      <td>172.000000</td>\n",
       "      <td>6.277778</td>\n",
       "    </tr>\n",
       "    <tr>\n",
       "      <th>75%</th>\n",
       "      <td>7.450000</td>\n",
       "      <td>25.673157</td>\n",
       "      <td>18.442709</td>\n",
       "      <td>62.000000</td>\n",
       "      <td>33.000000</td>\n",
       "      <td>29.000000</td>\n",
       "      <td>26.000000</td>\n",
       "      <td>411.802469</td>\n",
       "      <td>410.055556</td>\n",
       "      <td>558.000000</td>\n",
       "      <td>...</td>\n",
       "      <td>6.985642</td>\n",
       "      <td>10.375770</td>\n",
       "      <td>81.266283</td>\n",
       "      <td>477.183605</td>\n",
       "      <td>7.978550</td>\n",
       "      <td>4.668500e+03</td>\n",
       "      <td>51.000000</td>\n",
       "      <td>172.000000</td>\n",
       "      <td>201.000000</td>\n",
       "      <td>7.361111</td>\n",
       "    </tr>\n",
       "    <tr>\n",
       "      <th>max</th>\n",
       "      <td>9.540000</td>\n",
       "      <td>64.086466</td>\n",
       "      <td>38.805484</td>\n",
       "      <td>153.000000</td>\n",
       "      <td>81.000000</td>\n",
       "      <td>82.000000</td>\n",
       "      <td>60.000000</td>\n",
       "      <td>1065.209877</td>\n",
       "      <td>1088.222222</td>\n",
       "      <td>1503.333333</td>\n",
       "      <td>...</td>\n",
       "      <td>8.188967</td>\n",
       "      <td>11.415213</td>\n",
       "      <td>131.291674</td>\n",
       "      <td>1142.513631</td>\n",
       "      <td>11.855608</td>\n",
       "      <td>2.800000e+10</td>\n",
       "      <td>146.000000</td>\n",
       "      <td>434.000000</td>\n",
       "      <td>514.000000</td>\n",
       "      <td>17.611111</td>\n",
       "    </tr>\n",
       "  </tbody>\n",
       "</table>\n",
       "<p>8 rows × 842 columns</p>\n",
       "</div>"
      ],
      "text/plain": [
       "            pIC50         ABC       ABCGG       nAtom  nHeavyAtom          nH  \\\n",
       "count  479.000000  479.000000  479.000000  479.000000  479.000000  479.000000   \n",
       "mean     6.698689   23.157321   17.152207   57.528184   29.791232   27.736952   \n",
       "std      1.070454    7.384249    3.919125   18.172774    9.231917    9.385832   \n",
       "min      4.520000    7.847124    7.263853   19.000000   10.000000    8.000000   \n",
       "25%      5.865000   18.387101   14.872417   47.000000   24.000000   23.000000   \n",
       "50%      6.600000   22.086719   16.403560   55.000000   28.000000   26.000000   \n",
       "75%      7.450000   25.673157   18.442709   62.000000   33.000000   29.000000   \n",
       "max      9.540000   64.086466   38.805484  153.000000   81.000000   82.000000   \n",
       "\n",
       "               nC       ATS0dv       ATS1dv       ATS2dv  ...       SRW09  \\\n",
       "count  479.000000   479.000000   479.000000   479.000000  ...  479.000000   \n",
       "mean    23.112735   368.222401   367.144251   508.590366  ...    4.798601   \n",
       "std      7.339626   130.921778   128.549108   198.647365  ...    3.172723   \n",
       "min      8.000000   103.777778    99.111111    79.555556  ...    0.000000   \n",
       "25%     19.000000   276.802469   281.555556   383.666667  ...    0.000000   \n",
       "50%     22.000000   342.493827   340.111111   457.000000  ...    6.555357   \n",
       "75%     26.000000   411.802469   410.055556   558.000000  ...    6.985642   \n",
       "max     60.000000  1065.209877  1088.222222  1503.333333  ...    8.188967   \n",
       "\n",
       "            SRW10      TSRW10           MW         AMW         WPath  \\\n",
       "count  479.000000  479.000000   479.000000  479.000000  4.790000e+02   \n",
       "mean    10.231156   75.075927   430.496542    7.542662  7.116948e+08   \n",
       "std      0.324720   11.899348   127.193141    0.827723  3.283589e+09   \n",
       "min      8.945463   41.621454   135.068414    5.897961  1.080000e+02   \n",
       "25%     10.026146   68.041735   343.147253    7.009979  1.309500e+03   \n",
       "50%     10.197462   72.883561   419.116732    7.467409  2.995000e+03   \n",
       "75%     10.375770   81.266283   477.183605    7.978550  4.668500e+03   \n",
       "max     11.415213  131.291674  1142.513631   11.855608  2.800000e+10   \n",
       "\n",
       "             WPol     Zagreb1     Zagreb2    mZagreb2  \n",
       "count  479.000000  479.000000  479.000000  479.000000  \n",
       "mean    46.912317  155.344468  182.386221    6.583884  \n",
       "std     17.412802   50.334907   60.357400    2.006059  \n",
       "min     11.000000   50.000000   55.000000    2.194444  \n",
       "25%     37.000000  124.000000  147.000000    5.222222  \n",
       "50%     44.000000  148.000000  172.000000    6.277778  \n",
       "75%     51.000000  172.000000  201.000000    7.361111  \n",
       "max    146.000000  434.000000  514.000000   17.611111  \n",
       "\n",
       "[8 rows x 842 columns]"
      ]
     },
     "execution_count": 20,
     "metadata": {},
     "output_type": "execute_result"
    }
   ],
   "source": [
    "final_dataset.describe()"
   ]
  },
  {
   "cell_type": "code",
   "execution_count": 35,
   "metadata": {},
   "outputs": [],
   "source": [
    "from sklearn import preprocessing\n",
    "\n",
    "scaled_df = final_dataset.copy()\n",
    "\n",
    "scaler = preprocessing.MinMaxScaler()\n",
    "for col in scaled_df:\n",
    "    if pd.api.types.is_numeric_dtype(scaled_df[col]):\n",
    "        scaled_df[col] = scaler.fit_transform(np.array(scaled_df[col]).reshape(-1, 1))\n",
    "\n",
    "scaled_df.describe()\n",
    "final_dataset = scaled_df.copy()"
   ]
  },
  {
   "cell_type": "markdown",
   "metadata": {
    "id": "d3U18axJxX7T"
   },
   "source": [
    "### 6. Splitting\n",
    "Split the preprocessed dataset into subset for training and subset for testing in ratio 75:25. If using deep learning, split into subset for validation as well (ratio 70:15:15)"
   ]
  },
  {
   "cell_type": "code",
   "execution_count": 36,
   "metadata": {
    "id": "HfDQR4YDxX7U"
   },
   "outputs": [],
   "source": [
    "train, test = train_test_split(final_dataset, test_size=0.25)\n",
    "\n",
    "train_DL, test_DL = train_test_split(final_dataset, test_size=0.3)\n",
    "validate_DL, test_DL = train_test_split(test_DL, test_size=0.5)\n",
    "\n",
    "train.to_pickle(\"./data/train.pkl\")\n",
    "test.to_pickle(\"./data/test.pkl\")\n",
    "train_DL.to_pickle(\"./data/train_DL.pkl\")\n",
    "test_DL.to_pickle(\"./data/test_DL.pkl\")\n",
    "validate_DL.to_pickle(\"./data/validate_DL.pkl\")"
   ]
  }
 ],
 "metadata": {
  "colab": {
   "provenance": []
  },
  "kernelspec": {
   "display_name": "oldPy36",
   "language": "python",
   "name": "python3"
  },
  "language_info": {
   "codemirror_mode": {
    "name": "ipython",
    "version": 3
   },
   "file_extension": ".py",
   "mimetype": "text/x-python",
   "name": "python",
   "nbconvert_exporter": "python",
   "pygments_lexer": "ipython3",
   "version": "3.6.13"
  }
 },
 "nbformat": 4,
 "nbformat_minor": 0
}
