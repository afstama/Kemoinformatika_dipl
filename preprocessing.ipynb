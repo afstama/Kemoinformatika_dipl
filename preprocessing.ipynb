{
 "cells": [
  {
   "cell_type": "code",
   "execution_count": 1,
   "metadata": {
    "colab": {
     "base_uri": "https://localhost:8080/",
     "height": 495
    },
    "id": "inFa_x_7EQD_",
    "outputId": "3e65bd4a-cde0-4a22-df53-cc3f85ccaef4"
   },
   "outputs": [],
   "source": [
    "# !pip install 'numpy>=1.20,<1.24'\n",
    "# # verzija niz od 1.24 zbog problema s numpy float"
   ]
  },
  {
   "cell_type": "code",
   "execution_count": 2,
   "metadata": {
    "id": "sdpOE2h_xX7O"
   },
   "outputs": [],
   "source": [
    "import pandas as pd\n",
    "import numpy as np\n",
    "import requests\n",
    "import json\n",
    "import xmltodict\n",
    "from rdkit import Chem\n",
    "from mordred import Calculator, descriptors\n",
    "import matplotlib.pyplot as plt\n",
    "from sklearn.model_selection import train_test_split"
   ]
  },
  {
   "cell_type": "code",
   "execution_count": 3,
   "metadata": {
    "colab": {
     "base_uri": "https://localhost:8080/"
    },
    "id": "YEwEe7HBzGs5",
    "outputId": "521ffd16-3676-453d-d144-5dbed3967fe1"
   },
   "outputs": [],
   "source": [
    "# from google.colab import drive\n",
    "# drive.mount('/content/drive')"
   ]
  },
  {
   "cell_type": "markdown",
   "metadata": {
    "id": "i-HAa4bnxX7P"
   },
   "source": [
    "### 1. Učitavanje podataka"
   ]
  },
  {
   "cell_type": "code",
   "execution_count": 4,
   "metadata": {
    "id": "6wAp5F9xzSDq"
   },
   "outputs": [],
   "source": [
    "# path = \"/content/drive/My Drive/kemoinf/data/dopamine.csv\"\n",
    "path = \"./data/dopamine.csv\""
   ]
  },
  {
   "cell_type": "code",
   "execution_count": 5,
   "metadata": {
    "colab": {
     "base_uri": "https://localhost:8080/",
     "height": 423
    },
    "id": "9enBF3UVxX7R",
    "outputId": "970b9fda-be82-4892-d340-cfff02b0608a"
   },
   "outputs": [
    {
     "data": {
      "text/html": [
       "<div>\n",
       "<style scoped>\n",
       "    .dataframe tbody tr th:only-of-type {\n",
       "        vertical-align: middle;\n",
       "    }\n",
       "\n",
       "    .dataframe tbody tr th {\n",
       "        vertical-align: top;\n",
       "    }\n",
       "\n",
       "    .dataframe thead th {\n",
       "        text-align: right;\n",
       "    }\n",
       "</style>\n",
       "<table border=\"1\" class=\"dataframe\">\n",
       "  <thead>\n",
       "    <tr style=\"text-align: right;\">\n",
       "      <th></th>\n",
       "      <th>ChEMBL_ID</th>\n",
       "      <th>pIC50</th>\n",
       "    </tr>\n",
       "  </thead>\n",
       "  <tbody>\n",
       "    <tr>\n",
       "      <th>0</th>\n",
       "      <td>CHEMBL303519</td>\n",
       "      <td>5.01</td>\n",
       "    </tr>\n",
       "    <tr>\n",
       "      <th>1</th>\n",
       "      <td>CHEMBL292943</td>\n",
       "      <td>7.30</td>\n",
       "    </tr>\n",
       "    <tr>\n",
       "      <th>2</th>\n",
       "      <td>CHEMBL61682</td>\n",
       "      <td>7.60</td>\n",
       "    </tr>\n",
       "    <tr>\n",
       "      <th>3</th>\n",
       "      <td>CHEMBL64487</td>\n",
       "      <td>6.44</td>\n",
       "    </tr>\n",
       "    <tr>\n",
       "      <th>4</th>\n",
       "      <td>CHEMBL64597</td>\n",
       "      <td>6.52</td>\n",
       "    </tr>\n",
       "    <tr>\n",
       "      <th>...</th>\n",
       "      <td>...</td>\n",
       "      <td>...</td>\n",
       "    </tr>\n",
       "    <tr>\n",
       "      <th>474</th>\n",
       "      <td>CHEMBL3805434</td>\n",
       "      <td>7.42</td>\n",
       "    </tr>\n",
       "    <tr>\n",
       "      <th>475</th>\n",
       "      <td>CHEMBL3805327</td>\n",
       "      <td>7.23</td>\n",
       "    </tr>\n",
       "    <tr>\n",
       "      <th>476</th>\n",
       "      <td>CHEMBL3805262</td>\n",
       "      <td>5.80</td>\n",
       "    </tr>\n",
       "    <tr>\n",
       "      <th>477</th>\n",
       "      <td>CHEMBL3805515</td>\n",
       "      <td>6.70</td>\n",
       "    </tr>\n",
       "    <tr>\n",
       "      <th>478</th>\n",
       "      <td>CHEMBL3805046</td>\n",
       "      <td>6.77</td>\n",
       "    </tr>\n",
       "  </tbody>\n",
       "</table>\n",
       "<p>479 rows × 2 columns</p>\n",
       "</div>"
      ],
      "text/plain": [
       "         ChEMBL_ID  pIC50\n",
       "0     CHEMBL303519   5.01\n",
       "1     CHEMBL292943   7.30\n",
       "2      CHEMBL61682   7.60\n",
       "3      CHEMBL64487   6.44\n",
       "4      CHEMBL64597   6.52\n",
       "..             ...    ...\n",
       "474  CHEMBL3805434   7.42\n",
       "475  CHEMBL3805327   7.23\n",
       "476  CHEMBL3805262   5.80\n",
       "477  CHEMBL3805515   6.70\n",
       "478  CHEMBL3805046   6.77\n",
       "\n",
       "[479 rows x 2 columns]"
      ]
     },
     "execution_count": 5,
     "metadata": {},
     "output_type": "execute_result"
    }
   ],
   "source": [
    "data = pd.read_csv(path, index_col=0)\n",
    "data"
   ]
  },
  {
   "cell_type": "markdown",
   "metadata": {
    "id": "p3ZBxPB0xX7R"
   },
   "source": [
    "### 2. Dohvaćanje SMILES zapisa\n",
    "\n",
    "Retrieve SMILES representation for each molecule using the ChEMBL REST API through your Python environment.\n",
    "\n",
    "Make SMILES canonical by using rdkit Python package."
   ]
  },
  {
   "cell_type": "code",
   "execution_count": 6,
   "metadata": {
    "id": "_bLAb0XMxX7R"
   },
   "outputs": [],
   "source": [
    "smiles = []\n",
    "for mol_id in data.ChEMBL_ID:\n",
    "    response = requests.get(f'https://www.ebi.ac.uk/chembl/api/data/molecule/{mol_id}')\n",
    "    smiles.append(Chem.CanonSmiles(xmltodict.parse(response.text)['molecule']['molecule_structures']['canonical_smiles']))\n",
    "data['smiles'] = smiles\n",
    "# data.to_csv('./data/temp.csv', index=False)"
   ]
  },
  {
   "cell_type": "code",
   "execution_count": 7,
   "metadata": {
    "colab": {
     "base_uri": "https://localhost:8080/",
     "height": 423
    },
    "id": "Zkf80sBE4Axq",
    "outputId": "773b3a79-3654-4635-872b-d40f3dfd22c5"
   },
   "outputs": [
    {
     "data": {
      "text/html": [
       "<div>\n",
       "<style scoped>\n",
       "    .dataframe tbody tr th:only-of-type {\n",
       "        vertical-align: middle;\n",
       "    }\n",
       "\n",
       "    .dataframe tbody tr th {\n",
       "        vertical-align: top;\n",
       "    }\n",
       "\n",
       "    .dataframe thead th {\n",
       "        text-align: right;\n",
       "    }\n",
       "</style>\n",
       "<table border=\"1\" class=\"dataframe\">\n",
       "  <thead>\n",
       "    <tr style=\"text-align: right;\">\n",
       "      <th></th>\n",
       "      <th>ChEMBL_ID</th>\n",
       "      <th>pIC50</th>\n",
       "      <th>smiles</th>\n",
       "    </tr>\n",
       "  </thead>\n",
       "  <tbody>\n",
       "    <tr>\n",
       "      <th>0</th>\n",
       "      <td>CHEMBL303519</td>\n",
       "      <td>5.01</td>\n",
       "      <td>c1cnc(N2CCN(Cc3cccc4c3Cc3ccccc3-4)CC2)nc1</td>\n",
       "    </tr>\n",
       "    <tr>\n",
       "      <th>1</th>\n",
       "      <td>CHEMBL292943</td>\n",
       "      <td>7.30</td>\n",
       "      <td>COc1ccc(-c2cccc(CN3CCN(c4ncccn4)CC3)c2)cc1</td>\n",
       "    </tr>\n",
       "    <tr>\n",
       "      <th>2</th>\n",
       "      <td>CHEMBL61682</td>\n",
       "      <td>7.60</td>\n",
       "      <td>Fc1ccc(-c2cncc(CN3CCN(c4ccccc4F)CC3)c2)cc1</td>\n",
       "    </tr>\n",
       "    <tr>\n",
       "      <th>3</th>\n",
       "      <td>CHEMBL64487</td>\n",
       "      <td>6.44</td>\n",
       "      <td>COc1ccccc1-c1cccc(CN2CCN(c3ncccn3)CC2)c1</td>\n",
       "    </tr>\n",
       "    <tr>\n",
       "      <th>4</th>\n",
       "      <td>CHEMBL64597</td>\n",
       "      <td>6.52</td>\n",
       "      <td>c1cnc(N2CCN(Cc3cccc(-c4ccsc4)c3)CC2)nc1</td>\n",
       "    </tr>\n",
       "    <tr>\n",
       "      <th>...</th>\n",
       "      <td>...</td>\n",
       "      <td>...</td>\n",
       "      <td>...</td>\n",
       "    </tr>\n",
       "    <tr>\n",
       "      <th>474</th>\n",
       "      <td>CHEMBL3805434</td>\n",
       "      <td>7.42</td>\n",
       "      <td>CNC(=O)c1cc(OCCCCN2CCN(c3cccc(Cl)c3Cl)CC2)cc(C...</td>\n",
       "    </tr>\n",
       "    <tr>\n",
       "      <th>475</th>\n",
       "      <td>CHEMBL3805327</td>\n",
       "      <td>7.23</td>\n",
       "      <td>CNC(=O)c1ccc(Cl)c(OCCCCN2CCN(c3cccc(Cl)c3Cl)CC...</td>\n",
       "    </tr>\n",
       "    <tr>\n",
       "      <th>476</th>\n",
       "      <td>CHEMBL3805262</td>\n",
       "      <td>5.80</td>\n",
       "      <td>CNC(=O)c1cc(F)cc(OCCCCN2CCN(c3cccc(Cl)c3Cl)CC2)c1</td>\n",
       "    </tr>\n",
       "    <tr>\n",
       "      <th>477</th>\n",
       "      <td>CHEMBL3805515</td>\n",
       "      <td>6.70</td>\n",
       "      <td>CNC(=O)c1cccc(OCCCCN2CCN(c3cccc(Cl)c3Cl)CC2)c1OC</td>\n",
       "    </tr>\n",
       "    <tr>\n",
       "      <th>478</th>\n",
       "      <td>CHEMBL3805046</td>\n",
       "      <td>6.77</td>\n",
       "      <td>CNC(=O)c1cccc(OCCCCN2CCN(c3cccc(Cl)c3Cl)CC2)c1F</td>\n",
       "    </tr>\n",
       "  </tbody>\n",
       "</table>\n",
       "<p>479 rows × 3 columns</p>\n",
       "</div>"
      ],
      "text/plain": [
       "         ChEMBL_ID  pIC50                                             smiles\n",
       "0     CHEMBL303519   5.01          c1cnc(N2CCN(Cc3cccc4c3Cc3ccccc3-4)CC2)nc1\n",
       "1     CHEMBL292943   7.30         COc1ccc(-c2cccc(CN3CCN(c4ncccn4)CC3)c2)cc1\n",
       "2      CHEMBL61682   7.60         Fc1ccc(-c2cncc(CN3CCN(c4ccccc4F)CC3)c2)cc1\n",
       "3      CHEMBL64487   6.44           COc1ccccc1-c1cccc(CN2CCN(c3ncccn3)CC2)c1\n",
       "4      CHEMBL64597   6.52            c1cnc(N2CCN(Cc3cccc(-c4ccsc4)c3)CC2)nc1\n",
       "..             ...    ...                                                ...\n",
       "474  CHEMBL3805434   7.42  CNC(=O)c1cc(OCCCCN2CCN(c3cccc(Cl)c3Cl)CC2)cc(C...\n",
       "475  CHEMBL3805327   7.23  CNC(=O)c1ccc(Cl)c(OCCCCN2CCN(c3cccc(Cl)c3Cl)CC...\n",
       "476  CHEMBL3805262   5.80  CNC(=O)c1cc(F)cc(OCCCCN2CCN(c3cccc(Cl)c3Cl)CC2)c1\n",
       "477  CHEMBL3805515   6.70   CNC(=O)c1cccc(OCCCCN2CCN(c3cccc(Cl)c3Cl)CC2)c1OC\n",
       "478  CHEMBL3805046   6.77    CNC(=O)c1cccc(OCCCCN2CCN(c3cccc(Cl)c3Cl)CC2)c1F\n",
       "\n",
       "[479 rows x 3 columns]"
      ]
     },
     "execution_count": 7,
     "metadata": {},
     "output_type": "execute_result"
    }
   ],
   "source": [
    "data"
   ]
  },
  {
   "cell_type": "markdown",
   "metadata": {
    "id": "w4uzmGxSxX7S"
   },
   "source": [
    "### 3. Računanje moleklularnih deskriptora\n",
    "Calculate molecular descriptors by using Mordred Python package or some other available molecular descriptor calculator. Use all available 0D, 1D, 2D and 3D molecular descriptors\n",
    "\n",
    "\n",
    "- 0D descriptors: Molecular weight, atom count, etc.\n",
    "- 1D descriptors: Simple structural features\n",
    "- 2D descriptors: Topological and connectivity-based descriptors\n",
    "- 3D descriptors: Geometric and spatial characteristics\n",
    "\n",
    "https://mordred-descriptor.github.io/documentation/master/descriptors.html"
   ]
  },
  {
   "cell_type": "code",
   "execution_count": 8,
   "metadata": {
    "colab": {
     "base_uri": "https://localhost:8080/"
    },
    "id": "Y0cbPufZag33",
    "outputId": "b503464d-4a81-4f7d-8201-2f26c2b3765e"
   },
   "outputs": [
    {
     "name": "stdout",
     "output_type": "stream",
     "text": [
      "Converting SMILES to 3D structures and generating SDF file...\n",
      "Calculating descriptors...\n"
     ]
    },
    {
     "name": "stderr",
     "output_type": "stream",
     "text": [
      "  3%|▎         | 14/479 [00:04<01:10,  6.59it/s]"
     ]
    },
    {
     "name": "stdout",
     "output_type": "stream",
     "text": [
      "c:\\Users\\afs\\anaconda3\\envs\\oldPy36\\lib\\site-packages\\numpy\\core\\fromnumeric.py:87: RuntimeWarning: overflow encountered in reduce\n",
      "  return ufunc.reduce(obj, axis, dtype, out, **passkwargs)\n"
     ]
    },
    {
     "name": "stderr",
     "output_type": "stream",
     "text": [
      " 19%|█▊        | 89/479 [00:08<00:34, 11.36it/s]"
     ]
    },
    {
     "name": "stdout",
     "output_type": "stream",
     "text": [
      "c:\\Users\\afs\\anaconda3\\envs\\oldPy36\\lib\\site-packages\\numpy\\core\\fromnumeric.py:87: RuntimeWarning: overflow encountered in reduce\n",
      "  return ufunc.reduce(obj, axis, dtype, out, **passkwargs)\n",
      "c:\\Users\\afs\\anaconda3\\envs\\oldPy36\\lib\\site-packages\\numpy\\core\\fromnumeric.py:87: RuntimeWarning: overflow encountered in reduce\n",
      "  return ufunc.reduce(obj, axis, dtype, out, **passkwargs)\n",
      "c:\\Users\\afs\\anaconda3\\envs\\oldPy36\\lib\\site-packages\\numpy\\core\\fromnumeric.py:87: RuntimeWarning: overflow encountered in reduce\n",
      "  return ufunc.reduce(obj, axis, dtype, out, **passkwargs)\n",
      "c:\\Users\\afs\\anaconda3\\envs\\oldPy36\\lib\\site-packages\\numpy\\core\\fromnumeric.py:87: RuntimeWarning: overflow encountered in reduce\n",
      "  return ufunc.reduce(obj, axis, dtype, out, **passkwargs)\n",
      "c:\\Users\\afs\\anaconda3\\envs\\oldPy36\\lib\\site-packages\\numpy\\core\\fromnumeric.py:87: RuntimeWarning: overflow encountered in reduce\n",
      "  return ufunc.reduce(obj, axis, dtype, out, **passkwargs)\n",
      "c:\\Users\\afs\\anaconda3\\envs\\oldPy36\\lib\\site-packages\\numpy\\core\\fromnumeric.py:87: RuntimeWarning: overflow encountered in reduce\n",
      "  return ufunc.reduce(obj, axis, dtype, out, **passkwargs)\n"
     ]
    },
    {
     "name": "stderr",
     "output_type": "stream",
     "text": [
      " 37%|███▋      | 177/479 [00:18<00:34,  8.75it/s]"
     ]
    },
    {
     "name": "stdout",
     "output_type": "stream",
     "text": [
      "c:\\Users\\afs\\anaconda3\\envs\\oldPy36\\lib\\site-packages\\numpy\\core\\fromnumeric.py:87: RuntimeWarning: overflow encountered in reduce\n",
      "  return ufunc.reduce(obj, axis, dtype, out, **passkwargs)\n"
     ]
    },
    {
     "name": "stderr",
     "output_type": "stream",
     "text": [
      " 72%|███████▏  | 346/479 [00:34<00:10, 12.79it/s]"
     ]
    },
    {
     "name": "stdout",
     "output_type": "stream",
     "text": [
      "c:\\Users\\afs\\anaconda3\\envs\\oldPy36\\lib\\site-packages\\numpy\\core\\fromnumeric.py:87: RuntimeWarning: overflow encountered in reduce\n",
      "  return ufunc.reduce(obj, axis, dtype, out, **passkwargs)\n"
     ]
    },
    {
     "name": "stderr",
     "output_type": "stream",
     "text": [
      " 74%|███████▍  | 355/479 [00:40<00:33,  3.68it/s]"
     ]
    },
    {
     "name": "stdout",
     "output_type": "stream",
     "text": [
      "c:\\Users\\afs\\anaconda3\\envs\\oldPy36\\lib\\site-packages\\numpy\\core\\fromnumeric.py:87: RuntimeWarning: overflow encountered in reduce\n",
      "  return ufunc.reduce(obj, axis, dtype, out, **passkwargs)\n",
      "c:\\Users\\afs\\anaconda3\\envs\\oldPy36\\lib\\site-packages\\numpy\\core\\fromnumeric.py:87: RuntimeWarning: overflow encountered in reduce\n",
      "  return ufunc.reduce(obj, axis, dtype, out, **passkwargs)\n",
      "c:\\Users\\afs\\anaconda3\\envs\\oldPy36\\lib\\site-packages\\numpy\\core\\fromnumeric.py:87: RuntimeWarning: overflow encountered in reduce\n",
      "  return ufunc.reduce(obj, axis, dtype, out, **passkwargs)\n",
      "c:\\Users\\afs\\anaconda3\\envs\\oldPy36\\lib\\site-packages\\numpy\\core\\fromnumeric.py:87: RuntimeWarning: overflow encountered in reduce\n",
      "  return ufunc.reduce(obj, axis, dtype, out, **passkwargs)\n",
      "c:\\Users\\afs\\anaconda3\\envs\\oldPy36\\lib\\site-packages\\numpy\\core\\fromnumeric.py:87: RuntimeWarning: overflow encountered in reduce\n",
      "  return ufunc.reduce(obj, axis, dtype, out, **passkwargs)\n"
     ]
    },
    {
     "name": "stderr",
     "output_type": "stream",
     "text": [
      " 77%|███████▋  | 371/479 [00:41<00:15,  6.91it/s]"
     ]
    },
    {
     "name": "stdout",
     "output_type": "stream",
     "text": [
      "c:\\Users\\afs\\anaconda3\\envs\\oldPy36\\lib\\site-packages\\numpy\\core\\fromnumeric.py:87: RuntimeWarning: overflow encountered in reduce\n",
      "  return ufunc.reduce(obj, axis, dtype, out, **passkwargs)\n",
      "c:\\Users\\afs\\anaconda3\\envs\\oldPy36\\lib\\site-packages\\numpy\\core\\fromnumeric.py:87: RuntimeWarning: overflow encountered in reduce\n",
      "  return ufunc.reduce(obj, axis, dtype, out, **passkwargs)\n"
     ]
    },
    {
     "name": "stderr",
     "output_type": "stream",
     "text": [
      "100%|██████████| 479/479 [00:50<00:00,  9.41it/s]\n"
     ]
    },
    {
     "name": "stdout",
     "output_type": "stream",
     "text": [
      "\n",
      "Dataset Summary:\n",
      "Total molecules processed: 479\n",
      "Total features generated: 1829\n"
     ]
    }
   ],
   "source": [
    "from rdkit import Chem\n",
    "from rdkit.Chem import AllChem\n",
    "from mordred import Calculator, descriptors\n",
    "import pandas as pd\n",
    "import tempfile\n",
    "import os\n",
    "\n",
    "def generate_3d_conformer(mol):\n",
    "    \"\"\"\n",
    "    Generate 3D conformer for a molecule.\n",
    "    \"\"\"\n",
    "    mol = Chem.AddHs(mol)\n",
    "    success = AllChem.EmbedMolecule(mol, randomSeed=42, useRandomCoords=True)\n",
    "    if success == -1:\n",
    "        return None\n",
    "    try:\n",
    "        AllChem.MMFFOptimizeMolecule(mol)\n",
    "    except:\n",
    "        try:\n",
    "            AllChem.UFFOptimizeMolecule(mol)\n",
    "        except:\n",
    "            return None\n",
    "    return mol\n",
    "\n",
    "def smiles_to_sdf(df, smiles_col='smiles', id_col='ChEMBL_ID'):\n",
    "    \"\"\"\n",
    "    Convert SMILES to SDF file with 3D conformers.\n",
    "    \"\"\"\n",
    "    mols = []\n",
    "    valid_indices = []\n",
    "\n",
    "    for idx, row in df.iterrows():\n",
    "        mol = Chem.MolFromSmiles(row[smiles_col])\n",
    "        if mol is not None:\n",
    "            mol_3d = generate_3d_conformer(mol)\n",
    "            if mol_3d is not None:\n",
    "                # Add properties to the molecule\n",
    "                for col in df.columns:\n",
    "                    if col != smiles_col:\n",
    "                        mol_3d.SetProp(col, str(row[col]))\n",
    "                mols.append(mol_3d)\n",
    "                valid_indices.append(idx)\n",
    "            else:\n",
    "                print(f\"Failed to generate 3D conformer for molecule {row[id_col]}\")\n",
    "\n",
    "    temp_sdf = tempfile.NamedTemporaryFile(suffix='.sdf', delete=False)\n",
    "    writer = Chem.SDWriter(temp_sdf.name)\n",
    "\n",
    "    for mol in mols:\n",
    "        writer.write(mol)\n",
    "    writer.close()\n",
    "\n",
    "    return temp_sdf.name, valid_indices\n",
    "\n",
    "def calculate_mordred_descriptors(sdf_file):\n",
    "    \"\"\"\n",
    "    Calculate all Mordred descriptors including 3D.\n",
    "    \"\"\"\n",
    "    calc = Calculator(descriptors, ignore_3D=False)\n",
    "    mols = [mol for mol in Chem.SDMolSupplier(sdf_file) if mol is not None]\n",
    "    df_descriptors = calc.pandas(mols)\n",
    "    return df_descriptors\n",
    "\n",
    "print(\"Converting SMILES to 3D structures and generating SDF file...\")\n",
    "sdf_file, valid_indices = smiles_to_sdf(df=data)\n",
    "\n",
    "try:\n",
    "    print(\"Calculating descriptors...\")\n",
    "    descriptors_df = calculate_mordred_descriptors(sdf_file)\n",
    "\n",
    "    # Combine the descriptors with the original data\n",
    "    valid_data = data.iloc[valid_indices].reset_index(drop=True)\n",
    "    final_dataset = pd.concat([valid_data.reset_index(drop=True), descriptors_df.reset_index(drop=True)], axis=1)\n",
    "\n",
    "    # Save the complete dataset\n",
    "    final_dataset.to_csv('molecular_features.csv', index=False)\n",
    "\n",
    "    # Print summary statistics\n",
    "    print(\"\\nDataset Summary:\")\n",
    "    print(f\"Total molecules processed: {len(final_dataset)}\")\n",
    "    print(f\"Total features generated: {len(final_dataset.columns)}\")\n",
    "\n",
    "finally:\n",
    "    # Clean up temporary file\n",
    "    os.remove(sdf_file)"
   ]
  },
  {
   "cell_type": "code",
   "execution_count": 9,
   "metadata": {
    "colab": {
     "base_uri": "https://localhost:8080/",
     "height": 342
    },
    "id": "2L80nWuy6cDr",
    "outputId": "67a6e69b-9067-4311-e7b1-20decf615a77"
   },
   "outputs": [
    {
     "data": {
      "text/html": [
       "<div>\n",
       "<style scoped>\n",
       "    .dataframe tbody tr th:only-of-type {\n",
       "        vertical-align: middle;\n",
       "    }\n",
       "\n",
       "    .dataframe tbody tr th {\n",
       "        vertical-align: top;\n",
       "    }\n",
       "\n",
       "    .dataframe thead th {\n",
       "        text-align: right;\n",
       "    }\n",
       "</style>\n",
       "<table border=\"1\" class=\"dataframe\">\n",
       "  <thead>\n",
       "    <tr style=\"text-align: right;\">\n",
       "      <th></th>\n",
       "      <th>ChEMBL_ID</th>\n",
       "      <th>pIC50</th>\n",
       "      <th>smiles</th>\n",
       "      <th>ABC</th>\n",
       "      <th>ABCGG</th>\n",
       "      <th>nAcid</th>\n",
       "      <th>nBase</th>\n",
       "      <th>SpAbs_A</th>\n",
       "      <th>SpMax_A</th>\n",
       "      <th>SpDiam_A</th>\n",
       "      <th>...</th>\n",
       "      <th>SRW10</th>\n",
       "      <th>TSRW10</th>\n",
       "      <th>MW</th>\n",
       "      <th>AMW</th>\n",
       "      <th>WPath</th>\n",
       "      <th>WPol</th>\n",
       "      <th>Zagreb1</th>\n",
       "      <th>Zagreb2</th>\n",
       "      <th>mZagreb1</th>\n",
       "      <th>mZagreb2</th>\n",
       "    </tr>\n",
       "  </thead>\n",
       "  <tbody>\n",
       "    <tr>\n",
       "      <th>0</th>\n",
       "      <td>CHEMBL303519</td>\n",
       "      <td>5.01</td>\n",
       "      <td>c1cnc(N2CCN(Cc3cccc4c3Cc3ccccc3-4)CC2)nc1</td>\n",
       "      <td>21.011003</td>\n",
       "      <td>14.920944</td>\n",
       "      <td>0</td>\n",
       "      <td>1</td>\n",
       "      <td>35.8356</td>\n",
       "      <td>2.50488</td>\n",
       "      <td>4.869</td>\n",
       "      <td>...</td>\n",
       "      <td>10.266776</td>\n",
       "      <td>75.682997</td>\n",
       "      <td>342.184447</td>\n",
       "      <td>7.128843</td>\n",
       "      <td>1797</td>\n",
       "      <td>42</td>\n",
       "      <td>144.0</td>\n",
       "      <td>173.0</td>\n",
       "      <td>5.38889</td>\n",
       "      <td>5.638889</td>\n",
       "    </tr>\n",
       "    <tr>\n",
       "      <th>1</th>\n",
       "      <td>CHEMBL292943</td>\n",
       "      <td>7.30</td>\n",
       "      <td>COc1ccc(-c2cccc(CN3CCN(c4ncccn4)CC3)c2)cc1</td>\n",
       "      <td>21.132323</td>\n",
       "      <td>14.720991</td>\n",
       "      <td>0</td>\n",
       "      <td>1</td>\n",
       "      <td>36.5224</td>\n",
       "      <td>2.36015</td>\n",
       "      <td>4.72031</td>\n",
       "      <td>...</td>\n",
       "      <td>10.083765</td>\n",
       "      <td>61.954496</td>\n",
       "      <td>360.195011</td>\n",
       "      <td>7.062647</td>\n",
       "      <td>2172</td>\n",
       "      <td>40</td>\n",
       "      <td>140.0</td>\n",
       "      <td>162.0</td>\n",
       "      <td>6.52778</td>\n",
       "      <td>6.055556</td>\n",
       "    </tr>\n",
       "    <tr>\n",
       "      <th>2</th>\n",
       "      <td>CHEMBL61682</td>\n",
       "      <td>7.60</td>\n",
       "      <td>Fc1ccc(-c2cncc(CN3CCN(c4ccccc4F)CC3)c2)cc1</td>\n",
       "      <td>21.310663</td>\n",
       "      <td>15.088212</td>\n",
       "      <td>0</td>\n",
       "      <td>1</td>\n",
       "      <td>35.8117</td>\n",
       "      <td>2.37017</td>\n",
       "      <td>4.74033</td>\n",
       "      <td>...</td>\n",
       "      <td>10.141362</td>\n",
       "      <td>62.103563</td>\n",
       "      <td>365.170354</td>\n",
       "      <td>7.607716</td>\n",
       "      <td>2130</td>\n",
       "      <td>41</td>\n",
       "      <td>142.0</td>\n",
       "      <td>165.0</td>\n",
       "      <td>7.13889</td>\n",
       "      <td>5.916667</td>\n",
       "    </tr>\n",
       "    <tr>\n",
       "      <th>3</th>\n",
       "      <td>CHEMBL64487</td>\n",
       "      <td>6.44</td>\n",
       "      <td>COc1ccccc1-c1cccc(CN2CCN(c3ncccn3)CC2)c1</td>\n",
       "      <td>21.091883</td>\n",
       "      <td>15.171089</td>\n",
       "      <td>0</td>\n",
       "      <td>1</td>\n",
       "      <td>36.5285</td>\n",
       "      <td>2.37851</td>\n",
       "      <td>4.75702</td>\n",
       "      <td>...</td>\n",
       "      <td>10.117429</td>\n",
       "      <td>62.012532</td>\n",
       "      <td>360.195011</td>\n",
       "      <td>7.062647</td>\n",
       "      <td>2096</td>\n",
       "      <td>41</td>\n",
       "      <td>140.0</td>\n",
       "      <td>163.0</td>\n",
       "      <td>6.52778</td>\n",
       "      <td>6.083333</td>\n",
       "    </tr>\n",
       "    <tr>\n",
       "      <th>4</th>\n",
       "      <td>CHEMBL64597</td>\n",
       "      <td>6.52</td>\n",
       "      <td>c1cnc(N2CCN(Cc3cccc(-c4ccsc4)c3)CC2)nc1</td>\n",
       "      <td>19.011003</td>\n",
       "      <td>14.059124</td>\n",
       "      <td>0</td>\n",
       "      <td>1</td>\n",
       "      <td>32.5796</td>\n",
       "      <td>2.35661</td>\n",
       "      <td>4.69809</td>\n",
       "      <td>...</td>\n",
       "      <td>9.949655</td>\n",
       "      <td>71.503368</td>\n",
       "      <td>336.140868</td>\n",
       "      <td>7.639565</td>\n",
       "      <td>1532</td>\n",
       "      <td>33</td>\n",
       "      <td>126.0</td>\n",
       "      <td>146.0</td>\n",
       "      <td>5.16667</td>\n",
       "      <td>5.305556</td>\n",
       "    </tr>\n",
       "  </tbody>\n",
       "</table>\n",
       "<p>5 rows × 1829 columns</p>\n",
       "</div>"
      ],
      "text/plain": [
       "      ChEMBL_ID  pIC50                                      smiles        ABC  \\\n",
       "0  CHEMBL303519   5.01   c1cnc(N2CCN(Cc3cccc4c3Cc3ccccc3-4)CC2)nc1  21.011003   \n",
       "1  CHEMBL292943   7.30  COc1ccc(-c2cccc(CN3CCN(c4ncccn4)CC3)c2)cc1  21.132323   \n",
       "2   CHEMBL61682   7.60  Fc1ccc(-c2cncc(CN3CCN(c4ccccc4F)CC3)c2)cc1  21.310663   \n",
       "3   CHEMBL64487   6.44    COc1ccccc1-c1cccc(CN2CCN(c3ncccn3)CC2)c1  21.091883   \n",
       "4   CHEMBL64597   6.52     c1cnc(N2CCN(Cc3cccc(-c4ccsc4)c3)CC2)nc1  19.011003   \n",
       "\n",
       "       ABCGG  nAcid  nBase  SpAbs_A  SpMax_A SpDiam_A  ...      SRW10  \\\n",
       "0  14.920944      0      1  35.8356  2.50488    4.869  ...  10.266776   \n",
       "1  14.720991      0      1  36.5224  2.36015  4.72031  ...  10.083765   \n",
       "2  15.088212      0      1  35.8117  2.37017  4.74033  ...  10.141362   \n",
       "3  15.171089      0      1  36.5285  2.37851  4.75702  ...  10.117429   \n",
       "4  14.059124      0      1  32.5796  2.35661  4.69809  ...   9.949655   \n",
       "\n",
       "      TSRW10          MW       AMW WPath WPol Zagreb1 Zagreb2 mZagreb1  \\\n",
       "0  75.682997  342.184447  7.128843  1797   42   144.0   173.0  5.38889   \n",
       "1  61.954496  360.195011  7.062647  2172   40   140.0   162.0  6.52778   \n",
       "2  62.103563  365.170354  7.607716  2130   41   142.0   165.0  7.13889   \n",
       "3  62.012532  360.195011  7.062647  2096   41   140.0   163.0  6.52778   \n",
       "4  71.503368  336.140868  7.639565  1532   33   126.0   146.0  5.16667   \n",
       "\n",
       "   mZagreb2  \n",
       "0  5.638889  \n",
       "1  6.055556  \n",
       "2  5.916667  \n",
       "3  6.083333  \n",
       "4  5.305556  \n",
       "\n",
       "[5 rows x 1829 columns]"
      ]
     },
     "execution_count": 9,
     "metadata": {},
     "output_type": "execute_result"
    }
   ],
   "source": [
    "final_dataset.head()"
   ]
  },
  {
   "cell_type": "markdown",
   "metadata": {
    "id": "YLA8QXVJxX7S"
   },
   "source": [
    "### 4. Čišćenje podataka\n",
    "Clean the transformed data of missing values and outliers. Remove duplicates.\n",
    "\n",
    "- Nema duplikata.\n",
    "- After generating all descriptors for each molecule, we removed descriptors with non-numerical values (e.g., containing strings or NA values) and descriptors with matching values across most (\n",
    "95%) molecules. (https://www.sciencedirect.com/science/article/pii/S0016236122006950#sec3)"
   ]
  },
  {
   "cell_type": "code",
   "execution_count": 10,
   "metadata": {
    "id": "2y_xLilaoWq_"
   },
   "outputs": [],
   "source": [
    "def prepare_features(descriptors_df):\n",
    "    \"\"\"\n",
    "    Clean and prepare descriptors for machine learning while preserving specified columns.\n",
    "    \"\"\"\n",
    "    # Columns to preserve\n",
    "    string_columns_to_preserve = ['ChEMBL_ID', 'smiles', 'pIC50']\n",
    "\n",
    "    # Separate preserved columns\n",
    "    preserved_columns = descriptors_df[string_columns_to_preserve]\n",
    "\n",
    "    # Work on the remaining numeric columns\n",
    "    numeric_df = descriptors_df.drop(columns=string_columns_to_preserve, errors='ignore')\n",
    "\n",
    "    # Convert all to numeric, replacing non-numeric with NaN\n",
    "    numeric_df = numeric_df.apply(pd.to_numeric, errors='coerce')\n",
    "\n",
    "    # Remove columns with any NaN values\n",
    "    numeric_df = numeric_df.dropna(axis=1)\n",
    "\n",
    "    # Remove columns with constant or near-constant values across 95% of rows\n",
    "    variability_thresh = 0.05 * len(numeric_df)\n",
    "    numeric_df = numeric_df.loc[:, numeric_df.nunique() > variability_thresh]\n",
    "\n",
    "    # Combine preserved columns back with cleaned numeric data\n",
    "    final_df = pd.concat([preserved_columns.reset_index(drop=True), numeric_df.reset_index(drop=True)], axis=1)\n",
    "\n",
    "    return final_df"
   ]
  },
  {
   "cell_type": "code",
   "execution_count": 11,
   "metadata": {
    "colab": {
     "base_uri": "https://localhost:8080/"
    },
    "id": "F9NUr5urxX7T",
    "outputId": "34357764-3f68-4c1d-b75a-c77834f6e1fb"
   },
   "outputs": [
    {
     "data": {
      "text/plain": [
       "0"
      ]
     },
     "execution_count": 11,
     "metadata": {},
     "output_type": "execute_result"
    }
   ],
   "source": [
    "final_dataset = prepare_features(final_dataset)\n",
    "final_dataset['smiles'].duplicated().sum()"
   ]
  },
  {
   "cell_type": "code",
   "execution_count": 12,
   "metadata": {
    "colab": {
     "base_uri": "https://localhost:8080/"
    },
    "id": "cU1p8Zy7xX7T",
    "outputId": "d71f67a7-0cff-463b-ac52-52dfb7b0b554"
   },
   "outputs": [
    {
     "name": "stdout",
     "output_type": "stream",
     "text": [
      "Series([], dtype: int64)\n"
     ]
    }
   ],
   "source": [
    "null_counts = final_dataset.isnull().sum()\n",
    "columns_with_nulls = null_counts[null_counts != 0]\n",
    "print(columns_with_nulls)"
   ]
  },
  {
   "cell_type": "code",
   "execution_count": 13,
   "metadata": {
    "colab": {
     "base_uri": "https://localhost:8080/",
     "height": 430
    },
    "id": "lFQOBhyTxX7T",
    "outputId": "e5566a41-1cfc-4f0b-bf92-4676a04e00ee"
   },
   "outputs": [
    {
     "data": {
      "image/png": "[encoded data removed]",
      "text/plain": [
       "<Figure size 432x288 with 1 Axes>"
      ]
     },
     "metadata": {
      "needs_background": "light"
     },
     "output_type": "display_data"
    }
   ],
   "source": [
    "# boxplot značajke koju bismo trebali predvidjeti\n",
    "# nema outliera\n",
    "plt.boxplot(final_dataset['pIC50'])\n",
    "plt.show()"
   ]
  },
  {
   "cell_type": "code",
   "execution_count": 14,
   "metadata": {
    "colab": {
     "base_uri": "https://localhost:8080/",
     "height": 335
    },
    "id": "EMsWYqn2uV9T",
    "outputId": "807ef44f-ea71-4a70-ece5-32addd524a7c"
   },
   "outputs": [
    {
     "data": {
      "text/plain": [
       "count    479.000000\n",
       "mean       6.698689\n",
       "std        1.070454\n",
       "min        4.520000\n",
       "25%        5.865000\n",
       "50%        6.600000\n",
       "75%        7.450000\n",
       "max        9.540000\n",
       "Name: pIC50, dtype: float64"
      ]
     },
     "execution_count": 14,
     "metadata": {},
     "output_type": "execute_result"
    }
   ],
   "source": [
    "final_dataset['pIC50'].describe()"
   ]
  },
  {
   "cell_type": "code",
   "execution_count": 15,
   "metadata": {
    "colab": {
     "base_uri": "https://localhost:8080/"
    },
    "id": "j-qwfzxWuo1B",
    "outputId": "3e9db1bb-a857-4170-be8b-39c4cc4b4d05"
   },
   "outputs": [
    {
     "data": {
      "text/plain": [
       "(479, 844)"
      ]
     },
     "execution_count": 15,
     "metadata": {},
     "output_type": "execute_result"
    }
   ],
   "source": [
    "final_dataset.shape"
   ]
  },
  {
   "cell_type": "markdown",
   "metadata": {
    "id": "aHmCtRhYu8PR"
   },
   "source": [
    "### 5. Feature analysis"
   ]
  },
  {
   "cell_type": "markdown",
   "metadata": {
    "id": "-D0vqqakvvbc"
   },
   "source": [
    "**Simple correlation analysis with pIC50 feature**"
   ]
  },
  {
   "cell_type": "code",
   "execution_count": 16,
   "metadata": {
    "colab": {
     "base_uri": "https://localhost:8080/"
    },
    "id": "h2C2HDsPnbgg",
    "outputId": "9e604559-c7b2-4874-cc45-c46fdbb7a92f"
   },
   "outputs": [
    {
     "name": "stdout",
     "output_type": "stream",
     "text": [
      "\n",
      "Top 20 most correlated features with pIC50:\n",
      "         feature  correlation_with_pIC50\n",
      "752  VSA_EState4               -0.404023\n",
      "804         JGI2                0.399152\n",
      "236      ATSC6se               -0.359026\n",
      "522      nBondsM               -0.348365\n",
      "327     AATSC4se                0.343370\n",
      "348      AATSC1p               -0.336896\n",
      "408      MATS4se                0.333279\n",
      "733   SlogP_VSA3               -0.328671\n",
      "398       MATS1v               -0.325979\n",
      "316      AATSC1v               -0.324394\n",
      "730     SMR_VSA7               -0.323100\n",
      "510       GATS1i                0.322742\n",
      "234      ATSC4se                0.322310\n",
      "343    AATSC4are                0.320178\n",
      "426       MATS1p               -0.318383\n",
      "254     ATSC6are               -0.317197\n",
      "433       MATS1i               -0.316364\n",
      "335     AATSC4pe                0.315915\n",
      "782        piPC8               -0.312378\n",
      "410      MATS6se               -0.312161\n"
     ]
    }
   ],
   "source": [
    "# Columns to preserve\n",
    "preserved_columns = ['ChEMBL_ID', 'smiles', 'pIC50']\n",
    "\n",
    "# Identify columns to compute correlations for\n",
    "numeric_columns = [col for col in final_dataset.columns if col not in preserved_columns]\n",
    "\n",
    "# Create a feature correlation matrix with pIC50\n",
    "correlations = pd.DataFrame({\n",
    "    'feature': numeric_columns,\n",
    "    'correlation_with_pIC50': [\n",
    "        final_dataset[col].corr(final_dataset['pIC50']) for col in numeric_columns\n",
    "    ]\n",
    "})\n",
    "\n",
    "# Sort correlations by absolute value\n",
    "correlations = correlations.sort_values('correlation_with_pIC50', key=abs, ascending=False)\n",
    "\n",
    "# Display the top 20 most correlated features\n",
    "print(\"\\nTop 20 most correlated features with pIC50:\")\n",
    "print(correlations.head(20))"
   ]
  },
  {
   "cell_type": "markdown",
   "metadata": {
    "id": "BACNtHo9DW1B"
   },
   "source": [
    "**Removing features that are highly correlated between themselves**"
   ]
  },
  {
   "cell_type": "markdown",
   "metadata": {
    "id": "fPbN5Jxav4cz"
   },
   "source": [
    "**Recursive Feature Elimination (RFE) with an ensemble model estimator (Random Forest Regressor)**"
   ]
  },
  {
   "cell_type": "code",
   "execution_count": 17,
   "metadata": {
    "id": "0Pa5MyoMHRAe"
   },
   "outputs": [],
   "source": [
    "X = final_dataset.drop(['pIC50', 'ChEMBL_ID', 'smiles'], axis=1)\n",
    "y = final_dataset['pIC50']"
   ]
  },
  {
   "cell_type": "code",
   "execution_count": 18,
   "metadata": {
    "colab": {
     "base_uri": "https://localhost:8080/"
    },
    "id": "rcXTneQJRnF8",
    "outputId": "e47d4f4c-85f9-429b-bf2f-7b7fa9255330"
   },
   "outputs": [
    {
     "name": "stdout",
     "output_type": "stream",
     "text": [
      "(479, 841)\n"
     ]
    }
   ],
   "source": [
    "print(X.shape)\n",
    "correlation_matrix = X.corr(method='spearman')\n",
    "\n",
    "upper = correlation_matrix.where(np.triu(np.ones(correlation_matrix.shape), k=1).astype(bool))\n",
    "\n",
    "# Find features with correlation > 0.85\n",
    "high_correlation_features = [column for column in upper.columns if any(upper[column] > 0.85)]\n",
    "\n",
    "# Drop highly correlated features\n",
    "filtered_dataset = X.drop(columns=high_correlation_features)\n",
    "# print(filtered_dataset.shape)"
   ]
  },
  {
   "cell_type": "code",
   "execution_count": 19,
   "metadata": {
    "colab": {
     "base_uri": "https://localhost:8080/",
     "height": 356
    },
    "id": "fW8XvEP3SX7q",
    "outputId": "7c13c585-7245-41b6-e9bb-130a6a25747a"
   },
   "outputs": [
    {
     "name": "stdout",
     "output_type": "stream",
     "text": [
      "\n",
      "Number of features selected by RFECV: 32\n",
      "Selected features:\n",
      "['AATS4v', 'AATS4i', 'ATSC8c', 'ATSC5v', 'ATSC4se', 'ATSC6se', 'AATSC0d', 'GATS2c', 'GATS3c', 'GATS6c', 'GATS6dv', 'GATS1Z', 'GATS6se', 'PNSA1', 'PNSA2', 'RNCS', 'AXp-1d', 'AXp-2d', 'SsssN', 'GeomShapeIndex', 'IC2', 'IC3', 'CIC3', 'FilterItLogS', 'PEOE_VSA9', 'SlogP_VSA3', 'VSA_EState4', 'VSA_EState8', 'GGI8', 'JGI2', 'JGI3', 'JGI5']\n",
      "Shape of the final dataset: (479, 32)\n"
     ]
    }
   ],
   "source": [
    "from sklearn.ensemble import RandomForestRegressor\n",
    "from sklearn.feature_selection import RFECV\n",
    "from sklearn.preprocessing import StandardScaler\n",
    "\n",
    "scaler = StandardScaler()\n",
    "X_scaled = scaler.fit_transform(filtered_dataset)\n",
    "\n",
    "# Implement RFECV\n",
    "rf_model = RandomForestRegressor(n_estimators=500, random_state=42)\n",
    "rfecv = RFECV(\n",
    "    estimator=rf_model,\n",
    "    step=1,\n",
    "    cv=5,  # 5-fold cross-validation\n",
    "    scoring=\"r2\",  # Use R^2 as the scoring metric\n",
    "    n_jobs=-1,\n",
    "    min_features_to_select=20\n",
    ")\n",
    "\n",
    "# Fit RFECV to the filtered dataset\n",
    "rfecv.fit(X_scaled, y)\n",
    "\n",
    "# Identify selected features\n",
    "selected_features = filtered_dataset.columns[rfecv.support_]\n",
    "print(f\"\\nNumber of features selected by RFECV: {len(selected_features)}\")\n",
    "print(f\"Selected features:\\n{selected_features.tolist()}\")\n",
    "\n",
    "# Filter the dataset to keep only the selected features\n",
    "df_feature_selection = filtered_dataset[selected_features]\n",
    "print(f\"Shape of the final dataset: {df_feature_selection.shape}\")"
   ]
  },
  {
   "cell_type": "markdown",
   "metadata": {},
   "source": [
    "### 6. Skaliranje podatka\n",
    "\n",
    "Define and initialize scaler by using Scikit-learn Python package. Scale the data appropriately.\n",
    "\n",
    "- https://scikit-learn.org/1.5/modules/preprocessing.html -> trebalo bi proučiti i odabrati scaler na temelju značajki (?)"
   ]
  },
  {
   "cell_type": "code",
   "execution_count": 26,
   "metadata": {},
   "outputs": [
    {
     "data": {
      "text/html": [
       "<div>\n",
       "<style scoped>\n",
       "    .dataframe tbody tr th:only-of-type {\n",
       "        vertical-align: middle;\n",
       "    }\n",
       "\n",
       "    .dataframe tbody tr th {\n",
       "        vertical-align: top;\n",
       "    }\n",
       "\n",
       "    .dataframe thead th {\n",
       "        text-align: right;\n",
       "    }\n",
       "</style>\n",
       "<table border=\"1\" class=\"dataframe\">\n",
       "  <thead>\n",
       "    <tr style=\"text-align: right;\">\n",
       "      <th></th>\n",
       "      <th>AATS4v</th>\n",
       "      <th>AATS4i</th>\n",
       "      <th>ATSC8c</th>\n",
       "      <th>ATSC5v</th>\n",
       "      <th>ATSC4se</th>\n",
       "      <th>ATSC6se</th>\n",
       "      <th>AATSC0d</th>\n",
       "      <th>GATS2c</th>\n",
       "      <th>GATS3c</th>\n",
       "      <th>GATS6c</th>\n",
       "      <th>...</th>\n",
       "      <th>CIC3</th>\n",
       "      <th>FilterItLogS</th>\n",
       "      <th>PEOE_VSA9</th>\n",
       "      <th>SlogP_VSA3</th>\n",
       "      <th>VSA_EState4</th>\n",
       "      <th>VSA_EState8</th>\n",
       "      <th>GGI8</th>\n",
       "      <th>JGI2</th>\n",
       "      <th>JGI3</th>\n",
       "      <th>JGI5</th>\n",
       "    </tr>\n",
       "  </thead>\n",
       "  <tbody>\n",
       "    <tr>\n",
       "      <th>count</th>\n",
       "      <td>479.000000</td>\n",
       "      <td>479.000000</td>\n",
       "      <td>479.000000</td>\n",
       "      <td>479.000000</td>\n",
       "      <td>479.000000</td>\n",
       "      <td>479.000000</td>\n",
       "      <td>479.000000</td>\n",
       "      <td>479.000000</td>\n",
       "      <td>479.000000</td>\n",
       "      <td>479.000000</td>\n",
       "      <td>...</td>\n",
       "      <td>479.000000</td>\n",
       "      <td>479.000000</td>\n",
       "      <td>479.000000</td>\n",
       "      <td>479.000000</td>\n",
       "      <td>479.000000</td>\n",
       "      <td>479.000000</td>\n",
       "      <td>479.000000</td>\n",
       "      <td>479.000000</td>\n",
       "      <td>479.000000</td>\n",
       "      <td>479.000000</td>\n",
       "    </tr>\n",
       "    <tr>\n",
       "      <th>mean</th>\n",
       "      <td>0.271614</td>\n",
       "      <td>0.544137</td>\n",
       "      <td>0.611111</td>\n",
       "      <td>0.416193</td>\n",
       "      <td>0.538001</td>\n",
       "      <td>0.357597</td>\n",
       "      <td>0.443179</td>\n",
       "      <td>0.498883</td>\n",
       "      <td>0.574557</td>\n",
       "      <td>0.332210</td>\n",
       "      <td>...</td>\n",
       "      <td>0.224756</td>\n",
       "      <td>0.723218</td>\n",
       "      <td>0.172760</td>\n",
       "      <td>0.143895</td>\n",
       "      <td>0.462799</td>\n",
       "      <td>0.284859</td>\n",
       "      <td>0.140591</td>\n",
       "      <td>0.414396</td>\n",
       "      <td>0.487469</td>\n",
       "      <td>0.473368</td>\n",
       "    </tr>\n",
       "    <tr>\n",
       "      <th>std</th>\n",
       "      <td>0.101692</td>\n",
       "      <td>0.118773</td>\n",
       "      <td>0.121779</td>\n",
       "      <td>0.149887</td>\n",
       "      <td>0.125976</td>\n",
       "      <td>0.109867</td>\n",
       "      <td>0.152557</td>\n",
       "      <td>0.201222</td>\n",
       "      <td>0.141635</td>\n",
       "      <td>0.105655</td>\n",
       "      <td>...</td>\n",
       "      <td>0.137932</td>\n",
       "      <td>0.132814</td>\n",
       "      <td>0.114846</td>\n",
       "      <td>0.146753</td>\n",
       "      <td>0.172053</td>\n",
       "      <td>0.141517</td>\n",
       "      <td>0.090229</td>\n",
       "      <td>0.147179</td>\n",
       "      <td>0.182045</td>\n",
       "      <td>0.152017</td>\n",
       "    </tr>\n",
       "    <tr>\n",
       "      <th>min</th>\n",
       "      <td>0.000000</td>\n",
       "      <td>0.000000</td>\n",
       "      <td>0.000000</td>\n",
       "      <td>0.000000</td>\n",
       "      <td>0.000000</td>\n",
       "      <td>0.000000</td>\n",
       "      <td>0.000000</td>\n",
       "      <td>0.000000</td>\n",
       "      <td>0.000000</td>\n",
       "      <td>0.000000</td>\n",
       "      <td>...</td>\n",
       "      <td>0.000000</td>\n",
       "      <td>0.000000</td>\n",
       "      <td>0.000000</td>\n",
       "      <td>0.000000</td>\n",
       "      <td>0.000000</td>\n",
       "      <td>0.000000</td>\n",
       "      <td>0.000000</td>\n",
       "      <td>0.000000</td>\n",
       "      <td>0.000000</td>\n",
       "      <td>0.000000</td>\n",
       "    </tr>\n",
       "    <tr>\n",
       "      <th>25%</th>\n",
       "      <td>0.226325</td>\n",
       "      <td>0.490174</td>\n",
       "      <td>0.553121</td>\n",
       "      <td>0.319953</td>\n",
       "      <td>0.469477</td>\n",
       "      <td>0.309836</td>\n",
       "      <td>0.352765</td>\n",
       "      <td>0.369748</td>\n",
       "      <td>0.477322</td>\n",
       "      <td>0.267293</td>\n",
       "      <td>...</td>\n",
       "      <td>0.141811</td>\n",
       "      <td>0.659370</td>\n",
       "      <td>0.090383</td>\n",
       "      <td>0.000000</td>\n",
       "      <td>0.353388</td>\n",
       "      <td>0.175795</td>\n",
       "      <td>0.092455</td>\n",
       "      <td>0.312203</td>\n",
       "      <td>0.368929</td>\n",
       "      <td>0.399548</td>\n",
       "    </tr>\n",
       "    <tr>\n",
       "      <th>50%</th>\n",
       "      <td>0.271811</td>\n",
       "      <td>0.540979</td>\n",
       "      <td>0.610786</td>\n",
       "      <td>0.402765</td>\n",
       "      <td>0.520412</td>\n",
       "      <td>0.371722</td>\n",
       "      <td>0.414431</td>\n",
       "      <td>0.486312</td>\n",
       "      <td>0.586411</td>\n",
       "      <td>0.319201</td>\n",
       "      <td>...</td>\n",
       "      <td>0.192652</td>\n",
       "      <td>0.745278</td>\n",
       "      <td>0.161109</td>\n",
       "      <td>0.106182</td>\n",
       "      <td>0.417711</td>\n",
       "      <td>0.278539</td>\n",
       "      <td>0.120439</td>\n",
       "      <td>0.412207</td>\n",
       "      <td>0.461061</td>\n",
       "      <td>0.471292</td>\n",
       "    </tr>\n",
       "    <tr>\n",
       "      <th>75%</th>\n",
       "      <td>0.316372</td>\n",
       "      <td>0.602810</td>\n",
       "      <td>0.670155</td>\n",
       "      <td>0.487678</td>\n",
       "      <td>0.581996</td>\n",
       "      <td>0.417629</td>\n",
       "      <td>0.515130</td>\n",
       "      <td>0.640781</td>\n",
       "      <td>0.683319</td>\n",
       "      <td>0.379182</td>\n",
       "      <td>...</td>\n",
       "      <td>0.278649</td>\n",
       "      <td>0.808340</td>\n",
       "      <td>0.231871</td>\n",
       "      <td>0.210354</td>\n",
       "      <td>0.526137</td>\n",
       "      <td>0.344813</td>\n",
       "      <td>0.152749</td>\n",
       "      <td>0.512849</td>\n",
       "      <td>0.579246</td>\n",
       "      <td>0.532308</td>\n",
       "    </tr>\n",
       "    <tr>\n",
       "      <th>max</th>\n",
       "      <td>1.000000</td>\n",
       "      <td>1.000000</td>\n",
       "      <td>1.000000</td>\n",
       "      <td>1.000000</td>\n",
       "      <td>1.000000</td>\n",
       "      <td>1.000000</td>\n",
       "      <td>1.000000</td>\n",
       "      <td>1.000000</td>\n",
       "      <td>1.000000</td>\n",
       "      <td>1.000000</td>\n",
       "      <td>...</td>\n",
       "      <td>1.000000</td>\n",
       "      <td>1.000000</td>\n",
       "      <td>1.000000</td>\n",
       "      <td>1.000000</td>\n",
       "      <td>1.000000</td>\n",
       "      <td>1.000000</td>\n",
       "      <td>1.000000</td>\n",
       "      <td>1.000000</td>\n",
       "      <td>1.000000</td>\n",
       "      <td>1.000000</td>\n",
       "    </tr>\n",
       "  </tbody>\n",
       "</table>\n",
       "<p>8 rows × 32 columns</p>\n",
       "</div>"
      ],
      "text/plain": [
       "           AATS4v      AATS4i      ATSC8c      ATSC5v     ATSC4se     ATSC6se  \\\n",
       "count  479.000000  479.000000  479.000000  479.000000  479.000000  479.000000   \n",
       "mean     0.271614    0.544137    0.611111    0.416193    0.538001    0.357597   \n",
       "std      0.101692    0.118773    0.121779    0.149887    0.125976    0.109867   \n",
       "min      0.000000    0.000000    0.000000    0.000000    0.000000    0.000000   \n",
       "25%      0.226325    0.490174    0.553121    0.319953    0.469477    0.309836   \n",
       "50%      0.271811    0.540979    0.610786    0.402765    0.520412    0.371722   \n",
       "75%      0.316372    0.602810    0.670155    0.487678    0.581996    0.417629   \n",
       "max      1.000000    1.000000    1.000000    1.000000    1.000000    1.000000   \n",
       "\n",
       "          AATSC0d      GATS2c      GATS3c      GATS6c  ...        CIC3  \\\n",
       "count  479.000000  479.000000  479.000000  479.000000  ...  479.000000   \n",
       "mean     0.443179    0.498883    0.574557    0.332210  ...    0.224756   \n",
       "std      0.152557    0.201222    0.141635    0.105655  ...    0.137932   \n",
       "min      0.000000    0.000000    0.000000    0.000000  ...    0.000000   \n",
       "25%      0.352765    0.369748    0.477322    0.267293  ...    0.141811   \n",
       "50%      0.414431    0.486312    0.586411    0.319201  ...    0.192652   \n",
       "75%      0.515130    0.640781    0.683319    0.379182  ...    0.278649   \n",
       "max      1.000000    1.000000    1.000000    1.000000  ...    1.000000   \n",
       "\n",
       "       FilterItLogS   PEOE_VSA9  SlogP_VSA3  VSA_EState4  VSA_EState8  \\\n",
       "count    479.000000  479.000000  479.000000   479.000000   479.000000   \n",
       "mean       0.723218    0.172760    0.143895     0.462799     0.284859   \n",
       "std        0.132814    0.114846    0.146753     0.172053     0.141517   \n",
       "min        0.000000    0.000000    0.000000     0.000000     0.000000   \n",
       "25%        0.659370    0.090383    0.000000     0.353388     0.175795   \n",
       "50%        0.745278    0.161109    0.106182     0.417711     0.278539   \n",
       "75%        0.808340    0.231871    0.210354     0.526137     0.344813   \n",
       "max        1.000000    1.000000    1.000000     1.000000     1.000000   \n",
       "\n",
       "             GGI8        JGI2        JGI3        JGI5  \n",
       "count  479.000000  479.000000  479.000000  479.000000  \n",
       "mean     0.140591    0.414396    0.487469    0.473368  \n",
       "std      0.090229    0.147179    0.182045    0.152017  \n",
       "min      0.000000    0.000000    0.000000    0.000000  \n",
       "25%      0.092455    0.312203    0.368929    0.399548  \n",
       "50%      0.120439    0.412207    0.461061    0.471292  \n",
       "75%      0.152749    0.512849    0.579246    0.532308  \n",
       "max      1.000000    1.000000    1.000000    1.000000  \n",
       "\n",
       "[8 rows x 32 columns]"
      ]
     },
     "execution_count": 26,
     "metadata": {},
     "output_type": "execute_result"
    }
   ],
   "source": [
    "final_dataset.describe()"
   ]
  },
  {
   "cell_type": "code",
   "execution_count": 32,
   "metadata": {},
   "outputs": [
    {
     "name": "stderr",
     "output_type": "stream",
     "text": [
      "c:\\Users\\afs\\anaconda3\\envs\\oldPy36\\lib\\site-packages\\ipykernel_launcher.py:1: SettingWithCopyWarning: \n",
      "A value is trying to be set on a copy of a slice from a DataFrame.\n",
      "Try using .loc[row_indexer,col_indexer] = value instead\n",
      "\n",
      "See the caveats in the documentation: https://pandas.pydata.org/pandas-docs/stable/user_guide/indexing.html#returning-a-view-versus-a-copy\n",
      "  \"\"\"Entry point for launching an IPython kernel.\n"
     ]
    }
   ],
   "source": [
    "df_feature_selection['pIC50'] = np.array(final_dataset['pIC50'])"
   ]
  },
  {
   "cell_type": "code",
   "execution_count": 34,
   "metadata": {},
   "outputs": [],
   "source": [
    "from sklearn import preprocessing\n",
    "\n",
    "# scaled_df = final_dataset.copy()\n",
    "scaled_df = df_feature_selection.copy()\n",
    "\n",
    "scaler = preprocessing.MinMaxScaler()\n",
    "for col in scaled_df:\n",
    "    if pd.api.types.is_numeric_dtype(scaled_df[col]):\n",
    "        scaled_df[col] = scaler.fit_transform(np.array(scaled_df[col]).reshape(-1, 1))\n",
    "\n",
    "scaled_df.describe()\n",
    "final_dataset = scaled_df.copy()"
   ]
  },
  {
   "cell_type": "markdown",
   "metadata": {
    "id": "d3U18axJxX7T"
   },
   "source": [
    "### 6. Splitting\n",
    "Split the preprocessed dataset into subset for training and subset for testing in ratio 75:25. If using deep learning, split into subset for validation as well (ratio 70:15:15)"
   ]
  },
  {
   "cell_type": "code",
   "execution_count": 35,
   "metadata": {
    "id": "HfDQR4YDxX7U"
   },
   "outputs": [],
   "source": [
    "train, test = train_test_split(final_dataset, test_size=0.25, random_state=42)\n",
    "\n",
    "train_DL, test_DL = train_test_split(final_dataset, test_size=0.3, random_state=42)\n",
    "validate_DL, test_DL = train_test_split(test_DL, test_size=0.5, random_state=42)\n",
    "\n",
    "train.to_pickle(\"./data/train_RFE.pkl\")\n",
    "test.to_pickle(\"./data/test_RFE.pkl\")\n",
    "train_DL.to_pickle(\"./data/train_DL_RFE.pkl\")\n",
    "test_DL.to_pickle(\"./data/test_DL_RFE.pkl\")\n",
    "validate_DL.to_pickle(\"./data/validate_DL_RFE.pkl\")"
   ]
  }
 ],
 "metadata": {
  "colab": {
   "provenance": []
  },
  "kernelspec": {
   "display_name": "oldPy36",
   "language": "python",
   "name": "python3"
  },
  "language_info": {
   "codemirror_mode": {
    "name": "ipython",
    "version": 3
   },
   "file_extension": ".py",
   "mimetype": "text/x-python",
   "name": "python",
   "nbconvert_exporter": "python",
   "pygments_lexer": "ipython3",
   "version": "3.6.13"
  }
 },
 "nbformat": 4,
 "nbformat_minor": 0
}
