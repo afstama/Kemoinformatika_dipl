{
 "cells": [
  {
   "cell_type": "code",
   "execution_count": 1,
   "metadata": {
    "colab": {
     "base_uri": "https://localhost:8080/",
     "height": 480
    },
    "id": "inFa_x_7EQD_",
    "outputId": "8ee4d587-30bf-442a-8b7e-7894857a0a12"
   },
   "outputs": [
    {
     "name": "stdout",
     "output_type": "stream",
     "text": [
      "Collecting numpy<1.24,>=1.20\n",
      "  Downloading numpy-1.23.5-cp310-cp310-manylinux_2_17_x86_64.manylinux2014_x86_64.whl.metadata (2.3 kB)\n",
      "Downloading numpy-1.23.5-cp310-cp310-manylinux_2_17_x86_64.manylinux2014_x86_64.whl (17.1 MB)\n",
      "\u001b[2K   \u001b[90m━━━━━━━━━━━━━━━━━━━━━━━━━━━━━━━━━━━━━━━━\u001b[0m \u001b[32m17.1/17.1 MB\u001b[0m \u001b[31m65.6 MB/s\u001b[0m eta \u001b[36m0:00:00\u001b[0m\n",
      "\u001b[?25hInstalling collected packages: numpy\n",
      "  Attempting uninstall: numpy\n",
      "    Found existing installation: numpy 1.26.4\n",
      "    Uninstalling numpy-1.26.4:\n",
      "      Successfully uninstalled numpy-1.26.4\n",
      "\u001b[31mERROR: pip's dependency resolver does not currently take into account all the packages that are installed. This behaviour is the source of the following dependency conflicts.\n",
      "albucore 0.0.19 requires numpy>=1.24.4, but you have numpy 1.23.5 which is incompatible.\n",
      "albumentations 1.4.20 requires numpy>=1.24.4, but you have numpy 1.23.5 which is incompatible.\n",
      "bigframes 1.29.0 requires numpy>=1.24.0, but you have numpy 1.23.5 which is incompatible.\n",
      "chex 0.1.88 requires numpy>=1.24.1, but you have numpy 1.23.5 which is incompatible.\n",
      "jax 0.4.33 requires numpy>=1.24, but you have numpy 1.23.5 which is incompatible.\n",
      "jaxlib 0.4.33 requires numpy>=1.24, but you have numpy 1.23.5 which is incompatible.\n",
      "pymc 5.19.1 requires numpy>=1.25.0, but you have numpy 1.23.5 which is incompatible.\n",
      "scikit-image 0.25.0 requires numpy>=1.24, but you have numpy 1.23.5 which is incompatible.\n",
      "xarray 2024.11.0 requires numpy>=1.24, but you have numpy 1.23.5 which is incompatible.\u001b[0m\u001b[31m\n",
      "\u001b[0mSuccessfully installed numpy-1.23.5\n"
     ]
    },
    {
     "data": {
      "application/vnd.colab-display-data+json": {
       "id": "f94a20b8bb8f422f865d45ec54cfba19",
       "pip_warning": {
        "packages": [
         "numpy"
        ]
       }
      }
     },
     "metadata": {},
     "output_type": "display_data"
    }
   ],
   "source": [
    "# !pip install 'numpy>=1.20,<1.24'\n",
    "# verzija nize od 1.24 zbog problema s numpy float"
   ]
  },
  {
   "cell_type": "code",
   "execution_count": 35,
   "metadata": {
    "id": "sdpOE2h_xX7O"
   },
   "outputs": [],
   "source": [
    "import pandas as pd\n",
    "import numpy as np\n",
    "import requests\n",
    "import pickle\n",
    "import xmltodict\n",
    "from rdkit import Chem\n",
    "from mordred import Calculator, descriptors\n",
    "import matplotlib.pyplot as plt\n",
    "from sklearn.model_selection import train_test_split\n",
    "from sklearn import preprocessing"
   ]
  },
  {
   "cell_type": "code",
   "execution_count": 5,
   "metadata": {
    "colab": {
     "base_uri": "https://localhost:8080/"
    },
    "id": "YEwEe7HBzGs5",
    "outputId": "2e19306f-a855-4208-808a-b2c1cfe1178d"
   },
   "outputs": [
    {
     "name": "stdout",
     "output_type": "stream",
     "text": [
      "Mounted at /content/drive\n"
     ]
    }
   ],
   "source": [
    "# from google.colab import drive\n",
    "# drive.mount('/content/drive')"
   ]
  },
  {
   "cell_type": "markdown",
   "metadata": {
    "id": "i-HAa4bnxX7P"
   },
   "source": [
    "### 1. Učitavanje podataka"
   ]
  },
  {
   "cell_type": "code",
   "execution_count": 39,
   "metadata": {
    "id": "6wAp5F9xzSDq"
   },
   "outputs": [],
   "source": [
    "# path = \"/content/drive/My Drive/kemoinf/data/dopamine.csv\"\n",
    "path = \"./data/dopamine.csv\""
   ]
  },
  {
   "cell_type": "code",
   "execution_count": 40,
   "metadata": {
    "colab": {
     "base_uri": "https://localhost:8080/",
     "height": 423
    },
    "id": "9enBF3UVxX7R",
    "outputId": "55fcdbc5-9e28-411e-fabe-0ded7ab9b231"
   },
   "outputs": [
    {
     "data": {
      "text/html": [
       "<div>\n",
       "<style scoped>\n",
       "    .dataframe tbody tr th:only-of-type {\n",
       "        vertical-align: middle;\n",
       "    }\n",
       "\n",
       "    .dataframe tbody tr th {\n",
       "        vertical-align: top;\n",
       "    }\n",
       "\n",
       "    .dataframe thead th {\n",
       "        text-align: right;\n",
       "    }\n",
       "</style>\n",
       "<table border=\"1\" class=\"dataframe\">\n",
       "  <thead>\n",
       "    <tr style=\"text-align: right;\">\n",
       "      <th></th>\n",
       "      <th>ChEMBL_ID</th>\n",
       "      <th>pIC50</th>\n",
       "    </tr>\n",
       "  </thead>\n",
       "  <tbody>\n",
       "    <tr>\n",
       "      <th>0</th>\n",
       "      <td>CHEMBL303519</td>\n",
       "      <td>5.01</td>\n",
       "    </tr>\n",
       "    <tr>\n",
       "      <th>1</th>\n",
       "      <td>CHEMBL292943</td>\n",
       "      <td>7.30</td>\n",
       "    </tr>\n",
       "    <tr>\n",
       "      <th>2</th>\n",
       "      <td>CHEMBL61682</td>\n",
       "      <td>7.60</td>\n",
       "    </tr>\n",
       "    <tr>\n",
       "      <th>3</th>\n",
       "      <td>CHEMBL64487</td>\n",
       "      <td>6.44</td>\n",
       "    </tr>\n",
       "    <tr>\n",
       "      <th>4</th>\n",
       "      <td>CHEMBL64597</td>\n",
       "      <td>6.52</td>\n",
       "    </tr>\n",
       "    <tr>\n",
       "      <th>...</th>\n",
       "      <td>...</td>\n",
       "      <td>...</td>\n",
       "    </tr>\n",
       "    <tr>\n",
       "      <th>474</th>\n",
       "      <td>CHEMBL3805434</td>\n",
       "      <td>7.42</td>\n",
       "    </tr>\n",
       "    <tr>\n",
       "      <th>475</th>\n",
       "      <td>CHEMBL3805327</td>\n",
       "      <td>7.23</td>\n",
       "    </tr>\n",
       "    <tr>\n",
       "      <th>476</th>\n",
       "      <td>CHEMBL3805262</td>\n",
       "      <td>5.80</td>\n",
       "    </tr>\n",
       "    <tr>\n",
       "      <th>477</th>\n",
       "      <td>CHEMBL3805515</td>\n",
       "      <td>6.70</td>\n",
       "    </tr>\n",
       "    <tr>\n",
       "      <th>478</th>\n",
       "      <td>CHEMBL3805046</td>\n",
       "      <td>6.77</td>\n",
       "    </tr>\n",
       "  </tbody>\n",
       "</table>\n",
       "<p>479 rows × 2 columns</p>\n",
       "</div>"
      ],
      "text/plain": [
       "         ChEMBL_ID  pIC50\n",
       "0     CHEMBL303519   5.01\n",
       "1     CHEMBL292943   7.30\n",
       "2      CHEMBL61682   7.60\n",
       "3      CHEMBL64487   6.44\n",
       "4      CHEMBL64597   6.52\n",
       "..             ...    ...\n",
       "474  CHEMBL3805434   7.42\n",
       "475  CHEMBL3805327   7.23\n",
       "476  CHEMBL3805262   5.80\n",
       "477  CHEMBL3805515   6.70\n",
       "478  CHEMBL3805046   6.77\n",
       "\n",
       "[479 rows x 2 columns]"
      ]
     },
     "execution_count": 40,
     "metadata": {},
     "output_type": "execute_result"
    }
   ],
   "source": [
    "data = pd.read_csv(path, index_col=0)\n",
    "data"
   ]
  },
  {
   "cell_type": "markdown",
   "metadata": {
    "id": "p3ZBxPB0xX7R"
   },
   "source": [
    "### 2. Dohvaćanje SMILES zapisa\n",
    "\n",
    "Retrieve SMILES representation for each molecule using the ChEMBL REST API through your Python environment.\n",
    "\n",
    "Make SMILES canonical by using rdkit Python package."
   ]
  },
  {
   "cell_type": "code",
   "execution_count": 41,
   "metadata": {},
   "outputs": [],
   "source": [
    "def fetch_smiles_batch(mol_ids, limit):\n",
    "    response = requests.get(f'https://www.ebi.ac.uk/chembl/api/data/molecule?molecule_chembl_id__in={\",\".join(mol_ids)}&only=molecule_chembl_id,molecule_structures&limit={limit}')\n",
    "    molecules = xmltodict.parse(response.text)['response']['molecules']['molecule']\n",
    "    return {mol['molecule_chembl_id']: Chem.CanonSmiles(mol['molecule_structures']['canonical_smiles']) for mol in molecules}\n",
    "\n",
    "batch_size = 100\n",
    "mol_id_batches = [data['ChEMBL_ID'][i:i + batch_size] for i in range(0, len(data), batch_size)]\n",
    "\n",
    "smiles_dict = {}\n",
    "for batch in mol_id_batches:\n",
    "    smiles_dict.update(fetch_smiles_batch(batch, batch_size))\n",
    "\n",
    "data['smiles'] = data['ChEMBL_ID'].map(smiles_dict)"
   ]
  },
  {
   "cell_type": "markdown",
   "metadata": {
    "id": "w4uzmGxSxX7S"
   },
   "source": [
    "### 3. Računanje moleklularnih deskriptora\n",
    "Calculate molecular descriptors by using Mordred Python package or some other available molecular descriptor calculator. Use all available 0D, 1D, 2D and 3D molecular descriptors\n",
    "\n",
    "\n",
    "- 0D descriptors: Molecular weight, atom count, etc.\n",
    "- 1D descriptors: Simple structural features\n",
    "- 2D descriptors: Topological and connectivity-based descriptors\n",
    "- 3D descriptors: Geometric and spatial characteristics\n",
    "\n",
    "https://mordred-descriptor.github.io/documentation/master/descriptors.html"
   ]
  },
  {
   "cell_type": "code",
   "execution_count": 42,
   "metadata": {
    "colab": {
     "base_uri": "https://localhost:8080/"
    },
    "id": "Y0cbPufZag33",
    "outputId": "e27eab3d-5b48-42c8-e0f8-b3eca837bc20"
   },
   "outputs": [
    {
     "name": "stdout",
     "output_type": "stream",
     "text": [
      "Converting SMILES to 3D structures and generating SDF file...\n"
     ]
    },
    {
     "name": "stderr",
     "output_type": "stream",
     "text": [
      "[17:35:18] UFFTYPER: Unrecognized charge state for atom: 21\n",
      "[17:35:18] UFFTYPER: Unrecognized charge state for atom: 21\n"
     ]
    },
    {
     "name": "stdout",
     "output_type": "stream",
     "text": [
      "Calculating descriptors...\n"
     ]
    },
    {
     "name": "stderr",
     "output_type": "stream",
     "text": [
      "  6%|▌         | 28/479 [00:04<00:22, 20.28it/s]"
     ]
    },
    {
     "name": "stdout",
     "output_type": "stream",
     "text": [
      "c:\\Users\\afs\\anaconda3\\Lib\\site-packages\\numpy\\core\\fromnumeric.py:86: RuntimeWarning: overflow encountered in reduce\n",
      "  return ufunc.reduce(obj, axis, dtype, out, **passkwargs)\n"
     ]
    },
    {
     "name": "stderr",
     "output_type": "stream",
     "text": [
      " 14%|█▍        | 66/479 [00:07<00:19, 21.26it/s]"
     ]
    },
    {
     "name": "stdout",
     "output_type": "stream",
     "text": [
      "c:\\Users\\afs\\anaconda3\\Lib\\site-packages\\numpy\\core\\fromnumeric.py:86: RuntimeWarning: overflow encountered in reduce\n",
      "  return ufunc.reduce(obj, axis, dtype, out, **passkwargs)\n"
     ]
    },
    {
     "name": "stderr",
     "output_type": "stream",
     "text": [
      " 19%|█▊        | 89/479 [00:09<00:23, 16.51it/s]"
     ]
    },
    {
     "name": "stdout",
     "output_type": "stream",
     "text": [
      "c:\\Users\\afs\\anaconda3\\Lib\\site-packages\\numpy\\core\\fromnumeric.py:86: RuntimeWarning: overflow encountered in reduce\n",
      "  return ufunc.reduce(obj, axis, dtype, out, **passkwargs)\n",
      "c:\\Users\\afs\\anaconda3\\Lib\\site-packages\\numpy\\core\\fromnumeric.py:86: RuntimeWarning: overflow encountered in reduce\n",
      "  return ufunc.reduce(obj, axis, dtype, out, **passkwargs)\n",
      "c:\\Users\\afs\\anaconda3\\Lib\\site-packages\\numpy\\core\\fromnumeric.py:86: RuntimeWarning: overflow encountered in reduce\n",
      "  return ufunc.reduce(obj, axis, dtype, out, **passkwargs)\n",
      "c:\\Users\\afs\\anaconda3\\Lib\\site-packages\\numpy\\core\\fromnumeric.py:86: RuntimeWarning: overflow encountered in reduce\n",
      "  return ufunc.reduce(obj, axis, dtype, out, **passkwargs)\n",
      "c:\\Users\\afs\\anaconda3\\Lib\\site-packages\\numpy\\core\\fromnumeric.py:86: RuntimeWarning: overflow encountered in reduce\n",
      "  return ufunc.reduce(obj, axis, dtype, out, **passkwargs)\n"
     ]
    },
    {
     "name": "stderr",
     "output_type": "stream",
     "text": [
      " 73%|███████▎  | 348/479 [00:36<00:33,  3.95it/s]"
     ]
    },
    {
     "name": "stdout",
     "output_type": "stream",
     "text": [
      "c:\\Users\\afs\\anaconda3\\Lib\\site-packages\\numpy\\core\\fromnumeric.py:86: RuntimeWarning: overflow encountered in reduce\n",
      "  return ufunc.reduce(obj, axis, dtype, out, **passkwargs)\n"
     ]
    },
    {
     "name": "stderr",
     "output_type": "stream",
     "text": [
      " 74%|███████▎  | 353/479 [00:37<00:37,  3.37it/s]"
     ]
    },
    {
     "name": "stdout",
     "output_type": "stream",
     "text": [
      "c:\\Users\\afs\\anaconda3\\Lib\\site-packages\\numpy\\core\\fromnumeric.py:86: RuntimeWarning: overflow encountered in reduce\n",
      "  return ufunc.reduce(obj, axis, dtype, out, **passkwargs)\n",
      "c:\\Users\\afs\\anaconda3\\Lib\\site-packages\\numpy\\core\\fromnumeric.py:86: RuntimeWarning: overflow encountered in reduce\n",
      "  return ufunc.reduce(obj, axis, dtype, out, **passkwargs)\n",
      "c:\\Users\\afs\\anaconda3\\Lib\\site-packages\\numpy\\core\\fromnumeric.py:86: RuntimeWarning: overflow encountered in reduce\n",
      "  return ufunc.reduce(obj, axis, dtype, out, **passkwargs)\n",
      "c:\\Users\\afs\\anaconda3\\Lib\\site-packages\\numpy\\core\\fromnumeric.py:86: RuntimeWarning: overflow encountered in reduce\n",
      "  return ufunc.reduce(obj, axis, dtype, out, **passkwargs)\n",
      "c:\\Users\\afs\\anaconda3\\Lib\\site-packages\\numpy\\core\\fromnumeric.py:86: RuntimeWarning: overflow encountered in reduce\n",
      "  return ufunc.reduce(obj, axis, dtype, out, **passkwargs)\n"
     ]
    },
    {
     "name": "stderr",
     "output_type": "stream",
     "text": [
      " 78%|███████▊  | 373/479 [00:39<00:11,  8.89it/s]"
     ]
    },
    {
     "name": "stdout",
     "output_type": "stream",
     "text": [
      "c:\\Users\\afs\\anaconda3\\Lib\\site-packages\\numpy\\core\\fromnumeric.py:86: RuntimeWarning: overflow encountered in reduce\n",
      "  return ufunc.reduce(obj, axis, dtype, out, **passkwargs)\n"
     ]
    },
    {
     "name": "stderr",
     "output_type": "stream",
     "text": [
      " 88%|████████▊ | 420/479 [00:44<00:08,  7.34it/s]"
     ]
    },
    {
     "name": "stdout",
     "output_type": "stream",
     "text": [
      "c:\\Users\\afs\\anaconda3\\Lib\\site-packages\\numpy\\core\\fromnumeric.py:86: RuntimeWarning: overflow encountered in reduce\n",
      "  return ufunc.reduce(obj, axis, dtype, out, **passkwargs)\n",
      "c:\\Users\\afs\\anaconda3\\Lib\\site-packages\\numpy\\core\\fromnumeric.py:86: RuntimeWarning: overflow encountered in reduce\n",
      "  return ufunc.reduce(obj, axis, dtype, out, **passkwargs)\n"
     ]
    },
    {
     "name": "stderr",
     "output_type": "stream",
     "text": [
      "100%|██████████| 479/479 [00:48<00:00,  9.85it/s]\n"
     ]
    },
    {
     "name": "stdout",
     "output_type": "stream",
     "text": [
      "\n",
      "Dataset Summary:\n",
      "Total molecules processed: 479\n",
      "Total features generated: 1829\n"
     ]
    }
   ],
   "source": [
    "from rdkit import Chem\n",
    "from rdkit.Chem import AllChem\n",
    "from mordred import Calculator, descriptors\n",
    "import pandas as pd\n",
    "import tempfile\n",
    "import os\n",
    "\n",
    "def generate_3d_conformer(mol):\n",
    "    \"\"\"\n",
    "    Generate 3D conformer for a molecule.\n",
    "    \"\"\"\n",
    "    mol = Chem.AddHs(mol)\n",
    "    success = AllChem.EmbedMolecule(mol, randomSeed=42, useRandomCoords=True)\n",
    "    if success == -1:\n",
    "        return None\n",
    "    try:\n",
    "        AllChem.MMFFOptimizeMolecule(mol)\n",
    "    except:\n",
    "        try:\n",
    "            AllChem.UFFOptimizeMolecule(mol)\n",
    "        except:\n",
    "            return None\n",
    "    return mol\n",
    "\n",
    "def smiles_to_sdf(df, smiles_col='smiles', id_col='ChEMBL_ID'):\n",
    "    \"\"\"\n",
    "    Convert SMILES to SDF file with 3D conformers.\n",
    "    \"\"\"\n",
    "    mols = []\n",
    "    valid_indices = []\n",
    "\n",
    "    for idx, row in df.iterrows():\n",
    "        mol = Chem.MolFromSmiles(row[smiles_col])\n",
    "        if mol is not None:\n",
    "            mol_3d = generate_3d_conformer(mol)\n",
    "            if mol_3d is not None:\n",
    "                # Add properties to the molecule\n",
    "                for col in df.columns:\n",
    "                    if col != smiles_col:\n",
    "                        mol_3d.SetProp(col, str(row[col]))\n",
    "                mols.append(mol_3d)\n",
    "                valid_indices.append(idx)\n",
    "            else:\n",
    "                print(f\"Failed to generate 3D conformer for molecule {row[id_col]}\")\n",
    "\n",
    "    temp_sdf = tempfile.NamedTemporaryFile(suffix='.sdf', delete=False)\n",
    "    writer = Chem.SDWriter(temp_sdf.name)\n",
    "\n",
    "    for mol in mols:\n",
    "        writer.write(mol)\n",
    "    writer.close()\n",
    "\n",
    "    return temp_sdf.name, valid_indices\n",
    "\n",
    "def calculate_mordred_descriptors(sdf_file):\n",
    "    \"\"\"\n",
    "    Calculate all Mordred descriptors including 3D.\n",
    "    \"\"\"\n",
    "    calc = Calculator(descriptors, ignore_3D=False)\n",
    "    mols = [mol for mol in Chem.SDMolSupplier(sdf_file) if mol is not None]\n",
    "    df_descriptors = calc.pandas(mols)\n",
    "    return df_descriptors\n",
    "\n",
    "print(\"Converting SMILES to 3D structures and generating SDF file...\")\n",
    "sdf_file, valid_indices = smiles_to_sdf(df=data)\n",
    "\n",
    "try:\n",
    "    print(\"Calculating descriptors...\")\n",
    "    descriptors_df = calculate_mordred_descriptors(sdf_file)\n",
    "\n",
    "    # Combine the descriptors with the original data\n",
    "    valid_data = data.iloc[valid_indices].reset_index(drop=True)\n",
    "    final_dataset = pd.concat([valid_data.reset_index(drop=True), descriptors_df.reset_index(drop=True)], axis=1)\n",
    "\n",
    "    # Save the complete dataset\n",
    "    final_dataset.to_csv('molecular_features.csv', index=False)\n",
    "\n",
    "    # Print summary statistics\n",
    "    print(\"\\nDataset Summary:\")\n",
    "    print(f\"Total molecules processed: {len(final_dataset)}\")\n",
    "    print(f\"Total features generated: {len(final_dataset.columns)}\")\n",
    "\n",
    "finally:\n",
    "    # Clean up temporary file\n",
    "    os.remove(sdf_file)"
   ]
  },
  {
   "cell_type": "code",
   "execution_count": 43,
   "metadata": {
    "colab": {
     "base_uri": "https://localhost:8080/",
     "height": 342
    },
    "id": "2L80nWuy6cDr",
    "outputId": "c8b5c82b-a4a6-4bdc-c1ac-74287a04f644"
   },
   "outputs": [
    {
     "data": {
      "text/html": [
       "<div>\n",
       "<style scoped>\n",
       "    .dataframe tbody tr th:only-of-type {\n",
       "        vertical-align: middle;\n",
       "    }\n",
       "\n",
       "    .dataframe tbody tr th {\n",
       "        vertical-align: top;\n",
       "    }\n",
       "\n",
       "    .dataframe thead th {\n",
       "        text-align: right;\n",
       "    }\n",
       "</style>\n",
       "<table border=\"1\" class=\"dataframe\">\n",
       "  <thead>\n",
       "    <tr style=\"text-align: right;\">\n",
       "      <th></th>\n",
       "      <th>ChEMBL_ID</th>\n",
       "      <th>pIC50</th>\n",
       "      <th>smiles</th>\n",
       "      <th>ABC</th>\n",
       "      <th>ABCGG</th>\n",
       "      <th>nAcid</th>\n",
       "      <th>nBase</th>\n",
       "      <th>SpAbs_A</th>\n",
       "      <th>SpMax_A</th>\n",
       "      <th>SpDiam_A</th>\n",
       "      <th>...</th>\n",
       "      <th>SRW10</th>\n",
       "      <th>TSRW10</th>\n",
       "      <th>MW</th>\n",
       "      <th>AMW</th>\n",
       "      <th>WPath</th>\n",
       "      <th>WPol</th>\n",
       "      <th>Zagreb1</th>\n",
       "      <th>Zagreb2</th>\n",
       "      <th>mZagreb1</th>\n",
       "      <th>mZagreb2</th>\n",
       "    </tr>\n",
       "  </thead>\n",
       "  <tbody>\n",
       "    <tr>\n",
       "      <th>0</th>\n",
       "      <td>CHEMBL303519</td>\n",
       "      <td>5.01</td>\n",
       "      <td>c1cnc(N2CCN(Cc3cccc4c3Cc3ccccc3-4)CC2)nc1</td>\n",
       "      <td>module 'numpy' has no attribute 'float'.\\n`np....</td>\n",
       "      <td>module 'numpy' has no attribute 'float'.\\n`np....</td>\n",
       "      <td>0</td>\n",
       "      <td>1</td>\n",
       "      <td>35.835568</td>\n",
       "      <td>2.504877</td>\n",
       "      <td>4.869002</td>\n",
       "      <td>...</td>\n",
       "      <td>10.266776</td>\n",
       "      <td>75.682997</td>\n",
       "      <td>342.184447</td>\n",
       "      <td>7.128843</td>\n",
       "      <td>1797</td>\n",
       "      <td>42</td>\n",
       "      <td>144.0</td>\n",
       "      <td>173.0</td>\n",
       "      <td>5.388889</td>\n",
       "      <td>5.638889</td>\n",
       "    </tr>\n",
       "    <tr>\n",
       "      <th>1</th>\n",
       "      <td>CHEMBL292943</td>\n",
       "      <td>7.30</td>\n",
       "      <td>COc1ccc(-c2cccc(CN3CCN(c4ncccn4)CC3)c2)cc1</td>\n",
       "      <td>module 'numpy' has no attribute 'float'.\\n`np....</td>\n",
       "      <td>module 'numpy' has no attribute 'float'.\\n`np....</td>\n",
       "      <td>0</td>\n",
       "      <td>1</td>\n",
       "      <td>36.522379</td>\n",
       "      <td>2.360154</td>\n",
       "      <td>4.720308</td>\n",
       "      <td>...</td>\n",
       "      <td>10.083765</td>\n",
       "      <td>61.954496</td>\n",
       "      <td>360.195011</td>\n",
       "      <td>7.062647</td>\n",
       "      <td>2172</td>\n",
       "      <td>40</td>\n",
       "      <td>140.0</td>\n",
       "      <td>162.0</td>\n",
       "      <td>6.527778</td>\n",
       "      <td>6.055556</td>\n",
       "    </tr>\n",
       "    <tr>\n",
       "      <th>2</th>\n",
       "      <td>CHEMBL61682</td>\n",
       "      <td>7.60</td>\n",
       "      <td>Fc1ccc(-c2cncc(CN3CCN(c4ccccc4F)CC3)c2)cc1</td>\n",
       "      <td>module 'numpy' has no attribute 'float'.\\n`np....</td>\n",
       "      <td>module 'numpy' has no attribute 'float'.\\n`np....</td>\n",
       "      <td>0</td>\n",
       "      <td>1</td>\n",
       "      <td>35.81174</td>\n",
       "      <td>2.370165</td>\n",
       "      <td>4.74033</td>\n",
       "      <td>...</td>\n",
       "      <td>10.141362</td>\n",
       "      <td>62.103563</td>\n",
       "      <td>365.170354</td>\n",
       "      <td>7.607716</td>\n",
       "      <td>2130</td>\n",
       "      <td>41</td>\n",
       "      <td>142.0</td>\n",
       "      <td>165.0</td>\n",
       "      <td>7.138889</td>\n",
       "      <td>5.916667</td>\n",
       "    </tr>\n",
       "    <tr>\n",
       "      <th>3</th>\n",
       "      <td>CHEMBL64487</td>\n",
       "      <td>6.44</td>\n",
       "      <td>COc1ccccc1-c1cccc(CN2CCN(c3ncccn3)CC2)c1</td>\n",
       "      <td>module 'numpy' has no attribute 'float'.\\n`np....</td>\n",
       "      <td>module 'numpy' has no attribute 'float'.\\n`np....</td>\n",
       "      <td>0</td>\n",
       "      <td>1</td>\n",
       "      <td>36.528506</td>\n",
       "      <td>2.378509</td>\n",
       "      <td>4.757019</td>\n",
       "      <td>...</td>\n",
       "      <td>10.117429</td>\n",
       "      <td>62.012532</td>\n",
       "      <td>360.195011</td>\n",
       "      <td>7.062647</td>\n",
       "      <td>2096</td>\n",
       "      <td>41</td>\n",
       "      <td>140.0</td>\n",
       "      <td>163.0</td>\n",
       "      <td>6.527778</td>\n",
       "      <td>6.083333</td>\n",
       "    </tr>\n",
       "    <tr>\n",
       "      <th>4</th>\n",
       "      <td>CHEMBL64597</td>\n",
       "      <td>6.52</td>\n",
       "      <td>c1cnc(N2CCN(Cc3cccc(-c4ccsc4)c3)CC2)nc1</td>\n",
       "      <td>module 'numpy' has no attribute 'float'.\\n`np....</td>\n",
       "      <td>module 'numpy' has no attribute 'float'.\\n`np....</td>\n",
       "      <td>0</td>\n",
       "      <td>1</td>\n",
       "      <td>32.579628</td>\n",
       "      <td>2.356613</td>\n",
       "      <td>4.698085</td>\n",
       "      <td>...</td>\n",
       "      <td>9.949655</td>\n",
       "      <td>71.503368</td>\n",
       "      <td>336.140868</td>\n",
       "      <td>7.639565</td>\n",
       "      <td>1532</td>\n",
       "      <td>33</td>\n",
       "      <td>126.0</td>\n",
       "      <td>146.0</td>\n",
       "      <td>5.166667</td>\n",
       "      <td>5.305556</td>\n",
       "    </tr>\n",
       "  </tbody>\n",
       "</table>\n",
       "<p>5 rows × 1829 columns</p>\n",
       "</div>"
      ],
      "text/plain": [
       "      ChEMBL_ID  pIC50                                      smiles  \\\n",
       "0  CHEMBL303519   5.01   c1cnc(N2CCN(Cc3cccc4c3Cc3ccccc3-4)CC2)nc1   \n",
       "1  CHEMBL292943   7.30  COc1ccc(-c2cccc(CN3CCN(c4ncccn4)CC3)c2)cc1   \n",
       "2   CHEMBL61682   7.60  Fc1ccc(-c2cncc(CN3CCN(c4ccccc4F)CC3)c2)cc1   \n",
       "3   CHEMBL64487   6.44    COc1ccccc1-c1cccc(CN2CCN(c3ncccn3)CC2)c1   \n",
       "4   CHEMBL64597   6.52     c1cnc(N2CCN(Cc3cccc(-c4ccsc4)c3)CC2)nc1   \n",
       "\n",
       "                                                 ABC  \\\n",
       "0  module 'numpy' has no attribute 'float'.\\n`np....   \n",
       "1  module 'numpy' has no attribute 'float'.\\n`np....   \n",
       "2  module 'numpy' has no attribute 'float'.\\n`np....   \n",
       "3  module 'numpy' has no attribute 'float'.\\n`np....   \n",
       "4  module 'numpy' has no attribute 'float'.\\n`np....   \n",
       "\n",
       "                                               ABCGG  nAcid  nBase    SpAbs_A  \\\n",
       "0  module 'numpy' has no attribute 'float'.\\n`np....      0      1  35.835568   \n",
       "1  module 'numpy' has no attribute 'float'.\\n`np....      0      1  36.522379   \n",
       "2  module 'numpy' has no attribute 'float'.\\n`np....      0      1   35.81174   \n",
       "3  module 'numpy' has no attribute 'float'.\\n`np....      0      1  36.528506   \n",
       "4  module 'numpy' has no attribute 'float'.\\n`np....      0      1  32.579628   \n",
       "\n",
       "    SpMax_A  SpDiam_A  ...      SRW10     TSRW10          MW       AMW WPath  \\\n",
       "0  2.504877  4.869002  ...  10.266776  75.682997  342.184447  7.128843  1797   \n",
       "1  2.360154  4.720308  ...  10.083765  61.954496  360.195011  7.062647  2172   \n",
       "2  2.370165   4.74033  ...  10.141362  62.103563  365.170354  7.607716  2130   \n",
       "3  2.378509  4.757019  ...  10.117429  62.012532  360.195011  7.062647  2096   \n",
       "4  2.356613  4.698085  ...   9.949655  71.503368  336.140868  7.639565  1532   \n",
       "\n",
       "  WPol Zagreb1 Zagreb2  mZagreb1  mZagreb2  \n",
       "0   42   144.0   173.0  5.388889  5.638889  \n",
       "1   40   140.0   162.0  6.527778  6.055556  \n",
       "2   41   142.0   165.0  7.138889  5.916667  \n",
       "3   41   140.0   163.0  6.527778  6.083333  \n",
       "4   33   126.0   146.0  5.166667  5.305556  \n",
       "\n",
       "[5 rows x 1829 columns]"
      ]
     },
     "execution_count": 43,
     "metadata": {},
     "output_type": "execute_result"
    }
   ],
   "source": [
    "final_dataset.head()"
   ]
  },
  {
   "cell_type": "markdown",
   "metadata": {
    "id": "YLA8QXVJxX7S"
   },
   "source": [
    "### 4. Čišćenje podataka\n",
    "Clean the transformed data of missing values and outliers. Remove duplicates.\n",
    "\n",
    "- Nema duplikata.\n",
    "- After generating all descriptors for each molecule, we removed descriptors with non-numerical values (e.g., containing strings or NA values) and descriptors with matching values across most (\n",
    "95%) molecules. (https://www.sciencedirect.com/science/article/pii/S0016236122006950#sec3)"
   ]
  },
  {
   "cell_type": "code",
   "execution_count": 45,
   "metadata": {
    "id": "2y_xLilaoWq_"
   },
   "outputs": [],
   "source": [
    "from sklearn.feature_selection import VarianceThreshold\n",
    "\n",
    "def prepare_features(descriptors_df):\n",
    "    \"\"\"\n",
    "    Clean and prepare descriptors for machine learning while preserving specified columns.\n",
    "    Applies VarianceThreshold for low-variance feature selection.\n",
    "    \"\"\"\n",
    "    # Columns to preserve\n",
    "    string_columns_to_preserve = ['ChEMBL_ID', 'smiles', 'pIC50']\n",
    "\n",
    "    # Separate preserved columns\n",
    "    preserved_columns = descriptors_df[string_columns_to_preserve]\n",
    "\n",
    "    # Work on the remaining numeric columns\n",
    "    numeric_df = descriptors_df.drop(columns=string_columns_to_preserve, errors='ignore')\n",
    "\n",
    "    # Convert all to numeric, replacing non-numeric with NaN\n",
    "    numeric_df = numeric_df.apply(pd.to_numeric, errors='coerce')\n",
    "\n",
    "    # Remove columns with any NaN values\n",
    "    numeric_df = numeric_df.dropna(axis=1)\n",
    "\n",
    "    # Apply VarianceThreshold for low-variance feature selection\n",
    "    selection = VarianceThreshold(threshold=(.8 * (1 - .8)))  # Threshold = 0.16 (80% * (1-80%))\n",
    "    numeric_df_array = selection.fit_transform(numeric_df)  # Transform to array\n",
    "\n",
    "    # Convert back to DataFrame, retaining column names post-selection\n",
    "    selected_columns = numeric_df.columns[selection.get_support()]\n",
    "    numeric_df = pd.DataFrame(numeric_df_array, columns=selected_columns)\n",
    "\n",
    "    # Combine preserved columns back with cleaned numeric data\n",
    "    final_df = pd.concat([preserved_columns.reset_index(drop=True), numeric_df.reset_index(drop=True)], axis=1)\n",
    "\n",
    "    return final_df\n"
   ]
  },
  {
   "cell_type": "code",
   "execution_count": 46,
   "metadata": {
    "colab": {
     "base_uri": "https://localhost:8080/"
    },
    "id": "F9NUr5urxX7T",
    "outputId": "2ada9d03-1138-45a4-968e-6028bd2f63d1"
   },
   "outputs": [
    {
     "data": {
      "text/plain": [
       "0"
      ]
     },
     "execution_count": 46,
     "metadata": {},
     "output_type": "execute_result"
    }
   ],
   "source": [
    "final_dataset = prepare_features(final_dataset)\n",
    "final_dataset['smiles'].duplicated().sum()"
   ]
  },
  {
   "cell_type": "code",
   "execution_count": 47,
   "metadata": {
    "colab": {
     "base_uri": "https://localhost:8080/"
    },
    "id": "cU1p8Zy7xX7T",
    "outputId": "9433b6dd-5643-4123-dfe0-15bfe97be005"
   },
   "outputs": [
    {
     "name": "stdout",
     "output_type": "stream",
     "text": [
      "Series([], dtype: int64)\n"
     ]
    }
   ],
   "source": [
    "null_counts = final_dataset.isnull().sum()\n",
    "columns_with_nulls = null_counts[null_counts != 0]\n",
    "print(columns_with_nulls)"
   ]
  },
  {
   "cell_type": "code",
   "execution_count": 48,
   "metadata": {
    "colab": {
     "base_uri": "https://localhost:8080/",
     "height": 430
    },
    "id": "lFQOBhyTxX7T",
    "outputId": "7a53f133-b0d5-481b-aabd-3cf0e2c2cbf8"
   },
   "outputs": [
    {
     "data": {
      "image/png": "[encoded data removed]",
      "text/plain": [
       "<Figure size 640x480 with 1 Axes>"
      ]
     },
     "metadata": {},
     "output_type": "display_data"
    }
   ],
   "source": [
    "# boxplot značajke koju bismo trebali predvidjeti\n",
    "# nema outliera\n",
    "plt.boxplot(final_dataset['pIC50'])\n",
    "plt.show()"
   ]
  },
  {
   "cell_type": "code",
   "execution_count": 49,
   "metadata": {
    "colab": {
     "base_uri": "https://localhost:8080/",
     "height": 335
    },
    "id": "EMsWYqn2uV9T",
    "outputId": "a2347169-63ef-45cf-88b5-f56534153bf6"
   },
   "outputs": [
    {
     "data": {
      "text/plain": [
       "count    479.000000\n",
       "mean       6.698689\n",
       "std        1.070454\n",
       "min        4.520000\n",
       "25%        5.865000\n",
       "50%        6.600000\n",
       "75%        7.450000\n",
       "max        9.540000\n",
       "Name: pIC50, dtype: float64"
      ]
     },
     "execution_count": 49,
     "metadata": {},
     "output_type": "execute_result"
    }
   ],
   "source": [
    "final_dataset['pIC50'].describe()"
   ]
  },
  {
   "cell_type": "code",
   "execution_count": 50,
   "metadata": {
    "colab": {
     "base_uri": "https://localhost:8080/"
    },
    "id": "j-qwfzxWuo1B",
    "outputId": "9aa862be-6d79-441a-cdf0-23855bc15f09"
   },
   "outputs": [
    {
     "data": {
      "text/plain": [
       "(479, 559)"
      ]
     },
     "execution_count": 50,
     "metadata": {},
     "output_type": "execute_result"
    }
   ],
   "source": [
    "final_dataset.shape"
   ]
  },
  {
   "cell_type": "markdown",
   "metadata": {
    "id": "aHmCtRhYu8PR"
   },
   "source": [
    "### 5. Feature analysis"
   ]
  },
  {
   "cell_type": "markdown",
   "metadata": {
    "id": "V2HhLvMnyrPD"
   },
   "source": [
    "https://www.sciencedirect.com/science/article/pii/S0016236122006950?ref=pdf_download&fr=RR-2&rr=8fdc0950fb31ec1e\n",
    "https://iopscience.iop.org/article/10.1088/1742-6596/2219/1/012046/pdf"
   ]
  },
  {
   "cell_type": "markdown",
   "metadata": {
    "id": "-D0vqqakvvbc"
   },
   "source": [
    "**Simple correlation analysis with pIC50 feature**"
   ]
  },
  {
   "cell_type": "code",
   "execution_count": 13,
   "metadata": {
    "id": "h2C2HDsPnbgg"
   },
   "outputs": [
    {
     "name": "stdout",
     "output_type": "stream",
     "text": [
      "\n",
      "Top 20 most correlated features with pIC50:\n",
      "         feature  correlation_with_pIC50\n",
      "463  VSA_EState4               -0.404023\n",
      "502       naRing               -0.362539\n",
      "2      nAromBond               -0.359486\n",
      "266      nBondsA               -0.359486\n",
      "195      ATSC6se               -0.359026\n",
      "1      nAromAtom               -0.357425\n",
      "432   PEOE_VSA13                0.355883\n",
      "267      nBondsM               -0.348365\n",
      "442   SlogP_VSA3               -0.328671\n",
      "253      AATSC1v               -0.324394\n",
      "438     SMR_VSA7               -0.323100\n",
      "193      ATSC4se                0.322310\n",
      "212     ATSC6are               -0.317197\n",
      "513     n5AHRing                0.314285\n",
      "488        piPC8               -0.312378\n",
      "203      ATSC6pe               -0.306509\n",
      "491      TpiPC10               -0.304320\n",
      "465  VSA_EState6               -0.296629\n",
      "210     ATSC4are                0.294155\n",
      "269     nBondsKD               -0.293620\n"
     ]
    }
   ],
   "source": [
    "# Columns to preserve\n",
    "preserved_columns = ['ChEMBL_ID', 'smiles', 'pIC50']\n",
    "\n",
    "# Identify columns to compute correlations for\n",
    "numeric_columns = [col for col in final_dataset.columns if col not in preserved_columns]\n",
    "\n",
    "# Create a feature correlation matrix with pIC50\n",
    "correlations = pd.DataFrame({\n",
    "    'feature': numeric_columns,\n",
    "    'correlation_with_pIC50': [\n",
    "        final_dataset[col].corr(final_dataset['pIC50']) for col in numeric_columns\n",
    "    ]\n",
    "})\n",
    "\n",
    "# Sort correlations by absolute value\n",
    "correlations = correlations.sort_values('correlation_with_pIC50', key=abs, ascending=False)\n",
    "\n",
    "# Display the top 20 most correlated features\n",
    "print(\"\\nTop 20 most correlated features with pIC50:\")\n",
    "print(correlations.head(20))"
   ]
  },
  {
   "cell_type": "markdown",
   "metadata": {
    "id": "fPbN5Jxav4cz"
   },
   "source": [
    "**Recursive Feature Elimination (RFE) with an ensemble model estimator (Random Forest Regressor)**"
   ]
  },
  {
   "cell_type": "code",
   "execution_count": 14,
   "metadata": {
    "id": "0Pa5MyoMHRAe"
   },
   "outputs": [],
   "source": [
    "X = final_dataset.drop(['pIC50', 'ChEMBL_ID', 'smiles'], axis=1)\n",
    "y = final_dataset['pIC50']"
   ]
  },
  {
   "cell_type": "code",
   "execution_count": null,
   "metadata": {
    "id": "rcXTneQJRnF8"
   },
   "outputs": [],
   "source": [
    "#print(X.shape)\n",
    "#correlation_matrix = X.corr(method='spearman')\n",
    "\n",
    "#upper = correlation_matrix.where(np.triu(np.ones(correlation_matrix.shape), k=1).astype(bool))\n",
    "\n",
    " # Find features with correlation > 0.85\n",
    "#high_correlation_features = [column for column in upper.columns if any(upper[column] > 0.85)]\n",
    "\n",
    "# Drop highly correlated features\n",
    "#filtered_dataset = X.drop(columns=high_correlation_features)\n",
    "#print(filtered_dataset.shape)"
   ]
  },
  {
   "cell_type": "code",
   "execution_count": 16,
   "metadata": {
    "colab": {
     "base_uri": "https://localhost:8080/"
    },
    "id": "UoXCvQVda_no",
    "outputId": "5a433646-035f-4295-8950-b08f9c8cdcce"
   },
   "outputs": [
    {
     "name": "stdout",
     "output_type": "stream",
     "text": [
      "Removed 156 autocorrelation descriptors.\n"
     ]
    }
   ],
   "source": [
    "from sklearn.ensemble import RandomForestRegressor\n",
    "from sklearn.feature_selection import RFECV\n",
    "from sklearn.preprocessing import MinMaxScaler\n",
    "import pandas as pd\n",
    "import numpy as np\n",
    "\n",
    "\n",
    "def efficient_feature_selection(X: pd.DataFrame,\n",
    "                                y: pd.Series,\n",
    "                                min_features: int = 20,\n",
    "                                max_features: int = 30,\n",
    "                                random_state: int = 42):\n",
    "    \"\"\"\n",
    "    Efficient feature selection using a two-step approach:\n",
    "    1. Remove autocorrelation descriptors\n",
    "    2. Initial feature reduction using RandomForest importance\n",
    "    3. Fine-tuning using RFECV with reduced feature set\n",
    "    4. Post-processing to remove one of two highly correlated features.\n",
    "\n",
    "    Args:\n",
    "        X: Feature DataFrame\n",
    "        y: Target Series\n",
    "        min_features: Minimum number of features to select\n",
    "        max_features: Maximum number of features for initial filtering\n",
    "        random_state: Random seed for reproducibility\n",
    "\n",
    "    Returns:\n",
    "        Tuple of (selected features DataFrame, list of feature names)\n",
    "    \"\"\"\n",
    "    # Step 0: Remove autocorrelation descriptors\n",
    "    autocorr_keywords = [\"ATSC\", \"AATS\"]  # Keywords to identify autocorrelation descriptors\n",
    "    autocorr_features = [\n",
    "        col for col in X.columns if any(keyword in col for keyword in autocorr_keywords)\n",
    "    ]\n",
    "    X = X.drop(columns=autocorr_features)\n",
    "\n",
    "    print(f\"Removed {len(autocorr_features)} autocorrelation descriptors.\")\n",
    "\n",
    "    # Step 1: Scale the features\n",
    "    scaler = MinMaxScaler()\n",
    "    X_scaled = scaler.fit_transform(X)\n",
    "    X_scaled = pd.DataFrame(X_scaled, columns=X.columns)\n",
    "\n",
    "    # Step 2: Initial feature reduction using RandomForest importance\n",
    "    pre_selector = RandomForestRegressor(\n",
    "        n_estimators=200,\n",
    "        max_depth=10,\n",
    "        n_jobs=-1,\n",
    "        random_state=random_state\n",
    "    )\n",
    "\n",
    "    pre_selector.fit(X_scaled, y)\n",
    "\n",
    "    # Get feature importance and select top features\n",
    "    importances = pd.Series(pre_selector.feature_importances_, index=X.columns)\n",
    "    importances_sorted = importances.sort_values(ascending=False)\n",
    "\n",
    "    # Select top features (max_features or 2 * target_features, whichever is smaller)\n",
    "    n_features_to_keep = min(max_features, len(importances_sorted))\n",
    "    top_features = importances_sorted.head(n_features_to_keep).index.tolist()\n",
    "\n",
    "    # Step 3: Filter to top features\n",
    "    X_reduced = X_scaled[top_features]\n",
    "\n",
    "    # Step 4: Post-processing - Remove highly correlated features\n",
    "    # Calculate Pearson correlation\n",
    "    corr_matrix = X_reduced.corr(method='pearson').abs()\n",
    "    upper_triangle = np.triu(np.ones(corr_matrix.shape), k=1)\n",
    "    upper_corr_matrix = pd.DataFrame(corr_matrix.values * upper_triangle,\n",
    "                                     columns=corr_matrix.columns,\n",
    "                                     index=corr_matrix.index)\n",
    "\n",
    "    # Identify pairs of highly correlated features\n",
    "    high_corr_pairs = [(col1, col2)\n",
    "                       for col1 in upper_corr_matrix.columns\n",
    "                       for col2 in upper_corr_matrix.index\n",
    "                       if upper_corr_matrix.loc[col2, col1] > 0.9]  # Threshold for correlation\n",
    "\n",
    "    # Remove the feature with the smaller importance from each pair\n",
    "    features_to_remove = set()\n",
    "    for feat1, feat2 in high_corr_pairs:\n",
    "        if feat1 in importances and feat2 in importances:\n",
    "            # Compare importance and remove the less important feature\n",
    "            if importances[feat1] > importances[feat2]:\n",
    "                features_to_remove.add(feat2)\n",
    "            else:\n",
    "                features_to_remove.add(feat1)\n",
    "\n",
    "    # Remove highly correlated features\n",
    "    X_reduced = X_reduced.drop(columns=list(features_to_remove))\n",
    "    top_features = [feat for feat in top_features if feat not in features_to_remove]\n",
    "\n",
    "    # Step 5: RFECV on reduced feature set\n",
    "    rf_model = RandomForestRegressor(\n",
    "        n_estimators=500,\n",
    "        max_depth=15,\n",
    "        min_samples_leaf=2,\n",
    "        n_jobs=-1,\n",
    "        random_state=random_state\n",
    "    )\n",
    "\n",
    "    rfecv = RFECV(\n",
    "        estimator=rf_model,\n",
    "        step=1,\n",
    "        cv=5,\n",
    "        scoring=\"r2\",\n",
    "        n_jobs=-1,\n",
    "        min_features_to_select=min_features,\n",
    "        verbose=0\n",
    "    )\n",
    "\n",
    "    rfecv.fit(X_reduced, y)\n",
    "\n",
    "    # Get final selected features\n",
    "    final_features = X_reduced.columns[rfecv.support_].tolist()\n",
    "\n",
    "    # Calculate final feature importance\n",
    "    final_importance = pd.Series(\n",
    "        rfecv.estimator_.feature_importances_,\n",
    "        index=final_features\n",
    "    ).sort_values(ascending=False)\n",
    "\n",
    "    return X[final_features], final_features, final_importance\n",
    "\n",
    "\n",
    "X_selected, selected_features, final_importance = efficient_feature_selection(\n",
    "    X=X,\n",
    "    y=y,\n",
    "    min_features=20,\n",
    "    max_features=30\n",
    ")"
   ]
  },
  {
   "cell_type": "code",
   "execution_count": 17,
   "metadata": {
    "colab": {
     "base_uri": "https://localhost:8080/"
    },
    "id": "4w3CBZnmcJgT",
    "outputId": "89bf266d-4c90-454b-ab6a-b62f3be96eed"
   },
   "outputs": [
    {
     "data": {
      "text/plain": [
       "(479, 26)"
      ]
     },
     "execution_count": 17,
     "metadata": {},
     "output_type": "execute_result"
    }
   ],
   "source": [
    "X_selected.shape"
   ]
  },
  {
   "cell_type": "code",
   "execution_count": 32,
   "metadata": {
    "colab": {
     "base_uri": "https://localhost:8080/"
    },
    "id": "7qFIC_S0cMHU",
    "outputId": "cbbb8c9b-a9f3-4ac2-86e9-30ac8463b7d8"
   },
   "outputs": [
    {
     "data": {
      "image/png": "[encoded data removed]",
      "text/plain": [
       "<Figure size 640x480 with 1 Axes>"
      ]
     },
     "metadata": {},
     "output_type": "display_data"
    },
    {
     "data": {
      "text/plain": [
       "{'VSA_EState4': 1.0,\n",
       " 'SlogP_VSA3': 0.782486657434534,\n",
       " 'PNSA1': 0.7044288231518383,\n",
       " 'n5AHRing': 0.5600532643741104,\n",
       " 'PEOE_VSA13': 0.5491533707902546,\n",
       " 'VSA_EState8': 0.508237851628771,\n",
       " 'piPC10': 0.40808929856369763,\n",
       " 'GGI5': 0.39481754289581983,\n",
       " 'PNSA2': 0.3767608787007157,\n",
       " 'SaaCH': 0.32399763503777096,\n",
       " 'n6AHRing': 0.31661426010167376,\n",
       " 'FilterItLogS': 0.2764079885423614,\n",
       " 'PEOE_VSA9': 0.2704100391339851,\n",
       " 'SlogP_VSA10': 0.26324663331998477,\n",
       " 'BalabanJ': 0.25743697740929333,\n",
       " 'ZMIC2': 0.25614222377600465,\n",
       " 'Xpc-5dv': 0.24928902076467174,\n",
       " 'SsssN': 0.2236831868434542,\n",
       " 'MOMI-Z': 0.18579709714017092,\n",
       " 'SRW09': 0.16567232432479617,\n",
       " 'MDEC-33': 0.13662445404827409,\n",
       " 'VSA_EState7': 0.1230516530603891,\n",
       " 'RNCS': 0.06542493524293368,\n",
       " 'PEOE_VSA2': 0.046648844760509296,\n",
       " 'SLogP': 0.02204614370490793,\n",
       " 'PEOE_VSA7': 0.0}"
      ]
     },
     "execution_count": 32,
     "metadata": {},
     "output_type": "execute_result"
    }
   ],
   "source": [
    "final_importance_scaled = (final_importance - min(final_importance)) / (max(final_importance) - min(final_importance))\n",
    "importances_rfe = dict(zip(selected_features, final_importance_scaled))\n",
    "plt.barh(selected_features, final_importance_scaled)\n",
    "plt.show()\n",
    "with open('./data/importances_rfe_scaled.pickle', 'wb') as handle:\n",
    "    pickle.dump(importances_rfe, handle, protocol=pickle.HIGHEST_PROTOCOL)\n",
    "importances_rfe"
   ]
  },
  {
   "cell_type": "code",
   "execution_count": 33,
   "metadata": {
    "colab": {
     "base_uri": "https://localhost:8080/",
     "height": 342
    },
    "id": "-xyyGpwbwRnL",
    "outputId": "23afb9bf-dfb2-46e7-82d9-a24d831a71ea"
   },
   "outputs": [
    {
     "data": {
      "text/html": [
       "<div>\n",
       "<style scoped>\n",
       "    .dataframe tbody tr th:only-of-type {\n",
       "        vertical-align: middle;\n",
       "    }\n",
       "\n",
       "    .dataframe tbody tr th {\n",
       "        vertical-align: top;\n",
       "    }\n",
       "\n",
       "    .dataframe thead th {\n",
       "        text-align: right;\n",
       "    }\n",
       "</style>\n",
       "<table border=\"1\" class=\"dataframe\">\n",
       "  <thead>\n",
       "    <tr style=\"text-align: right;\">\n",
       "      <th></th>\n",
       "      <th>ChEMBL_ID</th>\n",
       "      <th>smiles</th>\n",
       "      <th>VSA_EState4</th>\n",
       "      <th>SlogP_VSA3</th>\n",
       "      <th>PNSA1</th>\n",
       "      <th>n5AHRing</th>\n",
       "      <th>PEOE_VSA13</th>\n",
       "      <th>VSA_EState8</th>\n",
       "      <th>piPC10</th>\n",
       "      <th>GGI5</th>\n",
       "      <th>...</th>\n",
       "      <th>SsssN</th>\n",
       "      <th>MOMI-Z</th>\n",
       "      <th>SRW09</th>\n",
       "      <th>MDEC-33</th>\n",
       "      <th>VSA_EState7</th>\n",
       "      <th>RNCS</th>\n",
       "      <th>PEOE_VSA2</th>\n",
       "      <th>SLogP</th>\n",
       "      <th>PEOE_VSA7</th>\n",
       "      <th>pIC50</th>\n",
       "    </tr>\n",
       "  </thead>\n",
       "  <tbody>\n",
       "    <tr>\n",
       "      <th>0</th>\n",
       "      <td>CHEMBL303519</td>\n",
       "      <td>c1cnc(N2CCN(Cc3cccc4c3Cc3ccccc3-4)CC2)nc1</td>\n",
       "      <td>7.288376</td>\n",
       "      <td>12.965578</td>\n",
       "      <td>334.788572</td>\n",
       "      <td>0.0</td>\n",
       "      <td>0.0</td>\n",
       "      <td>5.100114</td>\n",
       "      <td>7.484263</td>\n",
       "      <td>0.524444</td>\n",
       "      <td>...</td>\n",
       "      <td>4.833147</td>\n",
       "      <td>1017.293034</td>\n",
       "      <td>7.065613</td>\n",
       "      <td>5.451870</td>\n",
       "      <td>4.707134</td>\n",
       "      <td>22.155967</td>\n",
       "      <td>4.899910</td>\n",
       "      <td>3.3700</td>\n",
       "      <td>40.304446</td>\n",
       "      <td>5.01</td>\n",
       "    </tr>\n",
       "    <tr>\n",
       "      <th>1</th>\n",
       "      <td>CHEMBL292943</td>\n",
       "      <td>COc1ccc(-c2cccc(CN3CCN(c4ncccn4)CC3)c2)cc1</td>\n",
       "      <td>3.794351</td>\n",
       "      <td>6.544756</td>\n",
       "      <td>299.468079</td>\n",
       "      <td>0.0</td>\n",
       "      <td>0.0</td>\n",
       "      <td>4.924489</td>\n",
       "      <td>7.100949</td>\n",
       "      <td>0.687500</td>\n",
       "      <td>...</td>\n",
       "      <td>4.746878</td>\n",
       "      <td>1628.770985</td>\n",
       "      <td>0.000000</td>\n",
       "      <td>2.317315</td>\n",
       "      <td>3.609869</td>\n",
       "      <td>83.406308</td>\n",
       "      <td>4.899910</td>\n",
       "      <td>3.4744</td>\n",
       "      <td>40.955823</td>\n",
       "      <td>7.30</td>\n",
       "    </tr>\n",
       "    <tr>\n",
       "      <th>2</th>\n",
       "      <td>CHEMBL61682</td>\n",
       "      <td>Fc1ccc(-c2cncc(CN3CCN(c4ccccc4F)CC3)c2)cc1</td>\n",
       "      <td>3.736949</td>\n",
       "      <td>6.544756</td>\n",
       "      <td>376.297486</td>\n",
       "      <td>0.0</td>\n",
       "      <td>0.0</td>\n",
       "      <td>4.134322</td>\n",
       "      <td>7.054686</td>\n",
       "      <td>0.652778</td>\n",
       "      <td>...</td>\n",
       "      <td>4.446251</td>\n",
       "      <td>1746.263595</td>\n",
       "      <td>0.000000</td>\n",
       "      <td>3.103576</td>\n",
       "      <td>3.669760</td>\n",
       "      <td>14.903160</td>\n",
       "      <td>9.883888</td>\n",
       "      <td>4.3490</td>\n",
       "      <td>41.458738</td>\n",
       "      <td>7.60</td>\n",
       "    </tr>\n",
       "    <tr>\n",
       "      <th>3</th>\n",
       "      <td>CHEMBL64487</td>\n",
       "      <td>COc1ccccc1-c1cccc(CN2CCN(c3ncccn3)CC2)c1</td>\n",
       "      <td>3.649986</td>\n",
       "      <td>6.544756</td>\n",
       "      <td>298.763399</td>\n",
       "      <td>0.0</td>\n",
       "      <td>0.0</td>\n",
       "      <td>4.882123</td>\n",
       "      <td>7.004265</td>\n",
       "      <td>0.659722</td>\n",
       "      <td>...</td>\n",
       "      <td>4.738625</td>\n",
       "      <td>983.746076</td>\n",
       "      <td>0.000000</td>\n",
       "      <td>2.939866</td>\n",
       "      <td>3.607263</td>\n",
       "      <td>37.485901</td>\n",
       "      <td>4.899910</td>\n",
       "      <td>3.4744</td>\n",
       "      <td>29.326004</td>\n",
       "      <td>6.44</td>\n",
       "    </tr>\n",
       "    <tr>\n",
       "      <th>4</th>\n",
       "      <td>CHEMBL64597</td>\n",
       "      <td>c1cnc(N2CCN(Cc3cccc(-c4ccsc4)c3)CC2)nc1</td>\n",
       "      <td>4.000998</td>\n",
       "      <td>6.544756</td>\n",
       "      <td>290.488729</td>\n",
       "      <td>0.0</td>\n",
       "      <td>0.0</td>\n",
       "      <td>5.047420</td>\n",
       "      <td>6.652319</td>\n",
       "      <td>0.444444</td>\n",
       "      <td>...</td>\n",
       "      <td>4.768305</td>\n",
       "      <td>1652.127534</td>\n",
       "      <td>6.293419</td>\n",
       "      <td>1.618870</td>\n",
       "      <td>3.620325</td>\n",
       "      <td>25.223960</td>\n",
       "      <td>4.899910</td>\n",
       "      <td>3.5273</td>\n",
       "      <td>45.649581</td>\n",
       "      <td>6.52</td>\n",
       "    </tr>\n",
       "  </tbody>\n",
       "</table>\n",
       "<p>5 rows × 29 columns</p>\n",
       "</div>"
      ],
      "text/plain": [
       "      ChEMBL_ID                                      smiles  VSA_EState4  \\\n",
       "0  CHEMBL303519   c1cnc(N2CCN(Cc3cccc4c3Cc3ccccc3-4)CC2)nc1     7.288376   \n",
       "1  CHEMBL292943  COc1ccc(-c2cccc(CN3CCN(c4ncccn4)CC3)c2)cc1     3.794351   \n",
       "2   CHEMBL61682  Fc1ccc(-c2cncc(CN3CCN(c4ccccc4F)CC3)c2)cc1     3.736949   \n",
       "3   CHEMBL64487    COc1ccccc1-c1cccc(CN2CCN(c3ncccn3)CC2)c1     3.649986   \n",
       "4   CHEMBL64597     c1cnc(N2CCN(Cc3cccc(-c4ccsc4)c3)CC2)nc1     4.000998   \n",
       "\n",
       "   SlogP_VSA3       PNSA1  n5AHRing  PEOE_VSA13  VSA_EState8    piPC10  \\\n",
       "0   12.965578  334.788572       0.0         0.0     5.100114  7.484263   \n",
       "1    6.544756  299.468079       0.0         0.0     4.924489  7.100949   \n",
       "2    6.544756  376.297486       0.0         0.0     4.134322  7.054686   \n",
       "3    6.544756  298.763399       0.0         0.0     4.882123  7.004265   \n",
       "4    6.544756  290.488729       0.0         0.0     5.047420  6.652319   \n",
       "\n",
       "       GGI5  ...     SsssN       MOMI-Z     SRW09   MDEC-33  VSA_EState7  \\\n",
       "0  0.524444  ...  4.833147  1017.293034  7.065613  5.451870     4.707134   \n",
       "1  0.687500  ...  4.746878  1628.770985  0.000000  2.317315     3.609869   \n",
       "2  0.652778  ...  4.446251  1746.263595  0.000000  3.103576     3.669760   \n",
       "3  0.659722  ...  4.738625   983.746076  0.000000  2.939866     3.607263   \n",
       "4  0.444444  ...  4.768305  1652.127534  6.293419  1.618870     3.620325   \n",
       "\n",
       "        RNCS  PEOE_VSA2   SLogP  PEOE_VSA7  pIC50  \n",
       "0  22.155967   4.899910  3.3700  40.304446   5.01  \n",
       "1  83.406308   4.899910  3.4744  40.955823   7.30  \n",
       "2  14.903160   9.883888  4.3490  41.458738   7.60  \n",
       "3  37.485901   4.899910  3.4744  29.326004   6.44  \n",
       "4  25.223960   4.899910  3.5273  45.649581   6.52  \n",
       "\n",
       "[5 rows x 29 columns]"
      ]
     },
     "execution_count": 33,
     "metadata": {},
     "output_type": "execute_result"
    }
   ],
   "source": [
    "# Extract the ChEMBL_ID and smiles columns\n",
    "chembl_smiles = final_dataset[['ChEMBL_ID', 'smiles']]\n",
    "\n",
    "# Combine X_selected, chembl_smiles, and y into a single DataFrame\n",
    "rfe_dataset = pd.concat([chembl_smiles.reset_index(drop=True), X_selected.reset_index(drop=True), y.reset_index(drop=True)], axis=1)\n",
    "\n",
    "# Display the first few rows of the final dataset\n",
    "rfe_dataset.head()"
   ]
  },
  {
   "cell_type": "code",
   "execution_count": 35,
   "metadata": {
    "id": "lHA6Ym3v5gNA"
   },
   "outputs": [],
   "source": [
    "rfe_dataset.to_csv('rfe_dataset.csv', index=False)"
   ]
  },
  {
   "cell_type": "markdown",
   "metadata": {
    "id": "9gw7OvbbVWbZ"
   },
   "source": [
    "### 6. Skaliranje podatka\n",
    "\n",
    "Define and initialize scaler by using Scikit-learn Python package. Scale the data appropriately.\n",
    "\n",
    "- https://scikit-learn.org/1.5/modules/preprocessing.html -> trebalo bi proučiti i odabrati scaler na temelju značajki (?)"
   ]
  },
  {
   "cell_type": "code",
   "execution_count": 34,
   "metadata": {
    "id": "t--5GkjnVWbZ"
   },
   "outputs": [
    {
     "data": {
      "text/html": [
       "<div>\n",
       "<style scoped>\n",
       "    .dataframe tbody tr th:only-of-type {\n",
       "        vertical-align: middle;\n",
       "    }\n",
       "\n",
       "    .dataframe tbody tr th {\n",
       "        vertical-align: top;\n",
       "    }\n",
       "\n",
       "    .dataframe thead th {\n",
       "        text-align: right;\n",
       "    }\n",
       "</style>\n",
       "<table border=\"1\" class=\"dataframe\">\n",
       "  <thead>\n",
       "    <tr style=\"text-align: right;\">\n",
       "      <th></th>\n",
       "      <th>VSA_EState4</th>\n",
       "      <th>SlogP_VSA3</th>\n",
       "      <th>PNSA1</th>\n",
       "      <th>n5AHRing</th>\n",
       "      <th>PEOE_VSA13</th>\n",
       "      <th>VSA_EState8</th>\n",
       "      <th>piPC10</th>\n",
       "      <th>GGI5</th>\n",
       "      <th>PNSA2</th>\n",
       "      <th>SaaCH</th>\n",
       "      <th>...</th>\n",
       "      <th>SsssN</th>\n",
       "      <th>MOMI-Z</th>\n",
       "      <th>SRW09</th>\n",
       "      <th>MDEC-33</th>\n",
       "      <th>VSA_EState7</th>\n",
       "      <th>RNCS</th>\n",
       "      <th>PEOE_VSA2</th>\n",
       "      <th>SLogP</th>\n",
       "      <th>PEOE_VSA7</th>\n",
       "      <th>pIC50</th>\n",
       "    </tr>\n",
       "  </thead>\n",
       "  <tbody>\n",
       "    <tr>\n",
       "      <th>count</th>\n",
       "      <td>479.000000</td>\n",
       "      <td>479.000000</td>\n",
       "      <td>479.000000</td>\n",
       "      <td>479.000000</td>\n",
       "      <td>479.000000</td>\n",
       "      <td>479.000000</td>\n",
       "      <td>479.000000</td>\n",
       "      <td>479.000000</td>\n",
       "      <td>479.000000</td>\n",
       "      <td>479.000000</td>\n",
       "      <td>...</td>\n",
       "      <td>479.000000</td>\n",
       "      <td>479.000000</td>\n",
       "      <td>479.000000</td>\n",
       "      <td>479.000000</td>\n",
       "      <td>479.000000</td>\n",
       "      <td>479.000000</td>\n",
       "      <td>479.000000</td>\n",
       "      <td>479.000000</td>\n",
       "      <td>479.000000</td>\n",
       "      <td>479.000000</td>\n",
       "    </tr>\n",
       "    <tr>\n",
       "      <th>mean</th>\n",
       "      <td>3.511664</td>\n",
       "      <td>8.869217</td>\n",
       "      <td>455.352113</td>\n",
       "      <td>0.246347</td>\n",
       "      <td>2.370399</td>\n",
       "      <td>4.992059</td>\n",
       "      <td>6.564984</td>\n",
       "      <td>0.902318</td>\n",
       "      <td>-1161.299720</td>\n",
       "      <td>13.802913</td>\n",
       "      <td>...</td>\n",
       "      <td>3.601870</td>\n",
       "      <td>2456.470521</td>\n",
       "      <td>4.798601</td>\n",
       "      <td>6.015234</td>\n",
       "      <td>3.010905</td>\n",
       "      <td>115.141956</td>\n",
       "      <td>8.355316</td>\n",
       "      <td>3.971955</td>\n",
       "      <td>51.043466</td>\n",
       "      <td>6.698689</td>\n",
       "    </tr>\n",
       "    <tr>\n",
       "      <th>std</th>\n",
       "      <td>3.019910</td>\n",
       "      <td>9.045399</td>\n",
       "      <td>114.909630</td>\n",
       "      <td>0.498808</td>\n",
       "      <td>3.247519</td>\n",
       "      <td>2.480048</td>\n",
       "      <td>1.098607</td>\n",
       "      <td>0.497972</td>\n",
       "      <td>764.888119</td>\n",
       "      <td>6.974668</td>\n",
       "      <td>...</td>\n",
       "      <td>2.302094</td>\n",
       "      <td>2275.923473</td>\n",
       "      <td>3.172723</td>\n",
       "      <td>3.705690</td>\n",
       "      <td>3.093218</td>\n",
       "      <td>103.118279</td>\n",
       "      <td>6.177917</td>\n",
       "      <td>1.551246</td>\n",
       "      <td>18.073433</td>\n",
       "      <td>1.070454</td>\n",
       "    </tr>\n",
       "    <tr>\n",
       "      <th>min</th>\n",
       "      <td>-4.611479</td>\n",
       "      <td>0.000000</td>\n",
       "      <td>217.677070</td>\n",
       "      <td>0.000000</td>\n",
       "      <td>0.000000</td>\n",
       "      <td>0.000000</td>\n",
       "      <td>0.000000</td>\n",
       "      <td>0.080000</td>\n",
       "      <td>-5450.588604</td>\n",
       "      <td>0.000000</td>\n",
       "      <td>...</td>\n",
       "      <td>0.000000</td>\n",
       "      <td>121.256226</td>\n",
       "      <td>0.000000</td>\n",
       "      <td>0.000082</td>\n",
       "      <td>-5.954362</td>\n",
       "      <td>0.000000</td>\n",
       "      <td>0.000000</td>\n",
       "      <td>-0.294000</td>\n",
       "      <td>16.690354</td>\n",
       "      <td>4.520000</td>\n",
       "    </tr>\n",
       "    <tr>\n",
       "      <th>25%</th>\n",
       "      <td>1.591270</td>\n",
       "      <td>0.000000</td>\n",
       "      <td>380.669272</td>\n",
       "      <td>0.000000</td>\n",
       "      <td>0.000000</td>\n",
       "      <td>3.080756</td>\n",
       "      <td>5.848215</td>\n",
       "      <td>0.631944</td>\n",
       "      <td>-1329.318059</td>\n",
       "      <td>8.686502</td>\n",
       "      <td>...</td>\n",
       "      <td>2.374945</td>\n",
       "      <td>1227.215312</td>\n",
       "      <td>0.000000</td>\n",
       "      <td>3.596269</td>\n",
       "      <td>1.345885</td>\n",
       "      <td>22.780482</td>\n",
       "      <td>4.794537</td>\n",
       "      <td>2.993000</td>\n",
       "      <td>40.955823</td>\n",
       "      <td>5.865000</td>\n",
       "    </tr>\n",
       "    <tr>\n",
       "      <th>50%</th>\n",
       "      <td>2.720266</td>\n",
       "      <td>6.544756</td>\n",
       "      <td>432.690785</td>\n",
       "      <td>0.000000</td>\n",
       "      <td>0.000000</td>\n",
       "      <td>4.881303</td>\n",
       "      <td>6.688861</td>\n",
       "      <td>0.771111</td>\n",
       "      <td>-954.983423</td>\n",
       "      <td>14.654307</td>\n",
       "      <td>...</td>\n",
       "      <td>4.139771</td>\n",
       "      <td>1966.279750</td>\n",
       "      <td>6.555357</td>\n",
       "      <td>5.423957</td>\n",
       "      <td>2.281897</td>\n",
       "      <td>81.243580</td>\n",
       "      <td>9.694447</td>\n",
       "      <td>3.809000</td>\n",
       "      <td>48.687878</td>\n",
       "      <td>6.600000</td>\n",
       "    </tr>\n",
       "    <tr>\n",
       "      <th>75%</th>\n",
       "      <td>4.623396</td>\n",
       "      <td>12.965578</td>\n",
       "      <td>510.330018</td>\n",
       "      <td>0.000000</td>\n",
       "      <td>5.907180</td>\n",
       "      <td>6.042729</td>\n",
       "      <td>7.190784</td>\n",
       "      <td>0.982778</td>\n",
       "      <td>-715.490882</td>\n",
       "      <td>18.594115</td>\n",
       "      <td>...</td>\n",
       "      <td>4.802668</td>\n",
       "      <td>2962.300779</td>\n",
       "      <td>6.985642</td>\n",
       "      <td>7.838813</td>\n",
       "      <td>4.023230</td>\n",
       "      <td>194.140601</td>\n",
       "      <td>9.694447</td>\n",
       "      <td>4.713200</td>\n",
       "      <td>56.555479</td>\n",
       "      <td>7.450000</td>\n",
       "    </tr>\n",
       "    <tr>\n",
       "      <th>max</th>\n",
       "      <td>12.940733</td>\n",
       "      <td>61.636893</td>\n",
       "      <td>1033.352128</td>\n",
       "      <td>3.000000</td>\n",
       "      <td>21.936353</td>\n",
       "      <td>17.524680</td>\n",
       "      <td>8.689270</td>\n",
       "      <td>3.872222</td>\n",
       "      <td>-215.095212</td>\n",
       "      <td>34.474410</td>\n",
       "      <td>...</td>\n",
       "      <td>19.689847</td>\n",
       "      <td>19872.818215</td>\n",
       "      <td>8.188967</td>\n",
       "      <td>27.180899</td>\n",
       "      <td>25.981205</td>\n",
       "      <td>677.258994</td>\n",
       "      <td>49.636631</td>\n",
       "      <td>12.453600</td>\n",
       "      <td>185.685322</td>\n",
       "      <td>9.540000</td>\n",
       "    </tr>\n",
       "  </tbody>\n",
       "</table>\n",
       "<p>8 rows × 27 columns</p>\n",
       "</div>"
      ],
      "text/plain": [
       "       VSA_EState4  SlogP_VSA3        PNSA1    n5AHRing  PEOE_VSA13  \\\n",
       "count   479.000000  479.000000   479.000000  479.000000  479.000000   \n",
       "mean      3.511664    8.869217   455.352113    0.246347    2.370399   \n",
       "std       3.019910    9.045399   114.909630    0.498808    3.247519   \n",
       "min      -4.611479    0.000000   217.677070    0.000000    0.000000   \n",
       "25%       1.591270    0.000000   380.669272    0.000000    0.000000   \n",
       "50%       2.720266    6.544756   432.690785    0.000000    0.000000   \n",
       "75%       4.623396   12.965578   510.330018    0.000000    5.907180   \n",
       "max      12.940733   61.636893  1033.352128    3.000000   21.936353   \n",
       "\n",
       "       VSA_EState8      piPC10        GGI5        PNSA2       SaaCH  ...  \\\n",
       "count   479.000000  479.000000  479.000000   479.000000  479.000000  ...   \n",
       "mean      4.992059    6.564984    0.902318 -1161.299720   13.802913  ...   \n",
       "std       2.480048    1.098607    0.497972   764.888119    6.974668  ...   \n",
       "min       0.000000    0.000000    0.080000 -5450.588604    0.000000  ...   \n",
       "25%       3.080756    5.848215    0.631944 -1329.318059    8.686502  ...   \n",
       "50%       4.881303    6.688861    0.771111  -954.983423   14.654307  ...   \n",
       "75%       6.042729    7.190784    0.982778  -715.490882   18.594115  ...   \n",
       "max      17.524680    8.689270    3.872222  -215.095212   34.474410  ...   \n",
       "\n",
       "            SsssN        MOMI-Z       SRW09     MDEC-33  VSA_EState7  \\\n",
       "count  479.000000    479.000000  479.000000  479.000000   479.000000   \n",
       "mean     3.601870   2456.470521    4.798601    6.015234     3.010905   \n",
       "std      2.302094   2275.923473    3.172723    3.705690     3.093218   \n",
       "min      0.000000    121.256226    0.000000    0.000082    -5.954362   \n",
       "25%      2.374945   1227.215312    0.000000    3.596269     1.345885   \n",
       "50%      4.139771   1966.279750    6.555357    5.423957     2.281897   \n",
       "75%      4.802668   2962.300779    6.985642    7.838813     4.023230   \n",
       "max     19.689847  19872.818215    8.188967   27.180899    25.981205   \n",
       "\n",
       "             RNCS   PEOE_VSA2       SLogP   PEOE_VSA7       pIC50  \n",
       "count  479.000000  479.000000  479.000000  479.000000  479.000000  \n",
       "mean   115.141956    8.355316    3.971955   51.043466    6.698689  \n",
       "std    103.118279    6.177917    1.551246   18.073433    1.070454  \n",
       "min      0.000000    0.000000   -0.294000   16.690354    4.520000  \n",
       "25%     22.780482    4.794537    2.993000   40.955823    5.865000  \n",
       "50%     81.243580    9.694447    3.809000   48.687878    6.600000  \n",
       "75%    194.140601    9.694447    4.713200   56.555479    7.450000  \n",
       "max    677.258994   49.636631   12.453600  185.685322    9.540000  \n",
       "\n",
       "[8 rows x 27 columns]"
      ]
     },
     "execution_count": 34,
     "metadata": {},
     "output_type": "execute_result"
    }
   ],
   "source": [
    "rfe_dataset.describe()"
   ]
  },
  {
   "cell_type": "code",
   "execution_count": 52,
   "metadata": {
    "id": "w_N-LXFnVWba"
   },
   "outputs": [],
   "source": [
    "scaled_df = rfe_dataset.copy()\n",
    "# scaled_df = final_dataset.copy()\n",
    "\n",
    "scaler = preprocessing.MinMaxScaler()\n",
    "for col in scaled_df:\n",
    "   if pd.api.types.is_numeric_dtype(scaled_df[col]):\n",
    "       scaled_df[col] = scaler.fit_transform(np.array(scaled_df[col]).reshape(-1, 1))\n",
    "\n",
    "scaled_df.describe()\n",
    "final_dataset = scaled_df.copy()"
   ]
  },
  {
   "cell_type": "markdown",
   "metadata": {
    "id": "d3U18axJxX7T"
   },
   "source": [
    "### 6. Splitting\n",
    "Split the preprocessed dataset into subset for training and subset for testing in ratio 75:25. If using deep learning, split into subset for validation as well (ratio 70:15:15)"
   ]
  },
  {
   "cell_type": "code",
   "execution_count": 53,
   "metadata": {
    "id": "oeDyA--jxyKb"
   },
   "outputs": [],
   "source": [
    "train, test = train_test_split(rfe_dataset, test_size=0.25, random_state=42)\n",
    "\n",
    "train_DL, test_DL = train_test_split(rfe_dataset, test_size=0.3, random_state=42)\n",
    "validate_DL, test_DL = train_test_split(test_DL, test_size=0.5, random_state=42)\n",
    "\n",
    "train.to_pickle(\"./data/train_rfe.pkl\")\n",
    "test.to_pickle(\"./data/test_rfe.pkl\")\n",
    "train_DL.to_pickle(\"./data/train_DL_rfe.pkl\")\n",
    "test_DL.to_pickle(\"./data/test_DL_rfe.pkl\")\n",
    "validate_DL.to_pickle(\"./data/validate_DL_rfe.pkl\")"
   ]
  }
 ],
 "metadata": {
  "colab": {
   "collapsed_sections": [
    "9gw7OvbbVWbZ"
   ],
   "provenance": []
  },
  "kernelspec": {
   "display_name": "base",
   "language": "python",
   "name": "python3"
  },
  "language_info": {
   "codemirror_mode": {
    "name": "ipython",
    "version": 3
   },
   "file_extension": ".py",
   "mimetype": "text/x-python",
   "name": "python",
   "nbconvert_exporter": "python",
   "pygments_lexer": "ipython3",
   "version": "3.11.4"
  }
 },
 "nbformat": 4,
 "nbformat_minor": 0
}
